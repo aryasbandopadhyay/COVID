{
  "nbformat": 4,
  "nbformat_minor": 0,
  "metadata": {
    "colab": {
      "name": "COVID19 Prediction.ipynb",
      "provenance": [],
      "collapsed_sections": [
        "EsVRIFMLoV_3",
        "6BthA7XNoBnx",
        "9lmtGPPCwHta"
      ],
      "include_colab_link": true
    },
    "kernelspec": {
      "name": "python3",
      "display_name": "Python 3"
    }
  },
  "cells": [
    {
      "cell_type": "markdown",
      "metadata": {
        "id": "view-in-github",
        "colab_type": "text"
      },
      "source": [
        "<a href=\"https://colab.research.google.com/github/snoop2head/COVID19/blob/master/COVID19_Prediction.ipynb\" target=\"_parent\"><img src=\"https://colab.research.google.com/assets/colab-badge.svg\" alt=\"Open In Colab\"/></a>"
      ]
    },
    {
      "cell_type": "code",
      "metadata": {
        "id": "piXlMqoHdl5b",
        "colab_type": "code",
        "outputId": "04132ef5-9695-4264-e81a-0f50b190bd08",
        "colab": {
          "base_uri": "https://localhost:8080/",
          "height": 34
        }
      },
      "source": [
        "# mount on drive\n",
        "# 구글 드라이브와 구글 Colab 연동하기: 밑에 있는 링크를 클릭해서, authentification key를 복사해서 붙여넣으세요.\n",
        "from google.colab import drive\n",
        "drive.mount('/content/drive')"
      ],
      "execution_count": 0,
      "outputs": [
        {
          "output_type": "stream",
          "text": [
            "Drive already mounted at /content/drive; to attempt to forcibly remount, call drive.mount(\"/content/drive\", force_remount=True).\n"
          ],
          "name": "stdout"
        }
      ]
    },
    {
      "cell_type": "code",
      "metadata": {
        "id": "bcXzVXbfQc92",
        "colab_type": "code",
        "colab": {}
      },
      "source": [
        "# ignore warnings \n",
        "# R, python3 패키지 다운로드 받을 때 경고를 출력하지 않기 \n",
        "import warnings\n",
        "warnings.filterwarnings('ignore')"
      ],
      "execution_count": 0,
      "outputs": []
    },
    {
      "cell_type": "markdown",
      "metadata": {
        "id": "f1S90bdBVIaK",
        "colab_type": "text"
      },
      "source": [
        "# CoronaVirus Prediction"
      ]
    },
    {
      "cell_type": "code",
      "metadata": {
        "id": "qHa4dZtoAV09",
        "colab_type": "code",
        "colab": {}
      },
      "source": [
        "import numpy as np\n",
        "from math import sqrt\n",
        "from sklearn.metrics import mean_squared_error\n",
        "import pandas as pd\n",
        "\n",
        "# bring data from Novel Coronavirus (COVID-19) Cases, provided by Johns Hopkins University CSSE \n",
        "# 존스홉킨스대학 CSSE github repository에서 데이터를 가져옵니다.\n",
        "# https://github.com/CSSEGISandData/COVID-19\n",
        "\n",
        "# confirmed cases / 확진자 dataframe\n",
        "url = 'https://raw.githubusercontent.com/CSSEGISandData/COVID-19/master/csse_covid_19_data/csse_covid_19_time_series/time_series_19-covid-Confirmed.csv'\n",
        "confirmed = pd.read_csv(url, error_bad_lines=False)\n",
        "\n",
        "# deceased cases / 사망자 dataframe\n",
        "url = 'https://raw.githubusercontent.com/CSSEGISandData/COVID-19/master/csse_covid_19_data/csse_covid_19_time_series/time_series_19-covid-Deaths.csv'\n",
        "death = pd.read_csv(url, error_bad_lines=False)\n",
        "\n",
        "# recovered cases / 완치자 dataframe\n",
        "url = 'https://raw.githubusercontent.com/CSSEGISandData/COVID-19/master/csse_covid_19_data/csse_covid_19_time_series/time_series_19-covid-Recovered.csv'\n",
        "recover = pd.read_csv(url, error_bad_lines=False)\n",
        "\n",
        "# fix region names / 지역 이름 변경\n",
        "confirmed['Country/Region']= confirmed['Country/Region'].str.replace(\"Mainland China\", \"China\")\n",
        "confirmed['Country/Region']= confirmed['Country/Region'].str.replace(\"US\", \"Unites States\")\n",
        "death['Country/Region']= death['Country/Region'].str.replace(\"Mainland China\", \"China\")\n",
        "death['Country/Region']= death['Country/Region'].str.replace(\"US\", \"Unites States\")\n",
        "recover['Country/Region']= recover['Country/Region'].str.replace(\"Mainland China\", \"China\")\n",
        "recover['Country/Region']= recover['Country/Region'].str.replace(\"US\", \"Unites States\")"
      ],
      "execution_count": 0,
      "outputs": []
    },
    {
      "cell_type": "code",
      "metadata": {
        "id": "BVoVpo0wWJGj",
        "colab_type": "code",
        "outputId": "0edff8ea-76e7-472c-ab1a-5dea40fa9529",
        "colab": {
          "base_uri": "https://localhost:8080/",
          "height": 34
        }
      },
      "source": [
        "# Check the dates of the latest JHU CSSE data\n",
        "# 존스홉킨스 대학의 데이터셋은 매일 업데이트 됩니다. 방금 가져온 데이터의 날짜를 확인합니다. \n",
        "confirmed.columns[-1:]"
      ],
      "execution_count": 0,
      "outputs": [
        {
          "output_type": "execute_result",
          "data": {
            "text/plain": [
              "Index(['2/29/20'], dtype='object')"
            ]
          },
          "metadata": {
            "tags": []
          },
          "execution_count": 4
        }
      ]
    },
    {
      "cell_type": "markdown",
      "metadata": {
        "id": "Vvb-N49UipcR",
        "colab_type": "text"
      },
      "source": [
        "## Get Population"
      ]
    },
    {
      "cell_type": "code",
      "metadata": {
        "id": "2h7I0zT9kmFS",
        "colab_type": "code",
        "outputId": "6ee145e4-aba3-4ee6-dd14-b93b0199ec4f",
        "colab": {
          "base_uri": "https://localhost:8080/",
          "height": 204
        }
      },
      "source": [
        "# read population data for each province. China is divided into region whereas other regions of the world is nation \n",
        "# 인구 데이터를 불러옵니다. 중국 인구 데이터는 성(省)으로 분류되어 있으며, 나머지 인구데이터는 국가 별로 분류되어 있습니다.\n",
        "population=pd.read_csv('https://raw.githubusercontent.com/Rank23/COVID19/master/population.csv', sep=',', encoding='latin1') \n",
        "population.head()"
      ],
      "execution_count": 0,
      "outputs": [
        {
          "output_type": "execute_result",
          "data": {
            "text/html": [
              "<div>\n",
              "<style scoped>\n",
              "    .dataframe tbody tr th:only-of-type {\n",
              "        vertical-align: middle;\n",
              "    }\n",
              "\n",
              "    .dataframe tbody tr th {\n",
              "        vertical-align: top;\n",
              "    }\n",
              "\n",
              "    .dataframe thead th {\n",
              "        text-align: right;\n",
              "    }\n",
              "</style>\n",
              "<table border=\"1\" class=\"dataframe\">\n",
              "  <thead>\n",
              "    <tr style=\"text-align: right;\">\n",
              "      <th></th>\n",
              "      <th>Province/State</th>\n",
              "      <th>Country/Region</th>\n",
              "      <th>Population</th>\n",
              "    </tr>\n",
              "  </thead>\n",
              "  <tbody>\n",
              "    <tr>\n",
              "      <th>0</th>\n",
              "      <td>Anhui</td>\n",
              "      <td>China</td>\n",
              "      <td>62,000,000</td>\n",
              "    </tr>\n",
              "    <tr>\n",
              "      <th>1</th>\n",
              "      <td>Beijing</td>\n",
              "      <td>China</td>\n",
              "      <td>21,710,000</td>\n",
              "    </tr>\n",
              "    <tr>\n",
              "      <th>2</th>\n",
              "      <td>Chongqing</td>\n",
              "      <td>China</td>\n",
              "      <td>7,990,000</td>\n",
              "    </tr>\n",
              "    <tr>\n",
              "      <th>3</th>\n",
              "      <td>Fujian</td>\n",
              "      <td>China</td>\n",
              "      <td>36,894,216</td>\n",
              "    </tr>\n",
              "    <tr>\n",
              "      <th>4</th>\n",
              "      <td>Gansu</td>\n",
              "      <td>China</td>\n",
              "      <td>25,575,254</td>\n",
              "    </tr>\n",
              "  </tbody>\n",
              "</table>\n",
              "</div>"
            ],
            "text/plain": [
              "  Province/State Country/Region  Population \n",
              "0          Anhui          China   62,000,000\n",
              "1        Beijing          China   21,710,000\n",
              "2      Chongqing          China    7,990,000\n",
              "3         Fujian          China   36,894,216\n",
              "4          Gansu          China   25,575,254"
            ]
          },
          "metadata": {
            "tags": []
          },
          "execution_count": 5
        }
      ]
    },
    {
      "cell_type": "code",
      "metadata": {
        "id": "gcvBaeozejj2",
        "colab_type": "code",
        "outputId": "3120295f-d963-4798-e76d-53dcda28df94",
        "colab": {
          "base_uri": "https://localhost:8080/",
          "height": 224
        }
      },
      "source": [
        "confirmed=pd.merge(confirmed, population,how='left' ,on=['Province/State','Country/Region'])\n",
        "death=pd.merge(death, population,how='left' ,on=['Province/State','Country/Region'])\n",
        "recover=pd.merge(recover, population,how='left' ,on=['Province/State','Country/Region'])\n",
        "confirmed.head()"
      ],
      "execution_count": 0,
      "outputs": [
        {
          "output_type": "execute_result",
          "data": {
            "text/html": [
              "<div>\n",
              "<style scoped>\n",
              "    .dataframe tbody tr th:only-of-type {\n",
              "        vertical-align: middle;\n",
              "    }\n",
              "\n",
              "    .dataframe tbody tr th {\n",
              "        vertical-align: top;\n",
              "    }\n",
              "\n",
              "    .dataframe thead th {\n",
              "        text-align: right;\n",
              "    }\n",
              "</style>\n",
              "<table border=\"1\" class=\"dataframe\">\n",
              "  <thead>\n",
              "    <tr style=\"text-align: right;\">\n",
              "      <th></th>\n",
              "      <th>Province/State</th>\n",
              "      <th>Country/Region</th>\n",
              "      <th>Lat</th>\n",
              "      <th>Long</th>\n",
              "      <th>1/22/20</th>\n",
              "      <th>1/23/20</th>\n",
              "      <th>1/24/20</th>\n",
              "      <th>1/25/20</th>\n",
              "      <th>1/26/20</th>\n",
              "      <th>1/27/20</th>\n",
              "      <th>1/28/20</th>\n",
              "      <th>1/29/20</th>\n",
              "      <th>1/30/20</th>\n",
              "      <th>1/31/20</th>\n",
              "      <th>2/1/20</th>\n",
              "      <th>2/2/20</th>\n",
              "      <th>2/3/20</th>\n",
              "      <th>2/4/20</th>\n",
              "      <th>2/5/20</th>\n",
              "      <th>2/6/20</th>\n",
              "      <th>2/7/20</th>\n",
              "      <th>2/8/20</th>\n",
              "      <th>2/9/20</th>\n",
              "      <th>2/10/20</th>\n",
              "      <th>2/11/20</th>\n",
              "      <th>2/12/20</th>\n",
              "      <th>2/13/20</th>\n",
              "      <th>2/14/20</th>\n",
              "      <th>2/15/20</th>\n",
              "      <th>2/16/20</th>\n",
              "      <th>2/17/20</th>\n",
              "      <th>2/18/20</th>\n",
              "      <th>2/19/20</th>\n",
              "      <th>2/20/20</th>\n",
              "      <th>2/21/20</th>\n",
              "      <th>2/22/20</th>\n",
              "      <th>2/23/20</th>\n",
              "      <th>2/24/20</th>\n",
              "      <th>2/25/20</th>\n",
              "      <th>2/26/20</th>\n",
              "      <th>2/27/20</th>\n",
              "      <th>2/28/20</th>\n",
              "      <th>2/29/20</th>\n",
              "      <th>Population</th>\n",
              "    </tr>\n",
              "  </thead>\n",
              "  <tbody>\n",
              "    <tr>\n",
              "      <th>0</th>\n",
              "      <td>Anhui</td>\n",
              "      <td>China</td>\n",
              "      <td>31.8257</td>\n",
              "      <td>117.2264</td>\n",
              "      <td>1</td>\n",
              "      <td>9</td>\n",
              "      <td>15</td>\n",
              "      <td>39</td>\n",
              "      <td>60</td>\n",
              "      <td>70</td>\n",
              "      <td>106</td>\n",
              "      <td>152</td>\n",
              "      <td>200</td>\n",
              "      <td>237</td>\n",
              "      <td>297</td>\n",
              "      <td>340</td>\n",
              "      <td>408</td>\n",
              "      <td>480</td>\n",
              "      <td>530</td>\n",
              "      <td>591</td>\n",
              "      <td>665</td>\n",
              "      <td>733</td>\n",
              "      <td>779</td>\n",
              "      <td>830</td>\n",
              "      <td>860</td>\n",
              "      <td>889</td>\n",
              "      <td>910</td>\n",
              "      <td>934</td>\n",
              "      <td>950</td>\n",
              "      <td>962</td>\n",
              "      <td>973</td>\n",
              "      <td>982</td>\n",
              "      <td>986</td>\n",
              "      <td>987</td>\n",
              "      <td>988</td>\n",
              "      <td>989</td>\n",
              "      <td>989</td>\n",
              "      <td>989</td>\n",
              "      <td>989</td>\n",
              "      <td>989</td>\n",
              "      <td>989</td>\n",
              "      <td>990</td>\n",
              "      <td>990</td>\n",
              "      <td>62,000,000</td>\n",
              "    </tr>\n",
              "    <tr>\n",
              "      <th>1</th>\n",
              "      <td>Beijing</td>\n",
              "      <td>China</td>\n",
              "      <td>40.1824</td>\n",
              "      <td>116.4142</td>\n",
              "      <td>14</td>\n",
              "      <td>22</td>\n",
              "      <td>36</td>\n",
              "      <td>41</td>\n",
              "      <td>68</td>\n",
              "      <td>80</td>\n",
              "      <td>91</td>\n",
              "      <td>111</td>\n",
              "      <td>114</td>\n",
              "      <td>139</td>\n",
              "      <td>168</td>\n",
              "      <td>191</td>\n",
              "      <td>212</td>\n",
              "      <td>228</td>\n",
              "      <td>253</td>\n",
              "      <td>274</td>\n",
              "      <td>297</td>\n",
              "      <td>315</td>\n",
              "      <td>326</td>\n",
              "      <td>337</td>\n",
              "      <td>342</td>\n",
              "      <td>352</td>\n",
              "      <td>366</td>\n",
              "      <td>372</td>\n",
              "      <td>375</td>\n",
              "      <td>380</td>\n",
              "      <td>381</td>\n",
              "      <td>387</td>\n",
              "      <td>393</td>\n",
              "      <td>395</td>\n",
              "      <td>396</td>\n",
              "      <td>399</td>\n",
              "      <td>399</td>\n",
              "      <td>399</td>\n",
              "      <td>400</td>\n",
              "      <td>400</td>\n",
              "      <td>410</td>\n",
              "      <td>410</td>\n",
              "      <td>411</td>\n",
              "      <td>21,710,000</td>\n",
              "    </tr>\n",
              "    <tr>\n",
              "      <th>2</th>\n",
              "      <td>Chongqing</td>\n",
              "      <td>China</td>\n",
              "      <td>30.0572</td>\n",
              "      <td>107.8740</td>\n",
              "      <td>6</td>\n",
              "      <td>9</td>\n",
              "      <td>27</td>\n",
              "      <td>57</td>\n",
              "      <td>75</td>\n",
              "      <td>110</td>\n",
              "      <td>132</td>\n",
              "      <td>147</td>\n",
              "      <td>182</td>\n",
              "      <td>211</td>\n",
              "      <td>247</td>\n",
              "      <td>300</td>\n",
              "      <td>337</td>\n",
              "      <td>366</td>\n",
              "      <td>389</td>\n",
              "      <td>411</td>\n",
              "      <td>426</td>\n",
              "      <td>428</td>\n",
              "      <td>468</td>\n",
              "      <td>486</td>\n",
              "      <td>505</td>\n",
              "      <td>518</td>\n",
              "      <td>529</td>\n",
              "      <td>537</td>\n",
              "      <td>544</td>\n",
              "      <td>551</td>\n",
              "      <td>553</td>\n",
              "      <td>555</td>\n",
              "      <td>560</td>\n",
              "      <td>567</td>\n",
              "      <td>572</td>\n",
              "      <td>573</td>\n",
              "      <td>575</td>\n",
              "      <td>576</td>\n",
              "      <td>576</td>\n",
              "      <td>576</td>\n",
              "      <td>576</td>\n",
              "      <td>576</td>\n",
              "      <td>576</td>\n",
              "      <td>7,990,000</td>\n",
              "    </tr>\n",
              "    <tr>\n",
              "      <th>3</th>\n",
              "      <td>Fujian</td>\n",
              "      <td>China</td>\n",
              "      <td>26.0789</td>\n",
              "      <td>117.9874</td>\n",
              "      <td>1</td>\n",
              "      <td>5</td>\n",
              "      <td>10</td>\n",
              "      <td>18</td>\n",
              "      <td>35</td>\n",
              "      <td>59</td>\n",
              "      <td>80</td>\n",
              "      <td>84</td>\n",
              "      <td>101</td>\n",
              "      <td>120</td>\n",
              "      <td>144</td>\n",
              "      <td>159</td>\n",
              "      <td>179</td>\n",
              "      <td>194</td>\n",
              "      <td>205</td>\n",
              "      <td>215</td>\n",
              "      <td>224</td>\n",
              "      <td>239</td>\n",
              "      <td>250</td>\n",
              "      <td>261</td>\n",
              "      <td>267</td>\n",
              "      <td>272</td>\n",
              "      <td>279</td>\n",
              "      <td>281</td>\n",
              "      <td>285</td>\n",
              "      <td>287</td>\n",
              "      <td>290</td>\n",
              "      <td>292</td>\n",
              "      <td>293</td>\n",
              "      <td>293</td>\n",
              "      <td>293</td>\n",
              "      <td>293</td>\n",
              "      <td>293</td>\n",
              "      <td>293</td>\n",
              "      <td>294</td>\n",
              "      <td>294</td>\n",
              "      <td>296</td>\n",
              "      <td>296</td>\n",
              "      <td>296</td>\n",
              "      <td>36,894,216</td>\n",
              "    </tr>\n",
              "    <tr>\n",
              "      <th>4</th>\n",
              "      <td>Gansu</td>\n",
              "      <td>China</td>\n",
              "      <td>36.0611</td>\n",
              "      <td>103.8343</td>\n",
              "      <td>0</td>\n",
              "      <td>2</td>\n",
              "      <td>2</td>\n",
              "      <td>4</td>\n",
              "      <td>7</td>\n",
              "      <td>14</td>\n",
              "      <td>19</td>\n",
              "      <td>24</td>\n",
              "      <td>26</td>\n",
              "      <td>29</td>\n",
              "      <td>40</td>\n",
              "      <td>51</td>\n",
              "      <td>55</td>\n",
              "      <td>57</td>\n",
              "      <td>62</td>\n",
              "      <td>62</td>\n",
              "      <td>67</td>\n",
              "      <td>79</td>\n",
              "      <td>83</td>\n",
              "      <td>83</td>\n",
              "      <td>86</td>\n",
              "      <td>87</td>\n",
              "      <td>90</td>\n",
              "      <td>90</td>\n",
              "      <td>90</td>\n",
              "      <td>90</td>\n",
              "      <td>91</td>\n",
              "      <td>91</td>\n",
              "      <td>91</td>\n",
              "      <td>91</td>\n",
              "      <td>91</td>\n",
              "      <td>91</td>\n",
              "      <td>91</td>\n",
              "      <td>91</td>\n",
              "      <td>91</td>\n",
              "      <td>91</td>\n",
              "      <td>91</td>\n",
              "      <td>91</td>\n",
              "      <td>91</td>\n",
              "      <td>25,575,254</td>\n",
              "    </tr>\n",
              "  </tbody>\n",
              "</table>\n",
              "</div>"
            ],
            "text/plain": [
              "  Province/State Country/Region      Lat  ...  2/28/20  2/29/20   Population \n",
              "0          Anhui          China  31.8257  ...      990      990    62,000,000\n",
              "1        Beijing          China  40.1824  ...      410      411    21,710,000\n",
              "2      Chongqing          China  30.0572  ...      576      576     7,990,000\n",
              "3         Fujian          China  26.0789  ...      296      296    36,894,216\n",
              "4          Gansu          China  36.0611  ...       91       91    25,575,254\n",
              "\n",
              "[5 rows x 44 columns]"
            ]
          },
          "metadata": {
            "tags": []
          },
          "execution_count": 6
        }
      ]
    },
    {
      "cell_type": "markdown",
      "metadata": {
        "id": "2dJhgqRCVgBV",
        "colab_type": "text"
      },
      "source": [
        "## Create Time Series + Plots"
      ]
    },
    {
      "cell_type": "code",
      "metadata": {
        "colab_type": "code",
        "outputId": "5f06c47a-9a9d-4a4e-a55a-3d33eb4ae9e8",
        "id": "4_P8_F9poBQk",
        "colab": {
          "base_uri": "https://localhost:8080/",
          "height": 224
        }
      },
      "source": [
        "# merge region\n",
        "# 인구데이터 dataframe과 확진자 데이터 dataframe을 결합합니다\n",
        "confirmed['region']=confirmed['Country/Region'].map(str)+'_'+confirmed['Province/State'].map(str)\n",
        "death['region']=death['Country/Region'].map(str)+'_'+death['Province/State'].map(str)\n",
        "recover['region']=recover['Country/Region'].map(str)+'_'+recover['Province/State'].map(str)\n",
        "confirmed.iloc[:5,:]"
      ],
      "execution_count": 0,
      "outputs": [
        {
          "output_type": "execute_result",
          "data": {
            "text/html": [
              "<div>\n",
              "<style scoped>\n",
              "    .dataframe tbody tr th:only-of-type {\n",
              "        vertical-align: middle;\n",
              "    }\n",
              "\n",
              "    .dataframe tbody tr th {\n",
              "        vertical-align: top;\n",
              "    }\n",
              "\n",
              "    .dataframe thead th {\n",
              "        text-align: right;\n",
              "    }\n",
              "</style>\n",
              "<table border=\"1\" class=\"dataframe\">\n",
              "  <thead>\n",
              "    <tr style=\"text-align: right;\">\n",
              "      <th></th>\n",
              "      <th>Province/State</th>\n",
              "      <th>Country/Region</th>\n",
              "      <th>Lat</th>\n",
              "      <th>Long</th>\n",
              "      <th>1/22/20</th>\n",
              "      <th>1/23/20</th>\n",
              "      <th>1/24/20</th>\n",
              "      <th>1/25/20</th>\n",
              "      <th>1/26/20</th>\n",
              "      <th>1/27/20</th>\n",
              "      <th>1/28/20</th>\n",
              "      <th>1/29/20</th>\n",
              "      <th>1/30/20</th>\n",
              "      <th>1/31/20</th>\n",
              "      <th>2/1/20</th>\n",
              "      <th>2/2/20</th>\n",
              "      <th>2/3/20</th>\n",
              "      <th>2/4/20</th>\n",
              "      <th>2/5/20</th>\n",
              "      <th>2/6/20</th>\n",
              "      <th>2/7/20</th>\n",
              "      <th>2/8/20</th>\n",
              "      <th>2/9/20</th>\n",
              "      <th>2/10/20</th>\n",
              "      <th>2/11/20</th>\n",
              "      <th>2/12/20</th>\n",
              "      <th>2/13/20</th>\n",
              "      <th>2/14/20</th>\n",
              "      <th>2/15/20</th>\n",
              "      <th>2/16/20</th>\n",
              "      <th>2/17/20</th>\n",
              "      <th>2/18/20</th>\n",
              "      <th>2/19/20</th>\n",
              "      <th>2/20/20</th>\n",
              "      <th>2/21/20</th>\n",
              "      <th>2/22/20</th>\n",
              "      <th>2/23/20</th>\n",
              "      <th>2/24/20</th>\n",
              "      <th>2/25/20</th>\n",
              "      <th>2/26/20</th>\n",
              "      <th>2/27/20</th>\n",
              "      <th>2/28/20</th>\n",
              "      <th>2/29/20</th>\n",
              "      <th>Population</th>\n",
              "      <th>region</th>\n",
              "    </tr>\n",
              "  </thead>\n",
              "  <tbody>\n",
              "    <tr>\n",
              "      <th>0</th>\n",
              "      <td>Anhui</td>\n",
              "      <td>China</td>\n",
              "      <td>31.8257</td>\n",
              "      <td>117.2264</td>\n",
              "      <td>1</td>\n",
              "      <td>9</td>\n",
              "      <td>15</td>\n",
              "      <td>39</td>\n",
              "      <td>60</td>\n",
              "      <td>70</td>\n",
              "      <td>106</td>\n",
              "      <td>152</td>\n",
              "      <td>200</td>\n",
              "      <td>237</td>\n",
              "      <td>297</td>\n",
              "      <td>340</td>\n",
              "      <td>408</td>\n",
              "      <td>480</td>\n",
              "      <td>530</td>\n",
              "      <td>591</td>\n",
              "      <td>665</td>\n",
              "      <td>733</td>\n",
              "      <td>779</td>\n",
              "      <td>830</td>\n",
              "      <td>860</td>\n",
              "      <td>889</td>\n",
              "      <td>910</td>\n",
              "      <td>934</td>\n",
              "      <td>950</td>\n",
              "      <td>962</td>\n",
              "      <td>973</td>\n",
              "      <td>982</td>\n",
              "      <td>986</td>\n",
              "      <td>987</td>\n",
              "      <td>988</td>\n",
              "      <td>989</td>\n",
              "      <td>989</td>\n",
              "      <td>989</td>\n",
              "      <td>989</td>\n",
              "      <td>989</td>\n",
              "      <td>989</td>\n",
              "      <td>990</td>\n",
              "      <td>990</td>\n",
              "      <td>62,000,000</td>\n",
              "      <td>China_Anhui</td>\n",
              "    </tr>\n",
              "    <tr>\n",
              "      <th>1</th>\n",
              "      <td>Beijing</td>\n",
              "      <td>China</td>\n",
              "      <td>40.1824</td>\n",
              "      <td>116.4142</td>\n",
              "      <td>14</td>\n",
              "      <td>22</td>\n",
              "      <td>36</td>\n",
              "      <td>41</td>\n",
              "      <td>68</td>\n",
              "      <td>80</td>\n",
              "      <td>91</td>\n",
              "      <td>111</td>\n",
              "      <td>114</td>\n",
              "      <td>139</td>\n",
              "      <td>168</td>\n",
              "      <td>191</td>\n",
              "      <td>212</td>\n",
              "      <td>228</td>\n",
              "      <td>253</td>\n",
              "      <td>274</td>\n",
              "      <td>297</td>\n",
              "      <td>315</td>\n",
              "      <td>326</td>\n",
              "      <td>337</td>\n",
              "      <td>342</td>\n",
              "      <td>352</td>\n",
              "      <td>366</td>\n",
              "      <td>372</td>\n",
              "      <td>375</td>\n",
              "      <td>380</td>\n",
              "      <td>381</td>\n",
              "      <td>387</td>\n",
              "      <td>393</td>\n",
              "      <td>395</td>\n",
              "      <td>396</td>\n",
              "      <td>399</td>\n",
              "      <td>399</td>\n",
              "      <td>399</td>\n",
              "      <td>400</td>\n",
              "      <td>400</td>\n",
              "      <td>410</td>\n",
              "      <td>410</td>\n",
              "      <td>411</td>\n",
              "      <td>21,710,000</td>\n",
              "      <td>China_Beijing</td>\n",
              "    </tr>\n",
              "    <tr>\n",
              "      <th>2</th>\n",
              "      <td>Chongqing</td>\n",
              "      <td>China</td>\n",
              "      <td>30.0572</td>\n",
              "      <td>107.8740</td>\n",
              "      <td>6</td>\n",
              "      <td>9</td>\n",
              "      <td>27</td>\n",
              "      <td>57</td>\n",
              "      <td>75</td>\n",
              "      <td>110</td>\n",
              "      <td>132</td>\n",
              "      <td>147</td>\n",
              "      <td>182</td>\n",
              "      <td>211</td>\n",
              "      <td>247</td>\n",
              "      <td>300</td>\n",
              "      <td>337</td>\n",
              "      <td>366</td>\n",
              "      <td>389</td>\n",
              "      <td>411</td>\n",
              "      <td>426</td>\n",
              "      <td>428</td>\n",
              "      <td>468</td>\n",
              "      <td>486</td>\n",
              "      <td>505</td>\n",
              "      <td>518</td>\n",
              "      <td>529</td>\n",
              "      <td>537</td>\n",
              "      <td>544</td>\n",
              "      <td>551</td>\n",
              "      <td>553</td>\n",
              "      <td>555</td>\n",
              "      <td>560</td>\n",
              "      <td>567</td>\n",
              "      <td>572</td>\n",
              "      <td>573</td>\n",
              "      <td>575</td>\n",
              "      <td>576</td>\n",
              "      <td>576</td>\n",
              "      <td>576</td>\n",
              "      <td>576</td>\n",
              "      <td>576</td>\n",
              "      <td>576</td>\n",
              "      <td>7,990,000</td>\n",
              "      <td>China_Chongqing</td>\n",
              "    </tr>\n",
              "    <tr>\n",
              "      <th>3</th>\n",
              "      <td>Fujian</td>\n",
              "      <td>China</td>\n",
              "      <td>26.0789</td>\n",
              "      <td>117.9874</td>\n",
              "      <td>1</td>\n",
              "      <td>5</td>\n",
              "      <td>10</td>\n",
              "      <td>18</td>\n",
              "      <td>35</td>\n",
              "      <td>59</td>\n",
              "      <td>80</td>\n",
              "      <td>84</td>\n",
              "      <td>101</td>\n",
              "      <td>120</td>\n",
              "      <td>144</td>\n",
              "      <td>159</td>\n",
              "      <td>179</td>\n",
              "      <td>194</td>\n",
              "      <td>205</td>\n",
              "      <td>215</td>\n",
              "      <td>224</td>\n",
              "      <td>239</td>\n",
              "      <td>250</td>\n",
              "      <td>261</td>\n",
              "      <td>267</td>\n",
              "      <td>272</td>\n",
              "      <td>279</td>\n",
              "      <td>281</td>\n",
              "      <td>285</td>\n",
              "      <td>287</td>\n",
              "      <td>290</td>\n",
              "      <td>292</td>\n",
              "      <td>293</td>\n",
              "      <td>293</td>\n",
              "      <td>293</td>\n",
              "      <td>293</td>\n",
              "      <td>293</td>\n",
              "      <td>293</td>\n",
              "      <td>294</td>\n",
              "      <td>294</td>\n",
              "      <td>296</td>\n",
              "      <td>296</td>\n",
              "      <td>296</td>\n",
              "      <td>36,894,216</td>\n",
              "      <td>China_Fujian</td>\n",
              "    </tr>\n",
              "    <tr>\n",
              "      <th>4</th>\n",
              "      <td>Gansu</td>\n",
              "      <td>China</td>\n",
              "      <td>36.0611</td>\n",
              "      <td>103.8343</td>\n",
              "      <td>0</td>\n",
              "      <td>2</td>\n",
              "      <td>2</td>\n",
              "      <td>4</td>\n",
              "      <td>7</td>\n",
              "      <td>14</td>\n",
              "      <td>19</td>\n",
              "      <td>24</td>\n",
              "      <td>26</td>\n",
              "      <td>29</td>\n",
              "      <td>40</td>\n",
              "      <td>51</td>\n",
              "      <td>55</td>\n",
              "      <td>57</td>\n",
              "      <td>62</td>\n",
              "      <td>62</td>\n",
              "      <td>67</td>\n",
              "      <td>79</td>\n",
              "      <td>83</td>\n",
              "      <td>83</td>\n",
              "      <td>86</td>\n",
              "      <td>87</td>\n",
              "      <td>90</td>\n",
              "      <td>90</td>\n",
              "      <td>90</td>\n",
              "      <td>90</td>\n",
              "      <td>91</td>\n",
              "      <td>91</td>\n",
              "      <td>91</td>\n",
              "      <td>91</td>\n",
              "      <td>91</td>\n",
              "      <td>91</td>\n",
              "      <td>91</td>\n",
              "      <td>91</td>\n",
              "      <td>91</td>\n",
              "      <td>91</td>\n",
              "      <td>91</td>\n",
              "      <td>91</td>\n",
              "      <td>91</td>\n",
              "      <td>25,575,254</td>\n",
              "      <td>China_Gansu</td>\n",
              "    </tr>\n",
              "  </tbody>\n",
              "</table>\n",
              "</div>"
            ],
            "text/plain": [
              "  Province/State Country/Region      Lat  ...  2/29/20   Population            region\n",
              "0          Anhui          China  31.8257  ...      990    62,000,000      China_Anhui\n",
              "1        Beijing          China  40.1824  ...      411    21,710,000    China_Beijing\n",
              "2      Chongqing          China  30.0572  ...      576     7,990,000  China_Chongqing\n",
              "3         Fujian          China  26.0789  ...      296    36,894,216     China_Fujian\n",
              "4          Gansu          China  36.0611  ...       91    25,575,254      China_Gansu\n",
              "\n",
              "[5 rows x 45 columns]"
            ]
          },
          "metadata": {
            "tags": []
          },
          "execution_count": 7
        }
      ]
    },
    {
      "cell_type": "code",
      "metadata": {
        "id": "o_RU1kdtpN7p",
        "colab_type": "code",
        "outputId": "638c10c4-f9ae-4a7e-db73-ce2ba3fb5018",
        "colab": {
          "base_uri": "https://localhost:8080/",
          "height": 117
        }
      },
      "source": [
        "# Confirmed Korean casses time series dataframe\n",
        "# 확진자: 한국의 코로나19 확진자 시계열 데이터를 열람합니다\n",
        "df_korea = confirmed[confirmed['Country/Region'] == 'South Korea']\n",
        "df_korea"
      ],
      "execution_count": 0,
      "outputs": [
        {
          "output_type": "execute_result",
          "data": {
            "text/html": [
              "<div>\n",
              "<style scoped>\n",
              "    .dataframe tbody tr th:only-of-type {\n",
              "        vertical-align: middle;\n",
              "    }\n",
              "\n",
              "    .dataframe tbody tr th {\n",
              "        vertical-align: top;\n",
              "    }\n",
              "\n",
              "    .dataframe thead th {\n",
              "        text-align: right;\n",
              "    }\n",
              "</style>\n",
              "<table border=\"1\" class=\"dataframe\">\n",
              "  <thead>\n",
              "    <tr style=\"text-align: right;\">\n",
              "      <th></th>\n",
              "      <th>Province/State</th>\n",
              "      <th>Country/Region</th>\n",
              "      <th>Lat</th>\n",
              "      <th>Long</th>\n",
              "      <th>1/22/20</th>\n",
              "      <th>1/23/20</th>\n",
              "      <th>1/24/20</th>\n",
              "      <th>1/25/20</th>\n",
              "      <th>1/26/20</th>\n",
              "      <th>1/27/20</th>\n",
              "      <th>1/28/20</th>\n",
              "      <th>1/29/20</th>\n",
              "      <th>1/30/20</th>\n",
              "      <th>1/31/20</th>\n",
              "      <th>2/1/20</th>\n",
              "      <th>2/2/20</th>\n",
              "      <th>2/3/20</th>\n",
              "      <th>2/4/20</th>\n",
              "      <th>2/5/20</th>\n",
              "      <th>2/6/20</th>\n",
              "      <th>2/7/20</th>\n",
              "      <th>2/8/20</th>\n",
              "      <th>2/9/20</th>\n",
              "      <th>2/10/20</th>\n",
              "      <th>2/11/20</th>\n",
              "      <th>2/12/20</th>\n",
              "      <th>2/13/20</th>\n",
              "      <th>2/14/20</th>\n",
              "      <th>2/15/20</th>\n",
              "      <th>2/16/20</th>\n",
              "      <th>2/17/20</th>\n",
              "      <th>2/18/20</th>\n",
              "      <th>2/19/20</th>\n",
              "      <th>2/20/20</th>\n",
              "      <th>2/21/20</th>\n",
              "      <th>2/22/20</th>\n",
              "      <th>2/23/20</th>\n",
              "      <th>2/24/20</th>\n",
              "      <th>2/25/20</th>\n",
              "      <th>2/26/20</th>\n",
              "      <th>2/27/20</th>\n",
              "      <th>2/28/20</th>\n",
              "      <th>2/29/20</th>\n",
              "      <th>Population</th>\n",
              "      <th>region</th>\n",
              "    </tr>\n",
              "  </thead>\n",
              "  <tbody>\n",
              "    <tr>\n",
              "      <th>33</th>\n",
              "      <td>NaN</td>\n",
              "      <td>South Korea</td>\n",
              "      <td>36.0</td>\n",
              "      <td>128.0</td>\n",
              "      <td>1</td>\n",
              "      <td>1</td>\n",
              "      <td>2</td>\n",
              "      <td>2</td>\n",
              "      <td>3</td>\n",
              "      <td>4</td>\n",
              "      <td>4</td>\n",
              "      <td>4</td>\n",
              "      <td>4</td>\n",
              "      <td>11</td>\n",
              "      <td>12</td>\n",
              "      <td>15</td>\n",
              "      <td>15</td>\n",
              "      <td>16</td>\n",
              "      <td>19</td>\n",
              "      <td>23</td>\n",
              "      <td>24</td>\n",
              "      <td>24</td>\n",
              "      <td>25</td>\n",
              "      <td>27</td>\n",
              "      <td>28</td>\n",
              "      <td>28</td>\n",
              "      <td>28</td>\n",
              "      <td>28</td>\n",
              "      <td>28</td>\n",
              "      <td>29</td>\n",
              "      <td>30</td>\n",
              "      <td>31</td>\n",
              "      <td>31</td>\n",
              "      <td>104</td>\n",
              "      <td>204</td>\n",
              "      <td>433</td>\n",
              "      <td>602</td>\n",
              "      <td>833</td>\n",
              "      <td>977</td>\n",
              "      <td>1261</td>\n",
              "      <td>1766</td>\n",
              "      <td>2337</td>\n",
              "      <td>3150</td>\n",
              "      <td>51,470,000</td>\n",
              "      <td>South Korea_nan</td>\n",
              "    </tr>\n",
              "  </tbody>\n",
              "</table>\n",
              "</div>"
            ],
            "text/plain": [
              "   Province/State Country/Region   Lat  ...  2/29/20   Population            region\n",
              "33            NaN    South Korea  36.0  ...     3150    51,470,000  South Korea_nan\n",
              "\n",
              "[1 rows x 45 columns]"
            ]
          },
          "metadata": {
            "tags": []
          },
          "execution_count": 8
        }
      ]
    },
    {
      "cell_type": "code",
      "metadata": {
        "id": "Ld4EzM3P75iE",
        "colab_type": "code",
        "outputId": "8e15001c-e829-4c5c-a903-267fadad4496",
        "colab": {
          "base_uri": "https://localhost:8080/",
          "height": 117
        }
      },
      "source": [
        "# Recovered Korea casses time series dataframe\n",
        "# 완치자: 한국의 코로나 19 완치자 시계열 데이터를 열람합니다\n",
        "df_korea_rec = recover[recover['Country/Region'] == 'South Korea']\n",
        "df_korea_rec"
      ],
      "execution_count": 0,
      "outputs": [
        {
          "output_type": "execute_result",
          "data": {
            "text/html": [
              "<div>\n",
              "<style scoped>\n",
              "    .dataframe tbody tr th:only-of-type {\n",
              "        vertical-align: middle;\n",
              "    }\n",
              "\n",
              "    .dataframe tbody tr th {\n",
              "        vertical-align: top;\n",
              "    }\n",
              "\n",
              "    .dataframe thead th {\n",
              "        text-align: right;\n",
              "    }\n",
              "</style>\n",
              "<table border=\"1\" class=\"dataframe\">\n",
              "  <thead>\n",
              "    <tr style=\"text-align: right;\">\n",
              "      <th></th>\n",
              "      <th>Province/State</th>\n",
              "      <th>Country/Region</th>\n",
              "      <th>Lat</th>\n",
              "      <th>Long</th>\n",
              "      <th>1/22/20</th>\n",
              "      <th>1/23/20</th>\n",
              "      <th>1/24/20</th>\n",
              "      <th>1/25/20</th>\n",
              "      <th>1/26/20</th>\n",
              "      <th>1/27/20</th>\n",
              "      <th>1/28/20</th>\n",
              "      <th>1/29/20</th>\n",
              "      <th>1/30/20</th>\n",
              "      <th>1/31/20</th>\n",
              "      <th>2/1/20</th>\n",
              "      <th>2/2/20</th>\n",
              "      <th>2/3/20</th>\n",
              "      <th>2/4/20</th>\n",
              "      <th>2/5/20</th>\n",
              "      <th>2/6/20</th>\n",
              "      <th>2/7/20</th>\n",
              "      <th>2/8/20</th>\n",
              "      <th>2/9/20</th>\n",
              "      <th>2/10/20</th>\n",
              "      <th>2/11/20</th>\n",
              "      <th>2/12/20</th>\n",
              "      <th>2/13/20</th>\n",
              "      <th>2/14/20</th>\n",
              "      <th>2/15/20</th>\n",
              "      <th>2/16/20</th>\n",
              "      <th>2/17/20</th>\n",
              "      <th>2/18/20</th>\n",
              "      <th>2/19/20</th>\n",
              "      <th>2/20/20</th>\n",
              "      <th>2/21/20</th>\n",
              "      <th>2/22/20</th>\n",
              "      <th>2/23/20</th>\n",
              "      <th>2/24/20</th>\n",
              "      <th>2/25/20</th>\n",
              "      <th>2/26/20</th>\n",
              "      <th>2/27/20</th>\n",
              "      <th>2/28/20</th>\n",
              "      <th>2/29/20</th>\n",
              "      <th>Population</th>\n",
              "      <th>region</th>\n",
              "    </tr>\n",
              "  </thead>\n",
              "  <tbody>\n",
              "    <tr>\n",
              "      <th>33</th>\n",
              "      <td>NaN</td>\n",
              "      <td>South Korea</td>\n",
              "      <td>36.0</td>\n",
              "      <td>128.0</td>\n",
              "      <td>0</td>\n",
              "      <td>0</td>\n",
              "      <td>0</td>\n",
              "      <td>0</td>\n",
              "      <td>0</td>\n",
              "      <td>0</td>\n",
              "      <td>0</td>\n",
              "      <td>0</td>\n",
              "      <td>0</td>\n",
              "      <td>0</td>\n",
              "      <td>0</td>\n",
              "      <td>0</td>\n",
              "      <td>0</td>\n",
              "      <td>0</td>\n",
              "      <td>0</td>\n",
              "      <td>0</td>\n",
              "      <td>1</td>\n",
              "      <td>1</td>\n",
              "      <td>3</td>\n",
              "      <td>3</td>\n",
              "      <td>3</td>\n",
              "      <td>7</td>\n",
              "      <td>7</td>\n",
              "      <td>7</td>\n",
              "      <td>9</td>\n",
              "      <td>9</td>\n",
              "      <td>10</td>\n",
              "      <td>12</td>\n",
              "      <td>12</td>\n",
              "      <td>16</td>\n",
              "      <td>16</td>\n",
              "      <td>16</td>\n",
              "      <td>18</td>\n",
              "      <td>18</td>\n",
              "      <td>22</td>\n",
              "      <td>22</td>\n",
              "      <td>22</td>\n",
              "      <td>22</td>\n",
              "      <td>27</td>\n",
              "      <td>51,470,000</td>\n",
              "      <td>South Korea_nan</td>\n",
              "    </tr>\n",
              "  </tbody>\n",
              "</table>\n",
              "</div>"
            ],
            "text/plain": [
              "   Province/State Country/Region   Lat  ...  2/29/20   Population            region\n",
              "33            NaN    South Korea  36.0  ...       27    51,470,000  South Korea_nan\n",
              "\n",
              "[1 rows x 45 columns]"
            ]
          },
          "metadata": {
            "tags": []
          },
          "execution_count": 9
        }
      ]
    },
    {
      "cell_type": "code",
      "metadata": {
        "id": "V21PYZNdlf5m",
        "colab_type": "code",
        "colab": {}
      },
      "source": [
        "# create timeseries dataframe for all infected regions\n",
        "# 감염이 보고된 모든 지역들의 시계열 dataframe을 함수로 제작합니다.\n",
        "def create_ts(df):\n",
        "  ts=df\n",
        "  ts=ts.drop(['Province/State', 'Country/Region','Lat', 'Long',' Population '], axis=1)\n",
        "  ts.set_index('region')\n",
        "  ts=ts.T\n",
        "  ts.columns=ts.loc['region']\n",
        "  ts=ts.drop('region')\n",
        "  ts=ts.fillna(0)\n",
        "  ts=ts.reindex(sorted(ts.columns), axis=1)\n",
        "  return (ts)"
      ],
      "execution_count": 0,
      "outputs": []
    },
    {
      "cell_type": "code",
      "metadata": {
        "id": "7XmTDuNDlx-k",
        "colab_type": "code",
        "outputId": "c09afc4b-bdf9-41c7-96be-1324cfe79610",
        "colab": {
          "base_uri": "https://localhost:8080/",
          "height": 321
        }
      },
      "source": [
        "# confirmed case / 확진된 케이스 dataframe\n",
        "ts=create_ts(confirmed)\n",
        "\n",
        "# deceased case / 사망한 케이스 dataframe\n",
        "ts_d=create_ts(death)\n",
        "\n",
        "# recovered case /  완치된 케이스 dataframe\n",
        "ts_rec=create_ts(recover)\n",
        "\n",
        "# check recent 5 days of confirmed cases according to countries\n",
        "# 가장 최근 5일의 각 국가별로 확진자 수를 봅니다.\n",
        "ts.tail()"
      ],
      "execution_count": 0,
      "outputs": [
        {
          "output_type": "execute_result",
          "data": {
            "text/html": [
              "<div>\n",
              "<style scoped>\n",
              "    .dataframe tbody tr th:only-of-type {\n",
              "        vertical-align: middle;\n",
              "    }\n",
              "\n",
              "    .dataframe tbody tr th {\n",
              "        vertical-align: top;\n",
              "    }\n",
              "\n",
              "    .dataframe thead th {\n",
              "        text-align: right;\n",
              "    }\n",
              "</style>\n",
              "<table border=\"1\" class=\"dataframe\">\n",
              "  <thead>\n",
              "    <tr style=\"text-align: right;\">\n",
              "      <th>region</th>\n",
              "      <th>Afghanistan_nan</th>\n",
              "      <th>Algeria_nan</th>\n",
              "      <th>Australia_From Diamond Princess</th>\n",
              "      <th>Australia_New South Wales</th>\n",
              "      <th>Australia_Queensland</th>\n",
              "      <th>Australia_South Australia</th>\n",
              "      <th>Australia_Victoria</th>\n",
              "      <th>Australia_Western Australia</th>\n",
              "      <th>Austria_nan</th>\n",
              "      <th>Bahrain_nan</th>\n",
              "      <th>Belarus_nan</th>\n",
              "      <th>Belgium_nan</th>\n",
              "      <th>Brazil_nan</th>\n",
              "      <th>Cambodia_nan</th>\n",
              "      <th>Canada_ Montreal, QC</th>\n",
              "      <th>Canada_British Columbia</th>\n",
              "      <th>Canada_London, ON</th>\n",
              "      <th>Canada_Toronto, ON</th>\n",
              "      <th>China_Anhui</th>\n",
              "      <th>China_Beijing</th>\n",
              "      <th>China_Chongqing</th>\n",
              "      <th>China_Fujian</th>\n",
              "      <th>China_Gansu</th>\n",
              "      <th>China_Guangdong</th>\n",
              "      <th>China_Guangxi</th>\n",
              "      <th>China_Guizhou</th>\n",
              "      <th>China_Hainan</th>\n",
              "      <th>China_Hebei</th>\n",
              "      <th>China_Heilongjiang</th>\n",
              "      <th>China_Henan</th>\n",
              "      <th>China_Hubei</th>\n",
              "      <th>China_Hunan</th>\n",
              "      <th>China_Inner Mongolia</th>\n",
              "      <th>China_Jiangsu</th>\n",
              "      <th>China_Jiangxi</th>\n",
              "      <th>China_Jilin</th>\n",
              "      <th>China_Liaoning</th>\n",
              "      <th>China_Ningxia</th>\n",
              "      <th>China_Qinghai</th>\n",
              "      <th>China_Shaanxi</th>\n",
              "      <th>...</th>\n",
              "      <th>North Macedonia_nan</th>\n",
              "      <th>Norway_nan</th>\n",
              "      <th>Oman_nan</th>\n",
              "      <th>Others_Diamond Princess cruise ship</th>\n",
              "      <th>Pakistan_nan</th>\n",
              "      <th>Philippines_nan</th>\n",
              "      <th>Qatar_nan</th>\n",
              "      <th>Romania_nan</th>\n",
              "      <th>Russia_nan</th>\n",
              "      <th>San Marino_nan</th>\n",
              "      <th>Singapore_nan</th>\n",
              "      <th>South Korea_nan</th>\n",
              "      <th>Spain_nan</th>\n",
              "      <th>Sri Lanka_nan</th>\n",
              "      <th>Sweden_nan</th>\n",
              "      <th>Switzerland_nan</th>\n",
              "      <th>Taiwan_Taiwan</th>\n",
              "      <th>Thailand_nan</th>\n",
              "      <th>UK_nan</th>\n",
              "      <th>United Arab Emirates_nan</th>\n",
              "      <th>Unites States_Boston, MA</th>\n",
              "      <th>Unites States_Chicago, IL</th>\n",
              "      <th>Unites States_Humboldt County, CA</th>\n",
              "      <th>Unites States_Lackland, TX (From Diamond Princess)</th>\n",
              "      <th>Unites States_Los Angeles, CA</th>\n",
              "      <th>Unites States_Madison, WI</th>\n",
              "      <th>Unites States_Omaha, NE (From Diamond Princess)</th>\n",
              "      <th>Unites States_Orange, CA</th>\n",
              "      <th>Unites States_Portland, OR</th>\n",
              "      <th>Unites States_Sacramento County, CA</th>\n",
              "      <th>Unites States_San Antonio, TX</th>\n",
              "      <th>Unites States_San Benito, CA</th>\n",
              "      <th>Unites States_San Diego County, CA</th>\n",
              "      <th>Unites States_Santa Clara, CA</th>\n",
              "      <th>Unites States_Seattle, WA</th>\n",
              "      <th>Unites States_Snohomish County, WA</th>\n",
              "      <th>Unites States_Tempe, AZ</th>\n",
              "      <th>Unites States_Travis, CA (From Diamond Princess)</th>\n",
              "      <th>Unites States_Unassigned Location (From Diamond Princess)</th>\n",
              "      <th>Vietnam_nan</th>\n",
              "    </tr>\n",
              "  </thead>\n",
              "  <tbody>\n",
              "    <tr>\n",
              "      <th>2/25/20</th>\n",
              "      <td>1</td>\n",
              "      <td>1</td>\n",
              "      <td>7</td>\n",
              "      <td>4</td>\n",
              "      <td>5</td>\n",
              "      <td>2</td>\n",
              "      <td>4</td>\n",
              "      <td>0</td>\n",
              "      <td>2</td>\n",
              "      <td>23</td>\n",
              "      <td>0</td>\n",
              "      <td>1</td>\n",
              "      <td>0</td>\n",
              "      <td>1</td>\n",
              "      <td>0</td>\n",
              "      <td>7</td>\n",
              "      <td>1</td>\n",
              "      <td>3</td>\n",
              "      <td>989</td>\n",
              "      <td>400</td>\n",
              "      <td>576</td>\n",
              "      <td>294</td>\n",
              "      <td>91</td>\n",
              "      <td>1347</td>\n",
              "      <td>252</td>\n",
              "      <td>146</td>\n",
              "      <td>168</td>\n",
              "      <td>311</td>\n",
              "      <td>480</td>\n",
              "      <td>1271</td>\n",
              "      <td>64786</td>\n",
              "      <td>1016</td>\n",
              "      <td>75</td>\n",
              "      <td>631</td>\n",
              "      <td>934</td>\n",
              "      <td>93</td>\n",
              "      <td>121</td>\n",
              "      <td>71</td>\n",
              "      <td>18</td>\n",
              "      <td>245</td>\n",
              "      <td>...</td>\n",
              "      <td>0</td>\n",
              "      <td>0</td>\n",
              "      <td>2</td>\n",
              "      <td>691</td>\n",
              "      <td>0</td>\n",
              "      <td>3</td>\n",
              "      <td>0</td>\n",
              "      <td>0</td>\n",
              "      <td>2</td>\n",
              "      <td>0</td>\n",
              "      <td>91</td>\n",
              "      <td>977</td>\n",
              "      <td>6</td>\n",
              "      <td>1</td>\n",
              "      <td>1</td>\n",
              "      <td>1</td>\n",
              "      <td>31</td>\n",
              "      <td>37</td>\n",
              "      <td>13</td>\n",
              "      <td>13</td>\n",
              "      <td>1</td>\n",
              "      <td>2</td>\n",
              "      <td>1</td>\n",
              "      <td>0</td>\n",
              "      <td>1</td>\n",
              "      <td>1</td>\n",
              "      <td>0</td>\n",
              "      <td>1</td>\n",
              "      <td>0</td>\n",
              "      <td>1</td>\n",
              "      <td>1</td>\n",
              "      <td>2</td>\n",
              "      <td>2</td>\n",
              "      <td>2</td>\n",
              "      <td>1</td>\n",
              "      <td>0</td>\n",
              "      <td>1</td>\n",
              "      <td>0</td>\n",
              "      <td>36</td>\n",
              "      <td>16</td>\n",
              "    </tr>\n",
              "    <tr>\n",
              "      <th>2/26/20</th>\n",
              "      <td>1</td>\n",
              "      <td>1</td>\n",
              "      <td>7</td>\n",
              "      <td>4</td>\n",
              "      <td>5</td>\n",
              "      <td>2</td>\n",
              "      <td>4</td>\n",
              "      <td>0</td>\n",
              "      <td>2</td>\n",
              "      <td>33</td>\n",
              "      <td>0</td>\n",
              "      <td>1</td>\n",
              "      <td>1</td>\n",
              "      <td>1</td>\n",
              "      <td>0</td>\n",
              "      <td>7</td>\n",
              "      <td>1</td>\n",
              "      <td>3</td>\n",
              "      <td>989</td>\n",
              "      <td>400</td>\n",
              "      <td>576</td>\n",
              "      <td>294</td>\n",
              "      <td>91</td>\n",
              "      <td>1347</td>\n",
              "      <td>252</td>\n",
              "      <td>146</td>\n",
              "      <td>168</td>\n",
              "      <td>312</td>\n",
              "      <td>480</td>\n",
              "      <td>1271</td>\n",
              "      <td>65187</td>\n",
              "      <td>1016</td>\n",
              "      <td>75</td>\n",
              "      <td>631</td>\n",
              "      <td>934</td>\n",
              "      <td>93</td>\n",
              "      <td>121</td>\n",
              "      <td>71</td>\n",
              "      <td>18</td>\n",
              "      <td>245</td>\n",
              "      <td>...</td>\n",
              "      <td>1</td>\n",
              "      <td>1</td>\n",
              "      <td>4</td>\n",
              "      <td>705</td>\n",
              "      <td>2</td>\n",
              "      <td>3</td>\n",
              "      <td>0</td>\n",
              "      <td>1</td>\n",
              "      <td>2</td>\n",
              "      <td>0</td>\n",
              "      <td>93</td>\n",
              "      <td>1261</td>\n",
              "      <td>13</td>\n",
              "      <td>1</td>\n",
              "      <td>2</td>\n",
              "      <td>1</td>\n",
              "      <td>32</td>\n",
              "      <td>40</td>\n",
              "      <td>13</td>\n",
              "      <td>13</td>\n",
              "      <td>1</td>\n",
              "      <td>2</td>\n",
              "      <td>1</td>\n",
              "      <td>0</td>\n",
              "      <td>1</td>\n",
              "      <td>1</td>\n",
              "      <td>0</td>\n",
              "      <td>1</td>\n",
              "      <td>0</td>\n",
              "      <td>1</td>\n",
              "      <td>1</td>\n",
              "      <td>2</td>\n",
              "      <td>2</td>\n",
              "      <td>2</td>\n",
              "      <td>1</td>\n",
              "      <td>0</td>\n",
              "      <td>1</td>\n",
              "      <td>0</td>\n",
              "      <td>42</td>\n",
              "      <td>16</td>\n",
              "    </tr>\n",
              "    <tr>\n",
              "      <th>2/27/20</th>\n",
              "      <td>1</td>\n",
              "      <td>1</td>\n",
              "      <td>8</td>\n",
              "      <td>4</td>\n",
              "      <td>5</td>\n",
              "      <td>2</td>\n",
              "      <td>4</td>\n",
              "      <td>0</td>\n",
              "      <td>3</td>\n",
              "      <td>33</td>\n",
              "      <td>0</td>\n",
              "      <td>1</td>\n",
              "      <td>1</td>\n",
              "      <td>1</td>\n",
              "      <td>0</td>\n",
              "      <td>7</td>\n",
              "      <td>1</td>\n",
              "      <td>5</td>\n",
              "      <td>989</td>\n",
              "      <td>410</td>\n",
              "      <td>576</td>\n",
              "      <td>296</td>\n",
              "      <td>91</td>\n",
              "      <td>1347</td>\n",
              "      <td>252</td>\n",
              "      <td>146</td>\n",
              "      <td>168</td>\n",
              "      <td>317</td>\n",
              "      <td>480</td>\n",
              "      <td>1272</td>\n",
              "      <td>65596</td>\n",
              "      <td>1017</td>\n",
              "      <td>75</td>\n",
              "      <td>631</td>\n",
              "      <td>934</td>\n",
              "      <td>93</td>\n",
              "      <td>121</td>\n",
              "      <td>72</td>\n",
              "      <td>18</td>\n",
              "      <td>245</td>\n",
              "      <td>...</td>\n",
              "      <td>1</td>\n",
              "      <td>1</td>\n",
              "      <td>4</td>\n",
              "      <td>705</td>\n",
              "      <td>2</td>\n",
              "      <td>3</td>\n",
              "      <td>0</td>\n",
              "      <td>1</td>\n",
              "      <td>2</td>\n",
              "      <td>1</td>\n",
              "      <td>93</td>\n",
              "      <td>1766</td>\n",
              "      <td>15</td>\n",
              "      <td>1</td>\n",
              "      <td>7</td>\n",
              "      <td>8</td>\n",
              "      <td>32</td>\n",
              "      <td>40</td>\n",
              "      <td>15</td>\n",
              "      <td>13</td>\n",
              "      <td>1</td>\n",
              "      <td>2</td>\n",
              "      <td>1</td>\n",
              "      <td>0</td>\n",
              "      <td>1</td>\n",
              "      <td>1</td>\n",
              "      <td>0</td>\n",
              "      <td>1</td>\n",
              "      <td>0</td>\n",
              "      <td>2</td>\n",
              "      <td>1</td>\n",
              "      <td>2</td>\n",
              "      <td>2</td>\n",
              "      <td>2</td>\n",
              "      <td>1</td>\n",
              "      <td>0</td>\n",
              "      <td>1</td>\n",
              "      <td>0</td>\n",
              "      <td>42</td>\n",
              "      <td>16</td>\n",
              "    </tr>\n",
              "    <tr>\n",
              "      <th>2/28/20</th>\n",
              "      <td>1</td>\n",
              "      <td>1</td>\n",
              "      <td>8</td>\n",
              "      <td>4</td>\n",
              "      <td>5</td>\n",
              "      <td>2</td>\n",
              "      <td>4</td>\n",
              "      <td>0</td>\n",
              "      <td>3</td>\n",
              "      <td>36</td>\n",
              "      <td>1</td>\n",
              "      <td>1</td>\n",
              "      <td>1</td>\n",
              "      <td>1</td>\n",
              "      <td>1</td>\n",
              "      <td>7</td>\n",
              "      <td>1</td>\n",
              "      <td>5</td>\n",
              "      <td>990</td>\n",
              "      <td>410</td>\n",
              "      <td>576</td>\n",
              "      <td>296</td>\n",
              "      <td>91</td>\n",
              "      <td>1348</td>\n",
              "      <td>252</td>\n",
              "      <td>146</td>\n",
              "      <td>168</td>\n",
              "      <td>318</td>\n",
              "      <td>480</td>\n",
              "      <td>1272</td>\n",
              "      <td>65914</td>\n",
              "      <td>1017</td>\n",
              "      <td>75</td>\n",
              "      <td>631</td>\n",
              "      <td>935</td>\n",
              "      <td>93</td>\n",
              "      <td>121</td>\n",
              "      <td>72</td>\n",
              "      <td>18</td>\n",
              "      <td>245</td>\n",
              "      <td>...</td>\n",
              "      <td>1</td>\n",
              "      <td>6</td>\n",
              "      <td>4</td>\n",
              "      <td>705</td>\n",
              "      <td>2</td>\n",
              "      <td>3</td>\n",
              "      <td>0</td>\n",
              "      <td>3</td>\n",
              "      <td>2</td>\n",
              "      <td>1</td>\n",
              "      <td>93</td>\n",
              "      <td>2337</td>\n",
              "      <td>32</td>\n",
              "      <td>1</td>\n",
              "      <td>7</td>\n",
              "      <td>8</td>\n",
              "      <td>34</td>\n",
              "      <td>41</td>\n",
              "      <td>20</td>\n",
              "      <td>19</td>\n",
              "      <td>1</td>\n",
              "      <td>2</td>\n",
              "      <td>1</td>\n",
              "      <td>0</td>\n",
              "      <td>1</td>\n",
              "      <td>1</td>\n",
              "      <td>0</td>\n",
              "      <td>1</td>\n",
              "      <td>0</td>\n",
              "      <td>2</td>\n",
              "      <td>1</td>\n",
              "      <td>2</td>\n",
              "      <td>2</td>\n",
              "      <td>2</td>\n",
              "      <td>1</td>\n",
              "      <td>0</td>\n",
              "      <td>1</td>\n",
              "      <td>0</td>\n",
              "      <td>44</td>\n",
              "      <td>16</td>\n",
              "    </tr>\n",
              "    <tr>\n",
              "      <th>2/29/20</th>\n",
              "      <td>1</td>\n",
              "      <td>1</td>\n",
              "      <td>0</td>\n",
              "      <td>4</td>\n",
              "      <td>9</td>\n",
              "      <td>3</td>\n",
              "      <td>7</td>\n",
              "      <td>2</td>\n",
              "      <td>9</td>\n",
              "      <td>41</td>\n",
              "      <td>1</td>\n",
              "      <td>1</td>\n",
              "      <td>2</td>\n",
              "      <td>1</td>\n",
              "      <td>1</td>\n",
              "      <td>8</td>\n",
              "      <td>1</td>\n",
              "      <td>10</td>\n",
              "      <td>990</td>\n",
              "      <td>411</td>\n",
              "      <td>576</td>\n",
              "      <td>296</td>\n",
              "      <td>91</td>\n",
              "      <td>1349</td>\n",
              "      <td>252</td>\n",
              "      <td>146</td>\n",
              "      <td>168</td>\n",
              "      <td>318</td>\n",
              "      <td>480</td>\n",
              "      <td>1272</td>\n",
              "      <td>66337</td>\n",
              "      <td>1018</td>\n",
              "      <td>75</td>\n",
              "      <td>631</td>\n",
              "      <td>935</td>\n",
              "      <td>93</td>\n",
              "      <td>121</td>\n",
              "      <td>73</td>\n",
              "      <td>18</td>\n",
              "      <td>245</td>\n",
              "      <td>...</td>\n",
              "      <td>1</td>\n",
              "      <td>15</td>\n",
              "      <td>6</td>\n",
              "      <td>705</td>\n",
              "      <td>4</td>\n",
              "      <td>3</td>\n",
              "      <td>1</td>\n",
              "      <td>3</td>\n",
              "      <td>2</td>\n",
              "      <td>1</td>\n",
              "      <td>102</td>\n",
              "      <td>3150</td>\n",
              "      <td>45</td>\n",
              "      <td>1</td>\n",
              "      <td>12</td>\n",
              "      <td>18</td>\n",
              "      <td>39</td>\n",
              "      <td>42</td>\n",
              "      <td>23</td>\n",
              "      <td>21</td>\n",
              "      <td>1</td>\n",
              "      <td>2</td>\n",
              "      <td>1</td>\n",
              "      <td>0</td>\n",
              "      <td>1</td>\n",
              "      <td>1</td>\n",
              "      <td>0</td>\n",
              "      <td>1</td>\n",
              "      <td>1</td>\n",
              "      <td>2</td>\n",
              "      <td>1</td>\n",
              "      <td>2</td>\n",
              "      <td>2</td>\n",
              "      <td>3</td>\n",
              "      <td>6</td>\n",
              "      <td>1</td>\n",
              "      <td>1</td>\n",
              "      <td>0</td>\n",
              "      <td>44</td>\n",
              "      <td>16</td>\n",
              "    </tr>\n",
              "  </tbody>\n",
              "</table>\n",
              "<p>5 rows × 119 columns</p>\n",
              "</div>"
            ],
            "text/plain": [
              "region   Afghanistan_nan  ...  Vietnam_nan\n",
              "2/25/20                1  ...           16\n",
              "2/26/20                1  ...           16\n",
              "2/27/20                1  ...           16\n",
              "2/28/20                1  ...           16\n",
              "2/29/20                1  ...           16\n",
              "\n",
              "[5 rows x 119 columns]"
            ]
          },
          "metadata": {
            "tags": []
          },
          "execution_count": 11
        }
      ]
    },
    {
      "cell_type": "code",
      "metadata": {
        "id": "CaHX5yKoHQYM",
        "colab_type": "code",
        "colab": {}
      },
      "source": [
        "# sort regions with number of confirmed casses largest to smallest.\n",
        "# 각 지역을 가장 많은 확진자부터 적은 순서대로 재배열합니다. \n",
        "import matplotlib.pyplot as plt\n",
        "p=ts.reindex(ts.max().sort_values(ascending=False).index, axis=1)"
      ],
      "execution_count": 0,
      "outputs": []
    },
    {
      "cell_type": "code",
      "metadata": {
        "id": "H4QdGG3aikqV",
        "colab_type": "code",
        "outputId": "16eb03df-3884-4769-9484-e096345a8603",
        "colab": {
          "base_uri": "https://localhost:8080/",
          "height": 304
        }
      },
      "source": [
        "# comparing South Korea's situation with other regions in the world.\n",
        "# 코로나19 발원지인 후베이성과 한국의 확진자 데이터를 비교합니다.\n",
        "p.iloc[:,:2].plot(marker='*',figsize=(10,4)).set_title('Daily Total Confirmed - Hubei & Korea',fontdict={'fontsize': 22})"
      ],
      "execution_count": 0,
      "outputs": [
        {
          "output_type": "execute_result",
          "data": {
            "text/plain": [
              "Text(0.5, 1.0, 'Daily Total Confirmed - Hubei & Korea')"
            ]
          },
          "metadata": {
            "tags": []
          },
          "execution_count": 13
        },
        {
          "output_type": "display_data",
          "data": {
            "image/png": "[encoded data removed]",
            "text/plain": [
              "<Figure size 720x288 with 1 Axes>"
            ]
          },
          "metadata": {
            "tags": []
          }
        }
      ]
    },
    {
      "cell_type": "code",
      "metadata": {
        "id": "iKUYUOZFkwey",
        "colab_type": "code",
        "outputId": "12881dbd-09b5-4c4e-f93f-a6f53162494d",
        "colab": {
          "base_uri": "https://localhost:8080/",
          "height": 304
        }
      },
      "source": [
        "# comparing South Korea to other regions in the world, except for hubei.\n",
        "# 후베이성을 제외한 나머지 지역들과 한국의 확진자 데이터를 비교합니다\n",
        "p.iloc[:,1:5].plot(marker='*',figsize=(10,4)).set_title('Daily Total Confirmed - Major areas',fontdict={'fontsize': 22})"
      ],
      "execution_count": 0,
      "outputs": [
        {
          "output_type": "execute_result",
          "data": {
            "text/plain": [
              "Text(0.5, 1.0, 'Daily Total Confirmed - Major areas')"
            ]
          },
          "metadata": {
            "tags": []
          },
          "execution_count": 14
        },
        {
          "output_type": "display_data",
          "data": {
            "image/png": "[encoded data removed]",
            "text/plain": [
              "<Figure size 720x288 with 1 Axes>"
            ]
          },
          "metadata": {
            "tags": []
          }
        }
      ]
    },
    {
      "cell_type": "code",
      "metadata": {
        "id": "VAdE9EC-ZLSr",
        "colab_type": "code",
        "outputId": "d0cc11e9-352f-4612-c611-679345d67ffa",
        "colab": {
          "base_uri": "https://localhost:8080/",
          "height": 574
        }
      },
      "source": [
        "# plot graph of hubei's recovered casses and other major areas\n",
        "# 후베이성의 완치자 추이와 다른 주요 지역들의 완치자 추이를 봅니다. \n",
        "p_r=ts_rec.reindex(ts.mean().sort_values(ascending=False).index, axis=1)\n",
        "p_r.iloc[:,:1].plot(marker='*',figsize=(10,4)).set_title('Daily Total Recoverd - Hubei',fontdict={'fontsize': 22})\n",
        "p_r.iloc[:,1:10].plot(marker='*',figsize=(10,4)).set_title('Daily Total Recoverd - Major areas',fontdict={'fontsize': 22})"
      ],
      "execution_count": 0,
      "outputs": [
        {
          "output_type": "execute_result",
          "data": {
            "text/plain": [
              "Text(0.5, 1.0, 'Daily Total Recoverd - Major areas')"
            ]
          },
          "metadata": {
            "tags": []
          },
          "execution_count": 16
        },
        {
          "output_type": "display_data",
          "data": {
            "image/png": "[encoded data removed]",
            "text/plain": [
              "<Figure size 720x288 with 1 Axes>"
            ]
          },
          "metadata": {
            "tags": []
          }
        },
        {
          "output_type": "display_data",
          "data": {
            "image/png": "[encoded data removed]",
            "text/plain": [
              "<Figure size 720x288 with 1 Axes>"
            ]
          },
          "metadata": {
            "tags": []
          }
        }
      ]
    },
    {
      "cell_type": "code",
      "metadata": {
        "id": "99flIfyvofmw",
        "colab_type": "code",
        "outputId": "63a0e6c6-0351-4b9a-a8e1-d719c60c3d3a",
        "colab": {
          "base_uri": "https://localhost:8080/",
          "height": 574
        }
      },
      "source": [
        "# plot graph of hubei's deceased casses and other major areas\n",
        "# 후베이성의 사망자 추이와 다른 주요 지역들의 사망자 추이를 봅니다. \n",
        "p_d=ts_d.reindex(ts.mean().sort_values(ascending=False).index, axis=1)\n",
        "p_d.iloc[:,:1].plot(marker='*',figsize=(10,4)).set_title('Daily Total Death - Hubei',fontdict={'fontsize': 22})\n",
        "p_d.iloc[:,1:10].plot(marker='*',figsize=(10,4)).set_title('Daily Total Death - Major areas',fontdict={'fontsize': 22})"
      ],
      "execution_count": 0,
      "outputs": [
        {
          "output_type": "execute_result",
          "data": {
            "text/plain": [
              "Text(0.5, 1.0, 'Daily Total Death - Major areas')"
            ]
          },
          "metadata": {
            "tags": []
          },
          "execution_count": 17
        },
        {
          "output_type": "display_data",
          "data": {
            "image/png": "[encoded data removed]",
            "text/plain": [
              "<Figure size 720x288 with 1 Axes>"
            ]
          },
          "metadata": {
            "tags": []
          }
        },
        {
          "output_type": "display_data",
          "data": {
            "image/png": "[encoded data removed]",
            "text/plain": [
              "<Figure size 720x288 with 1 Axes>"
            ]
          },
          "metadata": {
            "tags": []
          }
        }
      ]
    },
    {
      "cell_type": "markdown",
      "metadata": {
        "id": "DP96GEhbXKL1",
        "colab_type": "text"
      },
      "source": [
        "## Kalman Filter With R"
      ]
    },
    {
      "cell_type": "code",
      "metadata": {
        "id": "ie1YVvCXgybm",
        "colab_type": "code",
        "colab": {}
      },
      "source": [
        "# Create data for R script\n",
        "# R 코드에 입력할 데이터를 CSV파일로 저장할 준비를 합니다\n",
        "ts_r=ts.reset_index()\n",
        "ts_r=ts_r.rename(columns = {'index':'date'})\n",
        "ts_r['date']=pd.to_datetime(ts_r['date'] ,errors ='coerce')"
      ],
      "execution_count": 0,
      "outputs": []
    },
    {
      "cell_type": "code",
      "metadata": {
        "id": "kqwhX529CXz2",
        "colab_type": "code",
        "colab": {}
      },
      "source": [
        "# ENTER YOUR GOOGLE DRIVE PATH TO THE COLABORATORY\n",
        "# project_path_py에 본인의 프로젝트 폴더를 입력하십시오.\n",
        "# 예를 들어서, 제 프로젝트 폴더는 COVID19 속의 COVID19이었기 때문에, 이 안에다가 csv 데이터값을 저장하기로 했습니다. \n",
        "project_path_py =r'/content/drive/My Drive/COVID19/COVID19/ts_r.csv' \n",
        "ts_r.to_csv(project_path_py)"
      ],
      "execution_count": 0,
      "outputs": []
    },
    {
      "cell_type": "code",
      "metadata": {
        "id": "l89ks9Xv9NSk",
        "colab_type": "code",
        "outputId": "339d865f-4c93-416d-c8e4-ddb71882e0b8",
        "colab": {
          "base_uri": "https://localhost:8080/",
          "height": 406
        }
      },
      "source": [
        "ts_r.tail()"
      ],
      "execution_count": 0,
      "outputs": [
        {
          "output_type": "execute_result",
          "data": {
            "text/html": [
              "<div>\n",
              "<style scoped>\n",
              "    .dataframe tbody tr th:only-of-type {\n",
              "        vertical-align: middle;\n",
              "    }\n",
              "\n",
              "    .dataframe tbody tr th {\n",
              "        vertical-align: top;\n",
              "    }\n",
              "\n",
              "    .dataframe thead th {\n",
              "        text-align: right;\n",
              "    }\n",
              "</style>\n",
              "<table border=\"1\" class=\"dataframe\">\n",
              "  <thead>\n",
              "    <tr style=\"text-align: right;\">\n",
              "      <th>region</th>\n",
              "      <th>date</th>\n",
              "      <th>Afghanistan_nan</th>\n",
              "      <th>Algeria_nan</th>\n",
              "      <th>Australia_From Diamond Princess</th>\n",
              "      <th>Australia_New South Wales</th>\n",
              "      <th>Australia_Queensland</th>\n",
              "      <th>Australia_South Australia</th>\n",
              "      <th>Australia_Victoria</th>\n",
              "      <th>Australia_Western Australia</th>\n",
              "      <th>Austria_nan</th>\n",
              "      <th>Bahrain_nan</th>\n",
              "      <th>Belarus_nan</th>\n",
              "      <th>Belgium_nan</th>\n",
              "      <th>Brazil_nan</th>\n",
              "      <th>Cambodia_nan</th>\n",
              "      <th>Canada_ Montreal, QC</th>\n",
              "      <th>Canada_British Columbia</th>\n",
              "      <th>Canada_London, ON</th>\n",
              "      <th>Canada_Toronto, ON</th>\n",
              "      <th>China_Anhui</th>\n",
              "      <th>China_Beijing</th>\n",
              "      <th>China_Chongqing</th>\n",
              "      <th>China_Fujian</th>\n",
              "      <th>China_Gansu</th>\n",
              "      <th>China_Guangdong</th>\n",
              "      <th>China_Guangxi</th>\n",
              "      <th>China_Guizhou</th>\n",
              "      <th>China_Hainan</th>\n",
              "      <th>China_Hebei</th>\n",
              "      <th>China_Heilongjiang</th>\n",
              "      <th>China_Henan</th>\n",
              "      <th>China_Hubei</th>\n",
              "      <th>China_Hunan</th>\n",
              "      <th>China_Inner Mongolia</th>\n",
              "      <th>China_Jiangsu</th>\n",
              "      <th>China_Jiangxi</th>\n",
              "      <th>China_Jilin</th>\n",
              "      <th>China_Liaoning</th>\n",
              "      <th>China_Ningxia</th>\n",
              "      <th>China_Qinghai</th>\n",
              "      <th>...</th>\n",
              "      <th>North Macedonia_nan</th>\n",
              "      <th>Norway_nan</th>\n",
              "      <th>Oman_nan</th>\n",
              "      <th>Others_Diamond Princess cruise ship</th>\n",
              "      <th>Pakistan_nan</th>\n",
              "      <th>Philippines_nan</th>\n",
              "      <th>Qatar_nan</th>\n",
              "      <th>Romania_nan</th>\n",
              "      <th>Russia_nan</th>\n",
              "      <th>San Marino_nan</th>\n",
              "      <th>Singapore_nan</th>\n",
              "      <th>South Korea_nan</th>\n",
              "      <th>Spain_nan</th>\n",
              "      <th>Sri Lanka_nan</th>\n",
              "      <th>Sweden_nan</th>\n",
              "      <th>Switzerland_nan</th>\n",
              "      <th>Taiwan_Taiwan</th>\n",
              "      <th>Thailand_nan</th>\n",
              "      <th>UK_nan</th>\n",
              "      <th>United Arab Emirates_nan</th>\n",
              "      <th>Unites States_Boston, MA</th>\n",
              "      <th>Unites States_Chicago, IL</th>\n",
              "      <th>Unites States_Humboldt County, CA</th>\n",
              "      <th>Unites States_Lackland, TX (From Diamond Princess)</th>\n",
              "      <th>Unites States_Los Angeles, CA</th>\n",
              "      <th>Unites States_Madison, WI</th>\n",
              "      <th>Unites States_Omaha, NE (From Diamond Princess)</th>\n",
              "      <th>Unites States_Orange, CA</th>\n",
              "      <th>Unites States_Portland, OR</th>\n",
              "      <th>Unites States_Sacramento County, CA</th>\n",
              "      <th>Unites States_San Antonio, TX</th>\n",
              "      <th>Unites States_San Benito, CA</th>\n",
              "      <th>Unites States_San Diego County, CA</th>\n",
              "      <th>Unites States_Santa Clara, CA</th>\n",
              "      <th>Unites States_Seattle, WA</th>\n",
              "      <th>Unites States_Snohomish County, WA</th>\n",
              "      <th>Unites States_Tempe, AZ</th>\n",
              "      <th>Unites States_Travis, CA (From Diamond Princess)</th>\n",
              "      <th>Unites States_Unassigned Location (From Diamond Princess)</th>\n",
              "      <th>Vietnam_nan</th>\n",
              "    </tr>\n",
              "  </thead>\n",
              "  <tbody>\n",
              "    <tr>\n",
              "      <th>34</th>\n",
              "      <td>2020-02-25</td>\n",
              "      <td>1</td>\n",
              "      <td>1</td>\n",
              "      <td>7</td>\n",
              "      <td>4</td>\n",
              "      <td>5</td>\n",
              "      <td>2</td>\n",
              "      <td>4</td>\n",
              "      <td>0</td>\n",
              "      <td>2</td>\n",
              "      <td>23</td>\n",
              "      <td>0</td>\n",
              "      <td>1</td>\n",
              "      <td>0</td>\n",
              "      <td>1</td>\n",
              "      <td>0</td>\n",
              "      <td>7</td>\n",
              "      <td>1</td>\n",
              "      <td>3</td>\n",
              "      <td>989</td>\n",
              "      <td>400</td>\n",
              "      <td>576</td>\n",
              "      <td>294</td>\n",
              "      <td>91</td>\n",
              "      <td>1347</td>\n",
              "      <td>252</td>\n",
              "      <td>146</td>\n",
              "      <td>168</td>\n",
              "      <td>311</td>\n",
              "      <td>480</td>\n",
              "      <td>1271</td>\n",
              "      <td>64786</td>\n",
              "      <td>1016</td>\n",
              "      <td>75</td>\n",
              "      <td>631</td>\n",
              "      <td>934</td>\n",
              "      <td>93</td>\n",
              "      <td>121</td>\n",
              "      <td>71</td>\n",
              "      <td>18</td>\n",
              "      <td>...</td>\n",
              "      <td>0</td>\n",
              "      <td>0</td>\n",
              "      <td>2</td>\n",
              "      <td>691</td>\n",
              "      <td>0</td>\n",
              "      <td>3</td>\n",
              "      <td>0</td>\n",
              "      <td>0</td>\n",
              "      <td>2</td>\n",
              "      <td>0</td>\n",
              "      <td>91</td>\n",
              "      <td>977</td>\n",
              "      <td>6</td>\n",
              "      <td>1</td>\n",
              "      <td>1</td>\n",
              "      <td>1</td>\n",
              "      <td>31</td>\n",
              "      <td>37</td>\n",
              "      <td>13</td>\n",
              "      <td>13</td>\n",
              "      <td>1</td>\n",
              "      <td>2</td>\n",
              "      <td>1</td>\n",
              "      <td>0</td>\n",
              "      <td>1</td>\n",
              "      <td>1</td>\n",
              "      <td>0</td>\n",
              "      <td>1</td>\n",
              "      <td>0</td>\n",
              "      <td>1</td>\n",
              "      <td>1</td>\n",
              "      <td>2</td>\n",
              "      <td>2</td>\n",
              "      <td>2</td>\n",
              "      <td>1</td>\n",
              "      <td>0</td>\n",
              "      <td>1</td>\n",
              "      <td>0</td>\n",
              "      <td>36</td>\n",
              "      <td>16</td>\n",
              "    </tr>\n",
              "    <tr>\n",
              "      <th>35</th>\n",
              "      <td>2020-02-26</td>\n",
              "      <td>1</td>\n",
              "      <td>1</td>\n",
              "      <td>7</td>\n",
              "      <td>4</td>\n",
              "      <td>5</td>\n",
              "      <td>2</td>\n",
              "      <td>4</td>\n",
              "      <td>0</td>\n",
              "      <td>2</td>\n",
              "      <td>33</td>\n",
              "      <td>0</td>\n",
              "      <td>1</td>\n",
              "      <td>1</td>\n",
              "      <td>1</td>\n",
              "      <td>0</td>\n",
              "      <td>7</td>\n",
              "      <td>1</td>\n",
              "      <td>3</td>\n",
              "      <td>989</td>\n",
              "      <td>400</td>\n",
              "      <td>576</td>\n",
              "      <td>294</td>\n",
              "      <td>91</td>\n",
              "      <td>1347</td>\n",
              "      <td>252</td>\n",
              "      <td>146</td>\n",
              "      <td>168</td>\n",
              "      <td>312</td>\n",
              "      <td>480</td>\n",
              "      <td>1271</td>\n",
              "      <td>65187</td>\n",
              "      <td>1016</td>\n",
              "      <td>75</td>\n",
              "      <td>631</td>\n",
              "      <td>934</td>\n",
              "      <td>93</td>\n",
              "      <td>121</td>\n",
              "      <td>71</td>\n",
              "      <td>18</td>\n",
              "      <td>...</td>\n",
              "      <td>1</td>\n",
              "      <td>1</td>\n",
              "      <td>4</td>\n",
              "      <td>705</td>\n",
              "      <td>2</td>\n",
              "      <td>3</td>\n",
              "      <td>0</td>\n",
              "      <td>1</td>\n",
              "      <td>2</td>\n",
              "      <td>0</td>\n",
              "      <td>93</td>\n",
              "      <td>1261</td>\n",
              "      <td>13</td>\n",
              "      <td>1</td>\n",
              "      <td>2</td>\n",
              "      <td>1</td>\n",
              "      <td>32</td>\n",
              "      <td>40</td>\n",
              "      <td>13</td>\n",
              "      <td>13</td>\n",
              "      <td>1</td>\n",
              "      <td>2</td>\n",
              "      <td>1</td>\n",
              "      <td>0</td>\n",
              "      <td>1</td>\n",
              "      <td>1</td>\n",
              "      <td>0</td>\n",
              "      <td>1</td>\n",
              "      <td>0</td>\n",
              "      <td>1</td>\n",
              "      <td>1</td>\n",
              "      <td>2</td>\n",
              "      <td>2</td>\n",
              "      <td>2</td>\n",
              "      <td>1</td>\n",
              "      <td>0</td>\n",
              "      <td>1</td>\n",
              "      <td>0</td>\n",
              "      <td>42</td>\n",
              "      <td>16</td>\n",
              "    </tr>\n",
              "    <tr>\n",
              "      <th>36</th>\n",
              "      <td>2020-02-27</td>\n",
              "      <td>1</td>\n",
              "      <td>1</td>\n",
              "      <td>8</td>\n",
              "      <td>4</td>\n",
              "      <td>5</td>\n",
              "      <td>2</td>\n",
              "      <td>4</td>\n",
              "      <td>0</td>\n",
              "      <td>3</td>\n",
              "      <td>33</td>\n",
              "      <td>0</td>\n",
              "      <td>1</td>\n",
              "      <td>1</td>\n",
              "      <td>1</td>\n",
              "      <td>0</td>\n",
              "      <td>7</td>\n",
              "      <td>1</td>\n",
              "      <td>5</td>\n",
              "      <td>989</td>\n",
              "      <td>410</td>\n",
              "      <td>576</td>\n",
              "      <td>296</td>\n",
              "      <td>91</td>\n",
              "      <td>1347</td>\n",
              "      <td>252</td>\n",
              "      <td>146</td>\n",
              "      <td>168</td>\n",
              "      <td>317</td>\n",
              "      <td>480</td>\n",
              "      <td>1272</td>\n",
              "      <td>65596</td>\n",
              "      <td>1017</td>\n",
              "      <td>75</td>\n",
              "      <td>631</td>\n",
              "      <td>934</td>\n",
              "      <td>93</td>\n",
              "      <td>121</td>\n",
              "      <td>72</td>\n",
              "      <td>18</td>\n",
              "      <td>...</td>\n",
              "      <td>1</td>\n",
              "      <td>1</td>\n",
              "      <td>4</td>\n",
              "      <td>705</td>\n",
              "      <td>2</td>\n",
              "      <td>3</td>\n",
              "      <td>0</td>\n",
              "      <td>1</td>\n",
              "      <td>2</td>\n",
              "      <td>1</td>\n",
              "      <td>93</td>\n",
              "      <td>1766</td>\n",
              "      <td>15</td>\n",
              "      <td>1</td>\n",
              "      <td>7</td>\n",
              "      <td>8</td>\n",
              "      <td>32</td>\n",
              "      <td>40</td>\n",
              "      <td>15</td>\n",
              "      <td>13</td>\n",
              "      <td>1</td>\n",
              "      <td>2</td>\n",
              "      <td>1</td>\n",
              "      <td>0</td>\n",
              "      <td>1</td>\n",
              "      <td>1</td>\n",
              "      <td>0</td>\n",
              "      <td>1</td>\n",
              "      <td>0</td>\n",
              "      <td>2</td>\n",
              "      <td>1</td>\n",
              "      <td>2</td>\n",
              "      <td>2</td>\n",
              "      <td>2</td>\n",
              "      <td>1</td>\n",
              "      <td>0</td>\n",
              "      <td>1</td>\n",
              "      <td>0</td>\n",
              "      <td>42</td>\n",
              "      <td>16</td>\n",
              "    </tr>\n",
              "    <tr>\n",
              "      <th>37</th>\n",
              "      <td>2020-02-28</td>\n",
              "      <td>1</td>\n",
              "      <td>1</td>\n",
              "      <td>8</td>\n",
              "      <td>4</td>\n",
              "      <td>5</td>\n",
              "      <td>2</td>\n",
              "      <td>4</td>\n",
              "      <td>0</td>\n",
              "      <td>3</td>\n",
              "      <td>36</td>\n",
              "      <td>1</td>\n",
              "      <td>1</td>\n",
              "      <td>1</td>\n",
              "      <td>1</td>\n",
              "      <td>1</td>\n",
              "      <td>7</td>\n",
              "      <td>1</td>\n",
              "      <td>5</td>\n",
              "      <td>990</td>\n",
              "      <td>410</td>\n",
              "      <td>576</td>\n",
              "      <td>296</td>\n",
              "      <td>91</td>\n",
              "      <td>1348</td>\n",
              "      <td>252</td>\n",
              "      <td>146</td>\n",
              "      <td>168</td>\n",
              "      <td>318</td>\n",
              "      <td>480</td>\n",
              "      <td>1272</td>\n",
              "      <td>65914</td>\n",
              "      <td>1017</td>\n",
              "      <td>75</td>\n",
              "      <td>631</td>\n",
              "      <td>935</td>\n",
              "      <td>93</td>\n",
              "      <td>121</td>\n",
              "      <td>72</td>\n",
              "      <td>18</td>\n",
              "      <td>...</td>\n",
              "      <td>1</td>\n",
              "      <td>6</td>\n",
              "      <td>4</td>\n",
              "      <td>705</td>\n",
              "      <td>2</td>\n",
              "      <td>3</td>\n",
              "      <td>0</td>\n",
              "      <td>3</td>\n",
              "      <td>2</td>\n",
              "      <td>1</td>\n",
              "      <td>93</td>\n",
              "      <td>2337</td>\n",
              "      <td>32</td>\n",
              "      <td>1</td>\n",
              "      <td>7</td>\n",
              "      <td>8</td>\n",
              "      <td>34</td>\n",
              "      <td>41</td>\n",
              "      <td>20</td>\n",
              "      <td>19</td>\n",
              "      <td>1</td>\n",
              "      <td>2</td>\n",
              "      <td>1</td>\n",
              "      <td>0</td>\n",
              "      <td>1</td>\n",
              "      <td>1</td>\n",
              "      <td>0</td>\n",
              "      <td>1</td>\n",
              "      <td>0</td>\n",
              "      <td>2</td>\n",
              "      <td>1</td>\n",
              "      <td>2</td>\n",
              "      <td>2</td>\n",
              "      <td>2</td>\n",
              "      <td>1</td>\n",
              "      <td>0</td>\n",
              "      <td>1</td>\n",
              "      <td>0</td>\n",
              "      <td>44</td>\n",
              "      <td>16</td>\n",
              "    </tr>\n",
              "    <tr>\n",
              "      <th>38</th>\n",
              "      <td>2020-02-29</td>\n",
              "      <td>1</td>\n",
              "      <td>1</td>\n",
              "      <td>0</td>\n",
              "      <td>4</td>\n",
              "      <td>9</td>\n",
              "      <td>3</td>\n",
              "      <td>7</td>\n",
              "      <td>2</td>\n",
              "      <td>9</td>\n",
              "      <td>41</td>\n",
              "      <td>1</td>\n",
              "      <td>1</td>\n",
              "      <td>2</td>\n",
              "      <td>1</td>\n",
              "      <td>1</td>\n",
              "      <td>8</td>\n",
              "      <td>1</td>\n",
              "      <td>10</td>\n",
              "      <td>990</td>\n",
              "      <td>411</td>\n",
              "      <td>576</td>\n",
              "      <td>296</td>\n",
              "      <td>91</td>\n",
              "      <td>1349</td>\n",
              "      <td>252</td>\n",
              "      <td>146</td>\n",
              "      <td>168</td>\n",
              "      <td>318</td>\n",
              "      <td>480</td>\n",
              "      <td>1272</td>\n",
              "      <td>66337</td>\n",
              "      <td>1018</td>\n",
              "      <td>75</td>\n",
              "      <td>631</td>\n",
              "      <td>935</td>\n",
              "      <td>93</td>\n",
              "      <td>121</td>\n",
              "      <td>73</td>\n",
              "      <td>18</td>\n",
              "      <td>...</td>\n",
              "      <td>1</td>\n",
              "      <td>15</td>\n",
              "      <td>6</td>\n",
              "      <td>705</td>\n",
              "      <td>4</td>\n",
              "      <td>3</td>\n",
              "      <td>1</td>\n",
              "      <td>3</td>\n",
              "      <td>2</td>\n",
              "      <td>1</td>\n",
              "      <td>102</td>\n",
              "      <td>3150</td>\n",
              "      <td>45</td>\n",
              "      <td>1</td>\n",
              "      <td>12</td>\n",
              "      <td>18</td>\n",
              "      <td>39</td>\n",
              "      <td>42</td>\n",
              "      <td>23</td>\n",
              "      <td>21</td>\n",
              "      <td>1</td>\n",
              "      <td>2</td>\n",
              "      <td>1</td>\n",
              "      <td>0</td>\n",
              "      <td>1</td>\n",
              "      <td>1</td>\n",
              "      <td>0</td>\n",
              "      <td>1</td>\n",
              "      <td>1</td>\n",
              "      <td>2</td>\n",
              "      <td>1</td>\n",
              "      <td>2</td>\n",
              "      <td>2</td>\n",
              "      <td>3</td>\n",
              "      <td>6</td>\n",
              "      <td>1</td>\n",
              "      <td>1</td>\n",
              "      <td>0</td>\n",
              "      <td>44</td>\n",
              "      <td>16</td>\n",
              "    </tr>\n",
              "  </tbody>\n",
              "</table>\n",
              "<p>5 rows × 120 columns</p>\n",
              "</div>"
            ],
            "text/plain": [
              "region       date  ...  Vietnam_nan\n",
              "34     2020-02-25  ...           16\n",
              "35     2020-02-26  ...           16\n",
              "36     2020-02-27  ...           16\n",
              "37     2020-02-28  ...           16\n",
              "38     2020-02-29  ...           16\n",
              "\n",
              "[5 rows x 120 columns]"
            ]
          },
          "metadata": {
            "tags": []
          },
          "execution_count": 19
        }
      ]
    },
    {
      "cell_type": "code",
      "metadata": {
        "id": "tsj5C3LGg0KH",
        "colab_type": "code",
        "colab": {}
      },
      "source": [
        "# Starting from here, we code in R. \n",
        "# 여기서부터 R로 코딩을 시작합니다. \n",
        "import rpy2\n",
        "%load_ext rpy2.ipython"
      ],
      "execution_count": 0,
      "outputs": []
    },
    {
      "cell_type": "code",
      "metadata": {
        "id": "ngrkbpXcprcN",
        "colab_type": "code",
        "colab": {}
      },
      "source": [
        "%%R\n",
        "install.packages('pracma')\n",
        "install.packages('reshape')"
      ],
      "execution_count": 0,
      "outputs": []
    },
    {
      "cell_type": "code",
      "metadata": {
        "id": "mcIMrc3AW-Km",
        "colab_type": "code",
        "colab": {}
      },
      "source": [
        "%%R\n",
        "# ENTER YOUR GOOGLE DRIVE PATH TO THE COLABORATORY\n",
        "# 위에서 정의한 project_path_py와 동일한 폴더로 경로를 지정해주시면 됩니다.\n",
        "project_path_R = '/content/drive/My Drive/COVID19/COVID19/ts_r.csv'"
      ],
      "execution_count": 0,
      "outputs": []
    },
    {
      "cell_type": "code",
      "metadata": {
        "id": "Xme1fM9HBxE1",
        "colab_type": "code",
        "colab": {}
      },
      "source": [
        "%%R\n",
        "require(pracma)\n",
        "require(Metrics)\n",
        "require(readr)\n",
        "all<- read_csv(project_path_R)\n",
        "all$X1<-NULL\n",
        "date<-all[,1]\n",
        "date[nrow(date) + 1,1] <-all[nrow(all),1]+1\n",
        "pred_all<-NULL\n",
        "for (n in 2:ncol(all)-1) {\n",
        "  Y<-ts(data = all[n+1], start = 1, end =nrow(all)+1)  \n",
        "  sig_w<-0.01\n",
        "  w<-sig_w*randn(1,100) # acceleration which denotes the fluctuation (Q/R) rnorm(100, mean = 0, sd = 1)\n",
        "  sig_v<-0.01\n",
        "  v<-sig_v*randn(1,100)   \n",
        "  t<-0.45\n",
        "  phi<-matrix(c(1,0,t,1),2,2)\n",
        "  gama<-matrix(c(0.5*t^2,t),2,1)\n",
        "  H<-matrix(c(1,0),1,2)\n",
        "  #Kalman\n",
        "  x0_0<-p0_0<-matrix(c(0,0),2,1)\n",
        "  p0_0<-matrix(c(1,0,0,1),2,2)\n",
        "  Q<-0.01\n",
        "  R<-0.01\n",
        "  X<-NULL\n",
        "  X2<-NULL\n",
        "  pred<-NULL\n",
        "  for (i in 0:nrow(all)) {\n",
        "    namp <-paste(\"p\", i+1,\"_\",i, sep = \"\")\n",
        "    assign(namp, phi%*%(get(paste(\"p\", i,\"_\",i, sep = \"\")))%*%t(phi)+gama%*%Q%*%t(gama))\n",
        "    namk <- paste(\"k\", i+1, sep = \"\")\n",
        "    assign(namk,get(paste(\"p\", i+1,\"_\",i, sep = \"\"))%*%t(H)%*%(1/(H%*%get(paste(\"p\", i+1,\"_\",i, sep = \"\"))%*%t(H)+R)))\n",
        "    namx <- paste(\"x\", i+1,\"_\",i, sep = \"\")\n",
        "    assign(namx,phi%*%get(paste(\"x\", i,\"_\",i, sep = \"\")))\n",
        "    namE <- paste(\"E\", i+1, sep = \"\")\n",
        "    assign(namE,Y[i+1]-H%*%get(paste(\"x\", i+1,\"_\",i, sep = \"\")))\n",
        "    namx2 <- paste(\"x\", i+1,\"_\",i+1, sep = \"\")\n",
        "    assign(namx2,get(paste(\"x\", i+1,\"_\",i, sep = \"\"))+get(paste(\"k\", i+1, sep = \"\"))%*%get(paste(\"E\", i+1, sep = \"\")))\n",
        "    namp2 <- paste(\"p\", i+1,\"_\",i+1, sep = \"\")\n",
        "    assign(namp2,(p0_0-get(paste(\"k\", i+1, sep = \"\"))%*%H)%*%get(paste(\"p\", i+1,\"_\",i, sep = \"\")))\n",
        "    X<-rbind(X,get(paste(\"x\", i+1,\"_\",i,sep = \"\"))[1])\n",
        "    X2<-rbind(X2,get(paste(\"x\", i+1,\"_\",i,sep = \"\"))[2])\n",
        "    if(i>2){\n",
        "      remove(list=(paste(\"p\", i-1,\"_\",i-2, sep = \"\")))\n",
        "      remove(list=(paste(\"k\", i-1, sep = \"\")))\n",
        "      remove(list=(paste(\"E\", i-1, sep = \"\")))\n",
        "      remove(list=(paste(\"p\", i-2,\"_\",i-2, sep = \"\")))\n",
        "      remove(list=(paste(\"x\", i-1,\"_\",i-2, sep = \"\")))\n",
        "      remove(list=(paste(\"x\", i-2,\"_\",i-2, sep = \"\")))}\n",
        "  }\n",
        "  pred<-NULL\n",
        "  pred<-cbind(Y,X,round(X2,4))\n",
        "  pred<-as.data.frame(pred)\n",
        "  pred$region<-colnames(all[,n+1])\n",
        "  pred$date<-date$date\n",
        "  pred$actual<-rbind(0,(cbind(pred[2:nrow(pred),1])/pred[1:nrow(pred)-1,1]-1)*100)\n",
        "  pred$predict<-rbind(0,(cbind(pred[2:nrow(pred),2])/pred[1:nrow(pred)-1,2]-1)*100)\n",
        "  pred$pred_rate<-(pred$X/pred$Y-1)*100\n",
        "  pred$X2_change<-rbind(0,(cbind(pred[2:nrow(pred),3]-pred[1:nrow(pred)-1,3])))\n",
        "  pred_all<-rbind(pred_all,pred)\n",
        "}\n",
        "pred_all<-cbind(pred_all[,4:5],pred_all[,1:3])\n",
        "names(pred_all)[5]<-\"X2\"\n",
        "pred_all=pred_all[with( pred_all, order(region, date)), ]\n",
        "pred_all<-pred_all[,3:5]"
      ],
      "execution_count": 0,
      "outputs": []
    },
    {
      "cell_type": "code",
      "metadata": {
        "id": "q1I7nChuQBCo",
        "colab_type": "code",
        "colab": {}
      },
      "source": [
        "p=%R pred_all"
      ],
      "execution_count": 0,
      "outputs": []
    },
    {
      "cell_type": "code",
      "metadata": {
        "id": "j8ZrF8iJUcKq",
        "colab_type": "code",
        "outputId": "295ecee2-8b26-4e22-abfe-f5c2e60445b3",
        "colab": {
          "base_uri": "https://localhost:8080/",
          "height": 669
        }
      },
      "source": [
        "############ Merge R output due to package problem\n",
        "t=ts_d\n",
        "t=t.stack().reset_index(name='confirmed')\n",
        "t.columns=['date', 'region','confirmed']\n",
        "t['date']=pd.to_datetime(t['date'] ,errors ='coerce')\n",
        "t=t.sort_values(['region', 'date'])\n",
        "\n",
        "temp=t.iloc[:,:3]\n",
        "temp=temp.reset_index(drop=True)\n",
        "for i in range(1,len(t)+1):\n",
        "  if(temp.iloc[i,1] is not temp.iloc[i-1,1]):\n",
        "    temp.loc[len(temp)+1] = [temp.iloc[i-1,0]+ pd.DateOffset(1),temp.iloc[i-1,1], 0] \n",
        "temp=temp.sort_values(['region', 'date'])\n",
        "temp=temp.reset_index(drop=True)\n",
        "temp['Y']=p['Y']\n",
        "temp['X']=p['X']\n",
        "temp['X2']=p['X2']\n",
        "\n",
        "t.tail(20)"
      ],
      "execution_count": 0,
      "outputs": [
        {
          "output_type": "execute_result",
          "data": {
            "text/html": [
              "<div>\n",
              "<style scoped>\n",
              "    .dataframe tbody tr th:only-of-type {\n",
              "        vertical-align: middle;\n",
              "    }\n",
              "\n",
              "    .dataframe tbody tr th {\n",
              "        vertical-align: top;\n",
              "    }\n",
              "\n",
              "    .dataframe thead th {\n",
              "        text-align: right;\n",
              "    }\n",
              "</style>\n",
              "<table border=\"1\" class=\"dataframe\">\n",
              "  <thead>\n",
              "    <tr style=\"text-align: right;\">\n",
              "      <th></th>\n",
              "      <th>date</th>\n",
              "      <th>region</th>\n",
              "      <th>confirmed</th>\n",
              "    </tr>\n",
              "  </thead>\n",
              "  <tbody>\n",
              "    <tr>\n",
              "      <th>2379</th>\n",
              "      <td>2020-02-10</td>\n",
              "      <td>Vietnam_nan</td>\n",
              "      <td>0</td>\n",
              "    </tr>\n",
              "    <tr>\n",
              "      <th>2498</th>\n",
              "      <td>2020-02-11</td>\n",
              "      <td>Vietnam_nan</td>\n",
              "      <td>0</td>\n",
              "    </tr>\n",
              "    <tr>\n",
              "      <th>2617</th>\n",
              "      <td>2020-02-12</td>\n",
              "      <td>Vietnam_nan</td>\n",
              "      <td>0</td>\n",
              "    </tr>\n",
              "    <tr>\n",
              "      <th>2736</th>\n",
              "      <td>2020-02-13</td>\n",
              "      <td>Vietnam_nan</td>\n",
              "      <td>0</td>\n",
              "    </tr>\n",
              "    <tr>\n",
              "      <th>2855</th>\n",
              "      <td>2020-02-14</td>\n",
              "      <td>Vietnam_nan</td>\n",
              "      <td>0</td>\n",
              "    </tr>\n",
              "    <tr>\n",
              "      <th>2974</th>\n",
              "      <td>2020-02-15</td>\n",
              "      <td>Vietnam_nan</td>\n",
              "      <td>0</td>\n",
              "    </tr>\n",
              "    <tr>\n",
              "      <th>3093</th>\n",
              "      <td>2020-02-16</td>\n",
              "      <td>Vietnam_nan</td>\n",
              "      <td>0</td>\n",
              "    </tr>\n",
              "    <tr>\n",
              "      <th>3212</th>\n",
              "      <td>2020-02-17</td>\n",
              "      <td>Vietnam_nan</td>\n",
              "      <td>0</td>\n",
              "    </tr>\n",
              "    <tr>\n",
              "      <th>3331</th>\n",
              "      <td>2020-02-18</td>\n",
              "      <td>Vietnam_nan</td>\n",
              "      <td>0</td>\n",
              "    </tr>\n",
              "    <tr>\n",
              "      <th>3450</th>\n",
              "      <td>2020-02-19</td>\n",
              "      <td>Vietnam_nan</td>\n",
              "      <td>0</td>\n",
              "    </tr>\n",
              "    <tr>\n",
              "      <th>3569</th>\n",
              "      <td>2020-02-20</td>\n",
              "      <td>Vietnam_nan</td>\n",
              "      <td>0</td>\n",
              "    </tr>\n",
              "    <tr>\n",
              "      <th>3688</th>\n",
              "      <td>2020-02-21</td>\n",
              "      <td>Vietnam_nan</td>\n",
              "      <td>0</td>\n",
              "    </tr>\n",
              "    <tr>\n",
              "      <th>3807</th>\n",
              "      <td>2020-02-22</td>\n",
              "      <td>Vietnam_nan</td>\n",
              "      <td>0</td>\n",
              "    </tr>\n",
              "    <tr>\n",
              "      <th>3926</th>\n",
              "      <td>2020-02-23</td>\n",
              "      <td>Vietnam_nan</td>\n",
              "      <td>0</td>\n",
              "    </tr>\n",
              "    <tr>\n",
              "      <th>4045</th>\n",
              "      <td>2020-02-24</td>\n",
              "      <td>Vietnam_nan</td>\n",
              "      <td>0</td>\n",
              "    </tr>\n",
              "    <tr>\n",
              "      <th>4164</th>\n",
              "      <td>2020-02-25</td>\n",
              "      <td>Vietnam_nan</td>\n",
              "      <td>0</td>\n",
              "    </tr>\n",
              "    <tr>\n",
              "      <th>4283</th>\n",
              "      <td>2020-02-26</td>\n",
              "      <td>Vietnam_nan</td>\n",
              "      <td>0</td>\n",
              "    </tr>\n",
              "    <tr>\n",
              "      <th>4402</th>\n",
              "      <td>2020-02-27</td>\n",
              "      <td>Vietnam_nan</td>\n",
              "      <td>0</td>\n",
              "    </tr>\n",
              "    <tr>\n",
              "      <th>4521</th>\n",
              "      <td>2020-02-28</td>\n",
              "      <td>Vietnam_nan</td>\n",
              "      <td>0</td>\n",
              "    </tr>\n",
              "    <tr>\n",
              "      <th>4640</th>\n",
              "      <td>2020-02-29</td>\n",
              "      <td>Vietnam_nan</td>\n",
              "      <td>0</td>\n",
              "    </tr>\n",
              "  </tbody>\n",
              "</table>\n",
              "</div>"
            ],
            "text/plain": [
              "           date       region  confirmed\n",
              "2379 2020-02-10  Vietnam_nan          0\n",
              "2498 2020-02-11  Vietnam_nan          0\n",
              "2617 2020-02-12  Vietnam_nan          0\n",
              "2736 2020-02-13  Vietnam_nan          0\n",
              "2855 2020-02-14  Vietnam_nan          0\n",
              "2974 2020-02-15  Vietnam_nan          0\n",
              "3093 2020-02-16  Vietnam_nan          0\n",
              "3212 2020-02-17  Vietnam_nan          0\n",
              "3331 2020-02-18  Vietnam_nan          0\n",
              "3450 2020-02-19  Vietnam_nan          0\n",
              "3569 2020-02-20  Vietnam_nan          0\n",
              "3688 2020-02-21  Vietnam_nan          0\n",
              "3807 2020-02-22  Vietnam_nan          0\n",
              "3926 2020-02-23  Vietnam_nan          0\n",
              "4045 2020-02-24  Vietnam_nan          0\n",
              "4164 2020-02-25  Vietnam_nan          0\n",
              "4283 2020-02-26  Vietnam_nan          0\n",
              "4402 2020-02-27  Vietnam_nan          0\n",
              "4521 2020-02-28  Vietnam_nan          0\n",
              "4640 2020-02-29  Vietnam_nan          0"
            ]
          },
          "metadata": {
            "tags": []
          },
          "execution_count": 25
        }
      ]
    },
    {
      "cell_type": "markdown",
      "metadata": {
        "id": "a7vUr36bVvOb",
        "colab_type": "text"
      },
      "source": [
        "## Pre Proccessing Data for ML Model"
      ]
    },
    {
      "cell_type": "markdown",
      "metadata": {
        "id": "EsVRIFMLoV_3",
        "colab_type": "text"
      },
      "source": [
        "### Extract Weather Data"
      ]
    },
    {
      "cell_type": "code",
      "metadata": {
        "id": "efIXO9cgoVPW",
        "colab_type": "code",
        "colab": {}
      },
      "source": [
        "# !pip install pyweatherbit"
      ],
      "execution_count": 0,
      "outputs": []
    },
    {
      "cell_type": "code",
      "metadata": {
        "id": "LwxsJMRHoQKS",
        "colab_type": "code",
        "colab": {}
      },
      "source": [
        "\n",
        "# from weatherbit.api import Api\n",
        "# import json  \n",
        "# import pandas as pd  \n",
        "# from pandas.io.json import json_normalize \n",
        "# api_key = \"26141d374d8e49d0a2e1f1254428ce8e\"\n",
        "# #api_key =\"f206579c74644c4b96a2423cb56a1687\"\n",
        "# #api_key =\"81a581ac823849f38427fb5081cb8df8\"\n",
        "# #api_key =\"be7aaf4ff7184347aa1ebc2a2db514fe\"\n",
        "\n",
        "# api = Api(api_key)\n",
        "# api.set_granularity('daily')\n",
        "\n",
        "# # Set the granularity of the API - Options: ['daily','hourly','3hourly']\n",
        "# # Will only affect forecast requests.\n",
        "# #api.get_forecast(lat=lat, lon=lon)"
      ],
      "execution_count": 0,
      "outputs": []
    },
    {
      "cell_type": "markdown",
      "metadata": {
        "id": "6BthA7XNoBnx",
        "colab_type": "text"
      },
      "source": [
        "###Weather History"
      ]
    },
    {
      "cell_type": "code",
      "metadata": {
        "id": "eEriYmKdoFaN",
        "colab_type": "code",
        "colab": {}
      },
      "source": [
        "# ################## already done since API is limited to 500 call per day\n",
        "\n",
        "# w=pd.DataFrame(columns=['date','region','min','max'])\n",
        "# for i in range (61,len(confirmed)):\n",
        "#   start_date=pd.to_datetime('2020-01-22')\n",
        "#   for j in range (4,confirmed.shape[1]-2):\n",
        "#     jas=api.get_history(lat=confirmed.iloc[i,2], lon=confirmed.iloc[i,3], start_date=start_date.strftime('%Y-%m-%d'),end_date=(start_date+ pd.DateOffset(days=1)).strftime('%Y-%m-%d')).json\n",
        "#     # j=json_normalize(j)\n",
        "#     # j=j['data']\n",
        "#     # max_temp=json_normalize(j['data'])['max_temp'].values[0] # max\n",
        "#     # min_temp=json_normalize(j['data'])['min_temp'].values[0]\n",
        "#     try:\n",
        "#       w=w.append({'date':confirmed.columns[j],'region':confirmed.iloc[i,confirmed.shape[1]-1] ,'min':json_normalize(jas['data'])['min_temp'].values[0],'max':json_normalize(jas['data'])['max_temp'].values[0]}, ignore_index=True)\n",
        "#     except Exception:\n",
        "#       w=w.append({'date':confirmed.columns[j],'region':confirmed.iloc[i,confirmed.shape[1]-1] ,'min':None,'max':None}, ignore_index=True)\n",
        "#     start_date=start_date+ pd.DateOffset(days=1)"
      ],
      "execution_count": 0,
      "outputs": []
    },
    {
      "cell_type": "code",
      "metadata": {
        "id": "cxgj7v7IWKCp",
        "colab_type": "code",
        "colab": {}
      },
      "source": [
        "# ################## Update Recent Day Weather\n",
        "\n",
        "# w_update=pd.DataFrame(columns=['date','region','min','max'])\n",
        "# for i in range (28,len(confirmed)):\n",
        "#   start_date=pd.to_datetime('2020-02-17')\n",
        "#   for j in range (confirmed.shape[1]-4,confirmed.shape[1]-2):\n",
        "#     jas=api.get_history(lat=confirmed.iloc[i,2], lon=confirmed.iloc[i,3], start_date=start_date.strftime('%Y-%m-%d'),end_date=(start_date+ pd.DateOffset(days=1)).strftime('%Y-%m-%d')).json\n",
        "#     try:\n",
        "#       w_update=w_update.append({'date':confirmed.columns[j],'region':confirmed.iloc[i,confirmed.shape[1]-1] ,'min':json_normalize(jas['data'])['min_temp'].values[0],'max':json_normalize(jas['data'])['max_temp'].values[0]}, ignore_index=True)\n",
        "#     except Exception:\n",
        "#       w_update=w_update.append({'date':confirmed.columns[j],'region':confirmed.iloc[i,confirmed.shape[1]-1] ,'min':None,'max':None}, ignore_index=True)\n",
        "#     start_date=start_date+ pd.DateOffset(days=1)"
      ],
      "execution_count": 0,
      "outputs": []
    },
    {
      "cell_type": "code",
      "metadata": {
        "id": "aYg-APM6-4hU",
        "colab_type": "code",
        "colab": {}
      },
      "source": [
        "# w_update.to_csv(r'w_update.csv')"
      ],
      "execution_count": 0,
      "outputs": []
    },
    {
      "cell_type": "markdown",
      "metadata": {
        "id": "PTerYYnPq2X7",
        "colab_type": "text"
      },
      "source": [
        "### Extract Weather Forecast Data"
      ]
    },
    {
      "cell_type": "code",
      "metadata": {
        "id": "aSYlt1w0q1gn",
        "colab_type": "code",
        "colab": {}
      },
      "source": [
        "# ################## Forecast Weather With API - Already Done\n",
        "# #forecast = api.get_forecast(lat=lat, lon=lon)\n",
        "\n",
        "# w_forecast=pd.DataFrame(columns=['datetime','min_temp','max_temp','region'])\n",
        "# for i in range (0,len(confirmed)):\n",
        "#     jas=api.get_forecast(lat=confirmed.iloc[i,2], lon=confirmed.iloc[i,3]).json\n",
        "#     jas=json_normalize(jas['data'])[['datetime','min_temp','max_temp']]\n",
        "#     try:\n",
        "#       w_forecast_temp=jas\n",
        "#       w_forecast_temp['region']=confirmed.iloc[i,confirmed.shape[1]-1]\n",
        "#     except Exception:\n",
        "#       w_forecast_temp=pd.DataFrame(columns=['datetime','min_temp','max_temp','region'])\n",
        "#     w_forecast=w_forecast.append(w_forecast_temp)\n",
        "# w_forecast=w_forecast[['datetime','region','min_temp','max_temp']]\n",
        "# w_forecast.columns = ['date', 'region', 'min', 'max']\n",
        "# w_forecast['date']=pd.to_datetime(w_forecast['date'],format='%Y-%m-%d')"
      ],
      "execution_count": 0,
      "outputs": []
    },
    {
      "cell_type": "code",
      "metadata": {
        "id": "M4XJBLT2-quk",
        "colab_type": "code",
        "colab": {}
      },
      "source": [
        "# preceding days' weather data\n",
        "w=pd.read_csv('https://raw.githubusercontent.com/Rank23/COVID19/master/w.csv', sep=',', encoding='latin1')\n",
        "w['date']=pd.to_datetime(w['date'],format='%d/%m/%Y')\n",
        "#w['date']=pd.to_datetime(w['date'],errors ='coerce')\n",
        "\n",
        "# weather forecast data\n",
        "w_forecast=pd.read_csv('https://raw.githubusercontent.com/Rank23/COVID19/master/w.csv', sep=',', encoding='latin1')\n",
        "w_forecast['date']=pd.to_datetime(w_forecast['date'],format='%d/%m/%Y')"
      ],
      "execution_count": 0,
      "outputs": []
    },
    {
      "cell_type": "markdown",
      "metadata": {
        "id": "2vIZPBkfoqHe",
        "colab_type": "text"
      },
      "source": [
        "### Build Train Set Data Structure"
      ]
    },
    {
      "cell_type": "code",
      "metadata": {
        "id": "YPMRge7kQA8t",
        "colab_type": "code",
        "colab": {}
      },
      "source": [
        "t=ts\n",
        "t=t.stack().reset_index(name='confirmed')\n",
        "t.columns=['date', 'region','confirmed']\n",
        "t['date']=pd.to_datetime(t['date'] ,errors ='coerce')\n",
        "t=t.sort_values(['region', 'date'])\n",
        "\n",
        "# Add 1 Future day for prediction\n",
        "# 예측을 위해서 하루를 dataframe에 추가합니다.\n",
        "t=t.reset_index(drop=True)\n",
        "for i in range(1,len(t)+1):\n",
        "  if(t.iloc[i,1] is not t.iloc[i-1,1]):\n",
        "    t.loc[len(t)+1] = [t.iloc[i-1,0]+ pd.DateOffset(1),t.iloc[i-1,1], 0] \n",
        "t=t.sort_values(['region', 'date'])\n",
        "t=t.reset_index(drop=True)"
      ],
      "execution_count": 0,
      "outputs": []
    },
    {
      "cell_type": "code",
      "metadata": {
        "id": "LyuL6nqlCJPJ",
        "colab_type": "code",
        "outputId": "aa3e7cdd-7cf6-4afe-85ee-31c2e421c190",
        "colab": {
          "base_uri": "https://localhost:8080/",
          "height": 266
        }
      },
      "source": [
        "t.tail(7)"
      ],
      "execution_count": 0,
      "outputs": [
        {
          "output_type": "execute_result",
          "data": {
            "text/html": [
              "<div>\n",
              "<style scoped>\n",
              "    .dataframe tbody tr th:only-of-type {\n",
              "        vertical-align: middle;\n",
              "    }\n",
              "\n",
              "    .dataframe tbody tr th {\n",
              "        vertical-align: top;\n",
              "    }\n",
              "\n",
              "    .dataframe thead th {\n",
              "        text-align: right;\n",
              "    }\n",
              "</style>\n",
              "<table border=\"1\" class=\"dataframe\">\n",
              "  <thead>\n",
              "    <tr style=\"text-align: right;\">\n",
              "      <th></th>\n",
              "      <th>date</th>\n",
              "      <th>region</th>\n",
              "      <th>confirmed</th>\n",
              "    </tr>\n",
              "  </thead>\n",
              "  <tbody>\n",
              "    <tr>\n",
              "      <th>4753</th>\n",
              "      <td>2020-02-24</td>\n",
              "      <td>Vietnam_nan</td>\n",
              "      <td>16</td>\n",
              "    </tr>\n",
              "    <tr>\n",
              "      <th>4754</th>\n",
              "      <td>2020-02-25</td>\n",
              "      <td>Vietnam_nan</td>\n",
              "      <td>16</td>\n",
              "    </tr>\n",
              "    <tr>\n",
              "      <th>4755</th>\n",
              "      <td>2020-02-26</td>\n",
              "      <td>Vietnam_nan</td>\n",
              "      <td>16</td>\n",
              "    </tr>\n",
              "    <tr>\n",
              "      <th>4756</th>\n",
              "      <td>2020-02-27</td>\n",
              "      <td>Vietnam_nan</td>\n",
              "      <td>16</td>\n",
              "    </tr>\n",
              "    <tr>\n",
              "      <th>4757</th>\n",
              "      <td>2020-02-28</td>\n",
              "      <td>Vietnam_nan</td>\n",
              "      <td>16</td>\n",
              "    </tr>\n",
              "    <tr>\n",
              "      <th>4758</th>\n",
              "      <td>2020-02-29</td>\n",
              "      <td>Vietnam_nan</td>\n",
              "      <td>16</td>\n",
              "    </tr>\n",
              "    <tr>\n",
              "      <th>4759</th>\n",
              "      <td>2020-03-01</td>\n",
              "      <td>Vietnam_nan</td>\n",
              "      <td>0</td>\n",
              "    </tr>\n",
              "  </tbody>\n",
              "</table>\n",
              "</div>"
            ],
            "text/plain": [
              "           date       region  confirmed\n",
              "4753 2020-02-24  Vietnam_nan         16\n",
              "4754 2020-02-25  Vietnam_nan         16\n",
              "4755 2020-02-26  Vietnam_nan         16\n",
              "4756 2020-02-27  Vietnam_nan         16\n",
              "4757 2020-02-28  Vietnam_nan         16\n",
              "4758 2020-02-29  Vietnam_nan         16\n",
              "4759 2020-03-01  Vietnam_nan          0"
            ]
          },
          "metadata": {
            "tags": []
          },
          "execution_count": 34
        }
      ]
    },
    {
      "cell_type": "code",
      "metadata": {
        "id": "o_tJeuf6c4mt",
        "colab_type": "code",
        "colab": {}
      },
      "source": [
        "t['1_day_change']=t['3_day_change']=t['7_day_change']=t['1_day_change_rate']=t['3_day_change_rate']=t['7_day_change_rate']=t['last_day']=0\n",
        "for i in range(1,len(t)):\n",
        "  if(t.iloc[i,1] is t.iloc[i-2,1]):\n",
        "    t.iloc[i,3]=t.iloc[i-1,2]-t.iloc[i-2,2]\n",
        "    t.iloc[i,6]=(t.iloc[i-1,2]/t.iloc[i-2,2]-1)*100\n",
        "    t.iloc[i,9]=t.iloc[i-1,2]\n",
        "  if(t.iloc[i,1] is t.iloc[i-4,1]):\n",
        "    t.iloc[i,4]=t.iloc[i-1,2]-t.iloc[i-4,2]\n",
        "    t.iloc[i,7]=(t.iloc[i-1,2]/t.iloc[i-4,2]-1)*100\n",
        "  if(t.iloc[i,1] is t.iloc[i-8,1]):\n",
        "    t.iloc[i,5]=t.iloc[i-1,2]-t.iloc[i-8,2]\n",
        "    t.iloc[i,8]=(t.iloc[i-1,2]/t.iloc[i-8,2]-1)*100\n",
        "t=t.fillna(0)  \n",
        "t=t.merge(temp[['date','region', 'X']],how='left',on=['date','region'])\n",
        "t=t.rename(columns = {'X':'kalman_prediction'}) \n",
        "t=t.replace([np.inf, -np.inf], 0)\n",
        "t['kalman_prediction']=round(t['kalman_prediction'])\n",
        "train=t.merge(confirmed[['region',' Population ']],how='left',on='region')\n",
        "train=train.rename(columns = {' Population ':'population'})\n",
        "train['population']=train['population'].str.replace(r\" \", '')\n",
        "train['population']=train['population'].str.replace(r\",\", '')\n",
        "train['population']=train['population'].fillna(1)\n",
        "train['population']=train['population'].astype('int32')\n",
        "train['infected_rate'] =train['last_day']/train['population']*10000\n",
        "train=train.merge(w,how='left',on=['date','region'])\n",
        "train=train.sort_values(['region', 'date'])\n",
        "### fill missing weather \n",
        "# for i in range(0,len(train)):\n",
        "#   if(np.isnan(train.iloc[i,13])):\n",
        "#     if(train.iloc[i,1] is train.iloc[i-1,1]):\n",
        "#       train.iloc[i,13]=train.iloc[i-1,13]\n",
        "#       train.iloc[i,14]=train.iloc[i-1,14]"
      ],
      "execution_count": 0,
      "outputs": []
    },
    {
      "cell_type": "code",
      "metadata": {
        "id": "yX6LWp3fqig_",
        "colab_type": "code",
        "colab": {}
      },
      "source": [
        ""
      ],
      "execution_count": 0,
      "outputs": []
    },
    {
      "cell_type": "markdown",
      "metadata": {
        "id": "YekOqU6Xr-qZ",
        "colab_type": "text"
      },
      "source": [
        "## Kalman 1 day Prediction with Evaluation"
      ]
    },
    {
      "cell_type": "code",
      "metadata": {
        "id": "uH1W4ojuh--G",
        "colab_type": "code",
        "colab": {}
      },
      "source": [
        "# Select region\n",
        "# 한국을 지역으로서 선택합니다.\n",
        "region='South Korea_nan'\n",
        "\n",
        "evaluation=pd.DataFrame(columns=['region','mse','rmse','mae'])\n",
        "place=0"
      ],
      "execution_count": 0,
      "outputs": []
    },
    {
      "cell_type": "code",
      "metadata": {
        "id": "1oJ9KEdl7VAo",
        "colab_type": "code",
        "colab": {}
      },
      "source": [
        "for i in range(1,len(t)):\n",
        "  if(t.iloc[i,1] is not t.iloc[i-1,1]):\n",
        "    ex=np.array(t.iloc[i-len(ts):i,10])\n",
        "    # print(ex)\n",
        "    pred=np.array(t.iloc[i-len(ts):i,2])\n",
        "    # print(pred)\n",
        "    evaluation=evaluation.append({'region': t.iloc[i-1,1], 'mse': np.power((ex - pred),2).mean(),'rmse':sqrt(mean_squared_error(ex,pred)),'mae': (abs(ex - pred)).mean()}, ignore_index=True)\n",
        "    # print(evaluation)\n"
      ],
      "execution_count": 0,
      "outputs": []
    },
    {
      "cell_type": "code",
      "metadata": {
        "id": "lMrKfK8i7VLk",
        "colab_type": "code",
        "outputId": "3e3c1252-9e58-4304-d402-318503f32845",
        "colab": {
          "base_uri": "https://localhost:8080/",
          "height": 359
        }
      },
      "source": [
        "p=t[t['region']==region][['date','region','confirmed','kalman_prediction']]\n",
        "p.tail(10)"
      ],
      "execution_count": 0,
      "outputs": [
        {
          "output_type": "execute_result",
          "data": {
            "text/html": [
              "<div>\n",
              "<style scoped>\n",
              "    .dataframe tbody tr th:only-of-type {\n",
              "        vertical-align: middle;\n",
              "    }\n",
              "\n",
              "    .dataframe tbody tr th {\n",
              "        vertical-align: top;\n",
              "    }\n",
              "\n",
              "    .dataframe thead th {\n",
              "        text-align: right;\n",
              "    }\n",
              "</style>\n",
              "<table border=\"1\" class=\"dataframe\">\n",
              "  <thead>\n",
              "    <tr style=\"text-align: right;\">\n",
              "      <th></th>\n",
              "      <th>date</th>\n",
              "      <th>region</th>\n",
              "      <th>confirmed</th>\n",
              "      <th>kalman_prediction</th>\n",
              "    </tr>\n",
              "  </thead>\n",
              "  <tbody>\n",
              "    <tr>\n",
              "      <th>3630</th>\n",
              "      <td>2020-02-21</td>\n",
              "      <td>South Korea_nan</td>\n",
              "      <td>204</td>\n",
              "      <td>77.0</td>\n",
              "    </tr>\n",
              "    <tr>\n",
              "      <th>3631</th>\n",
              "      <td>2020-02-22</td>\n",
              "      <td>South Korea_nan</td>\n",
              "      <td>433</td>\n",
              "      <td>166.0</td>\n",
              "    </tr>\n",
              "    <tr>\n",
              "      <th>3632</th>\n",
              "      <td>2020-02-23</td>\n",
              "      <td>South Korea_nan</td>\n",
              "      <td>602</td>\n",
              "      <td>361.0</td>\n",
              "    </tr>\n",
              "    <tr>\n",
              "      <th>3633</th>\n",
              "      <td>2020-02-24</td>\n",
              "      <td>South Korea_nan</td>\n",
              "      <td>833</td>\n",
              "      <td>579.0</td>\n",
              "    </tr>\n",
              "    <tr>\n",
              "      <th>3634</th>\n",
              "      <td>2020-02-25</td>\n",
              "      <td>South Korea_nan</td>\n",
              "      <td>977</td>\n",
              "      <td>841.0</td>\n",
              "    </tr>\n",
              "    <tr>\n",
              "      <th>3635</th>\n",
              "      <td>2020-02-26</td>\n",
              "      <td>South Korea_nan</td>\n",
              "      <td>1261</td>\n",
              "      <td>1067.0</td>\n",
              "    </tr>\n",
              "    <tr>\n",
              "      <th>3636</th>\n",
              "      <td>2020-02-27</td>\n",
              "      <td>South Korea_nan</td>\n",
              "      <td>1766</td>\n",
              "      <td>1349.0</td>\n",
              "    </tr>\n",
              "    <tr>\n",
              "      <th>3637</th>\n",
              "      <td>2020-02-28</td>\n",
              "      <td>South Korea_nan</td>\n",
              "      <td>2337</td>\n",
              "      <td>1797.0</td>\n",
              "    </tr>\n",
              "    <tr>\n",
              "      <th>3638</th>\n",
              "      <td>2020-02-29</td>\n",
              "      <td>South Korea_nan</td>\n",
              "      <td>3150</td>\n",
              "      <td>2383.0</td>\n",
              "    </tr>\n",
              "    <tr>\n",
              "      <th>3639</th>\n",
              "      <td>2020-03-01</td>\n",
              "      <td>South Korea_nan</td>\n",
              "      <td>0</td>\n",
              "      <td>3188.0</td>\n",
              "    </tr>\n",
              "  </tbody>\n",
              "</table>\n",
              "</div>"
            ],
            "text/plain": [
              "           date           region  confirmed  kalman_prediction\n",
              "3630 2020-02-21  South Korea_nan        204               77.0\n",
              "3631 2020-02-22  South Korea_nan        433              166.0\n",
              "3632 2020-02-23  South Korea_nan        602              361.0\n",
              "3633 2020-02-24  South Korea_nan        833              579.0\n",
              "3634 2020-02-25  South Korea_nan        977              841.0\n",
              "3635 2020-02-26  South Korea_nan       1261             1067.0\n",
              "3636 2020-02-27  South Korea_nan       1766             1349.0\n",
              "3637 2020-02-28  South Korea_nan       2337             1797.0\n",
              "3638 2020-02-29  South Korea_nan       3150             2383.0\n",
              "3639 2020-03-01  South Korea_nan          0             3188.0"
            ]
          },
          "metadata": {
            "tags": []
          },
          "execution_count": 38
        }
      ]
    },
    {
      "cell_type": "code",
      "metadata": {
        "id": "WrnOLRKj7VRv",
        "colab_type": "code",
        "outputId": "f1f625ea-d8b0-4e96-c4ac-50f47b4a4712",
        "colab": {
          "base_uri": "https://localhost:8080/",
          "height": 390
        }
      },
      "source": [
        "p.iloc[len(p)-1,2]=None\n",
        "p=p.set_index(['date'])\n",
        "p.tail(10)"
      ],
      "execution_count": 0,
      "outputs": [
        {
          "output_type": "execute_result",
          "data": {
            "text/html": [
              "<div>\n",
              "<style scoped>\n",
              "    .dataframe tbody tr th:only-of-type {\n",
              "        vertical-align: middle;\n",
              "    }\n",
              "\n",
              "    .dataframe tbody tr th {\n",
              "        vertical-align: top;\n",
              "    }\n",
              "\n",
              "    .dataframe thead th {\n",
              "        text-align: right;\n",
              "    }\n",
              "</style>\n",
              "<table border=\"1\" class=\"dataframe\">\n",
              "  <thead>\n",
              "    <tr style=\"text-align: right;\">\n",
              "      <th></th>\n",
              "      <th>region</th>\n",
              "      <th>confirmed</th>\n",
              "      <th>kalman_prediction</th>\n",
              "    </tr>\n",
              "    <tr>\n",
              "      <th>date</th>\n",
              "      <th></th>\n",
              "      <th></th>\n",
              "      <th></th>\n",
              "    </tr>\n",
              "  </thead>\n",
              "  <tbody>\n",
              "    <tr>\n",
              "      <th>2020-02-21</th>\n",
              "      <td>South Korea_nan</td>\n",
              "      <td>204.0</td>\n",
              "      <td>77.0</td>\n",
              "    </tr>\n",
              "    <tr>\n",
              "      <th>2020-02-22</th>\n",
              "      <td>South Korea_nan</td>\n",
              "      <td>433.0</td>\n",
              "      <td>166.0</td>\n",
              "    </tr>\n",
              "    <tr>\n",
              "      <th>2020-02-23</th>\n",
              "      <td>South Korea_nan</td>\n",
              "      <td>602.0</td>\n",
              "      <td>361.0</td>\n",
              "    </tr>\n",
              "    <tr>\n",
              "      <th>2020-02-24</th>\n",
              "      <td>South Korea_nan</td>\n",
              "      <td>833.0</td>\n",
              "      <td>579.0</td>\n",
              "    </tr>\n",
              "    <tr>\n",
              "      <th>2020-02-25</th>\n",
              "      <td>South Korea_nan</td>\n",
              "      <td>977.0</td>\n",
              "      <td>841.0</td>\n",
              "    </tr>\n",
              "    <tr>\n",
              "      <th>2020-02-26</th>\n",
              "      <td>South Korea_nan</td>\n",
              "      <td>1261.0</td>\n",
              "      <td>1067.0</td>\n",
              "    </tr>\n",
              "    <tr>\n",
              "      <th>2020-02-27</th>\n",
              "      <td>South Korea_nan</td>\n",
              "      <td>1766.0</td>\n",
              "      <td>1349.0</td>\n",
              "    </tr>\n",
              "    <tr>\n",
              "      <th>2020-02-28</th>\n",
              "      <td>South Korea_nan</td>\n",
              "      <td>2337.0</td>\n",
              "      <td>1797.0</td>\n",
              "    </tr>\n",
              "    <tr>\n",
              "      <th>2020-02-29</th>\n",
              "      <td>South Korea_nan</td>\n",
              "      <td>3150.0</td>\n",
              "      <td>2383.0</td>\n",
              "    </tr>\n",
              "    <tr>\n",
              "      <th>2020-03-01</th>\n",
              "      <td>South Korea_nan</td>\n",
              "      <td>NaN</td>\n",
              "      <td>3188.0</td>\n",
              "    </tr>\n",
              "  </tbody>\n",
              "</table>\n",
              "</div>"
            ],
            "text/plain": [
              "                     region  confirmed  kalman_prediction\n",
              "date                                                     \n",
              "2020-02-21  South Korea_nan      204.0               77.0\n",
              "2020-02-22  South Korea_nan      433.0              166.0\n",
              "2020-02-23  South Korea_nan      602.0              361.0\n",
              "2020-02-24  South Korea_nan      833.0              579.0\n",
              "2020-02-25  South Korea_nan      977.0              841.0\n",
              "2020-02-26  South Korea_nan     1261.0             1067.0\n",
              "2020-02-27  South Korea_nan     1766.0             1349.0\n",
              "2020-02-28  South Korea_nan     2337.0             1797.0\n",
              "2020-02-29  South Korea_nan     3150.0             2383.0\n",
              "2020-03-01  South Korea_nan        NaN             3188.0"
            ]
          },
          "metadata": {
            "tags": []
          },
          "execution_count": 39
        }
      ]
    },
    {
      "cell_type": "code",
      "metadata": {
        "id": "vpnr9rWs7VaC",
        "colab_type": "code",
        "outputId": "0673b9a4-6f72-4b22-865e-5b1c1a3d96c8",
        "colab": {
          "base_uri": "https://localhost:8080/",
          "height": 588
        }
      },
      "source": [
        "p.iloc[:,1:].plot(marker='o',figsize=(16,8)).set_title('Kalman Prediction - Select Region to Change - {}'.format(p.iloc[0,0]),fontdict={'fontsize': 22})\n",
        "print(evaluation[evaluation['region']==p.iloc[0,0]])"
      ],
      "execution_count": 0,
      "outputs": [
        {
          "output_type": "stream",
          "text": [
            "             region            mse        rmse    mae\n",
            "90  South Korea_nan  294578.102564  542.750498  160.0\n"
          ],
          "name": "stdout"
        },
        {
          "output_type": "display_data",
          "data": {
            "image/png": "[encoded data removed]",
            "text/plain": [
              "<Figure size 1152x576 with 1 Axes>"
            ]
          },
          "metadata": {
            "tags": []
          }
        }
      ]
    },
    {
      "cell_type": "code",
      "metadata": {
        "id": "Sx-FpYG77Vhv",
        "colab_type": "code",
        "colab": {}
      },
      "source": [
        ""
      ],
      "execution_count": 0,
      "outputs": []
    },
    {
      "cell_type": "code",
      "metadata": {
        "id": "KpdMdpTdBgGP",
        "colab_type": "code",
        "outputId": "82528b87-6ae7-4a29-fabd-e44f1402af5f",
        "colab": {
          "base_uri": "https://localhost:8080/",
          "height": 582
        }
      },
      "source": [
        "# Select region\n",
        "region='China_Shanghai'\n",
        "\n",
        "evaluation=pd.DataFrame(columns=['region','mse','rmse','mae'])\n",
        "place=0\n",
        "for i in range(1,len(t)):\n",
        "  if(t.iloc[i,1] is not t.iloc[i-1,1]):\n",
        "    ex=np.array(t.iloc[i-len(ts):i,10])\n",
        "    pred=np.array(t.iloc[i-len(ts):i,2])\n",
        "    evaluation=evaluation.append({'region': t.iloc[i-1,1], 'mse': np.power((ex - pred),2).mean(),'rmse':sqrt(mean_squared_error(ex,pred)),'mae': (abs(ex - pred)).mean()}, ignore_index=True)\n",
        "p=t[t['region']==region][['date','region','confirmed','kalman_prediction']]\n",
        "p.iloc[len(p)-1,2]=None\n",
        "p=p.set_index(['date'])\n",
        "p.iloc[:,1:].plot(marker='o',figsize=(16,8)).set_title('Kalman Prediction - Select Region to Change - {}'.format(p.iloc[0,0]))\n",
        "print(evaluation[evaluation['region']==p.iloc[0,0]])"
      ],
      "execution_count": 0,
      "outputs": [
        {
          "output_type": "stream",
          "text": [
            "            region          mse       rmse        mae\n",
            "41  China_Shanghai  2999.615385  54.768745  15.307692\n"
          ],
          "name": "stdout"
        },
        {
          "output_type": "display_data",
          "data": {
            "image/png": "[encoded data removed]",
            "text/plain": [
              "<Figure size 1152x576 with 1 Axes>"
            ]
          },
          "metadata": {
            "tags": []
          }
        }
      ]
    },
    {
      "cell_type": "code",
      "metadata": {
        "id": "foHjUF8gFvmq",
        "colab_type": "code",
        "outputId": "ced88a13-ad84-4842-d6fb-683393ac7a2b",
        "colab": {
          "base_uri": "https://localhost:8080/",
          "height": 588
        }
      },
      "source": [
        "# Select region\n",
        "region='Italy_nan'\n",
        "\n",
        "evaluation=pd.DataFrame(columns=['region','mse','rmse','mae'])\n",
        "place=0\n",
        "for i in range(1,len(t)):\n",
        "  if(t.iloc[i,1] is not t.iloc[i-1,1]):\n",
        "    ex=np.array(t.iloc[i-len(ts):i,10])\n",
        "    pred=np.array(t.iloc[i-len(ts):i,2])\n",
        "    evaluation=evaluation.append({'region': t.iloc[i-1,1], 'mse': np.power((ex - pred),2).mean(),'rmse':sqrt(mean_squared_error(ex,pred)),'mae': (abs(ex - pred)).mean()}, ignore_index=True)\n",
        "p=t[t['region']==region][['date','region','confirmed','kalman_prediction']]\n",
        "p.iloc[len(p)-1,2]=None\n",
        "p=p.set_index(['date'])\n",
        "p.iloc[:,1:].plot(marker='o',figsize=(16,8)).set_title('Kalman Prediction - {}'.format(p.iloc[0,0]),fontdict={'fontsize': 22})\n",
        "print(evaluation[evaluation['region']==p.iloc[0,0]])"
      ],
      "execution_count": 0,
      "outputs": [
        {
          "output_type": "stream",
          "text": [
            "       region           mse        rmse        mae\n",
            "65  Italy_nan  40843.051282  202.096638  60.435897\n"
          ],
          "name": "stdout"
        },
        {
          "output_type": "display_data",
          "data": {
            "image/png": "[encoded data removed]",
            "text/plain": [
              "<Figure size 1152x576 with 1 Axes>"
            ]
          },
          "metadata": {
            "tags": []
          }
        }
      ]
    },
    {
      "cell_type": "markdown",
      "metadata": {
        "id": "8fjvSTMetENY",
        "colab_type": "text"
      },
      "source": [
        "## Regression - 1 Day Prediction"
      ]
    },
    {
      "cell_type": "code",
      "metadata": {
        "id": "j0cRQK7UfQVg",
        "colab_type": "code",
        "outputId": "16b52998-486d-4b1b-aa2b-b95724baf316",
        "colab": {
          "base_uri": "https://localhost:8080/",
          "height": 681
        }
      },
      "source": [
        "!pip install h2o\n",
        "import h2o\n",
        "from h2o.estimators import H2ORandomForestEstimator\n",
        "from h2o.estimators.glm import H2OGeneralizedLinearEstimator\n",
        "from h2o.grid.grid_search import H2OGridSearch\n",
        "h2o.init(min_mem_size='8G')\n",
        "import numpy as np\n",
        "from sklearn.linear_model import LinearRegression"
      ],
      "execution_count": 0,
      "outputs": [
        {
          "output_type": "stream",
          "text": [
            "Requirement already satisfied: h2o in /usr/local/lib/python3.6/dist-packages (3.28.0.3)\n",
            "Requirement already satisfied: future in /usr/local/lib/python3.6/dist-packages (from h2o) (0.16.0)\n",
            "Requirement already satisfied: tabulate in /usr/local/lib/python3.6/dist-packages (from h2o) (0.8.6)\n",
            "Requirement already satisfied: colorama>=0.3.8 in /usr/local/lib/python3.6/dist-packages (from h2o) (0.4.3)\n",
            "Requirement already satisfied: requests in /usr/local/lib/python3.6/dist-packages (from h2o) (2.21.0)\n",
            "Requirement already satisfied: idna<2.9,>=2.5 in /usr/local/lib/python3.6/dist-packages (from requests->h2o) (2.8)\n",
            "Requirement already satisfied: urllib3<1.25,>=1.21.1 in /usr/local/lib/python3.6/dist-packages (from requests->h2o) (1.24.3)\n",
            "Requirement already satisfied: certifi>=2017.4.17 in /usr/local/lib/python3.6/dist-packages (from requests->h2o) (2019.11.28)\n",
            "Requirement already satisfied: chardet<3.1.0,>=3.0.2 in /usr/local/lib/python3.6/dist-packages (from requests->h2o) (3.0.4)\n",
            "Checking whether there is an H2O instance running at http://localhost:54321 ..... not found.\n",
            "Attempting to start a local H2O server...\n",
            "  Java Version: openjdk version \"11.0.6\" 2020-01-14; OpenJDK Runtime Environment (build 11.0.6+10-post-Ubuntu-1ubuntu118.04.1); OpenJDK 64-Bit Server VM (build 11.0.6+10-post-Ubuntu-1ubuntu118.04.1, mixed mode, sharing)\n",
            "  Starting server from /usr/local/lib/python3.6/dist-packages/h2o/backend/bin/h2o.jar\n",
            "  Ice root: /tmp/tmp5ofdn3t2\n",
            "  JVM stdout: /tmp/tmp5ofdn3t2/h2o_unknownUser_started_from_python.out\n",
            "  JVM stderr: /tmp/tmp5ofdn3t2/h2o_unknownUser_started_from_python.err\n",
            "  Server is running at http://127.0.0.1:54321\n",
            "Connecting to H2O server at http://127.0.0.1:54321 ... successful.\n"
          ],
          "name": "stdout"
        },
        {
          "output_type": "display_data",
          "data": {
            "text/html": [
              "<div style=\"overflow:auto\"><table style=\"width:50%\"><tr><td>H2O cluster uptime:</td>\n",
              "<td>02 secs</td></tr>\n",
              "<tr><td>H2O cluster timezone:</td>\n",
              "<td>Etc/UTC</td></tr>\n",
              "<tr><td>H2O data parsing timezone:</td>\n",
              "<td>UTC</td></tr>\n",
              "<tr><td>H2O cluster version:</td>\n",
              "<td>3.28.0.3</td></tr>\n",
              "<tr><td>H2O cluster version age:</td>\n",
              "<td>24 days </td></tr>\n",
              "<tr><td>H2O cluster name:</td>\n",
              "<td>H2O_from_python_unknownUser_8rgi20</td></tr>\n",
              "<tr><td>H2O cluster total nodes:</td>\n",
              "<td>1</td></tr>\n",
              "<tr><td>H2O cluster free memory:</td>\n",
              "<td>8 Gb</td></tr>\n",
              "<tr><td>H2O cluster total cores:</td>\n",
              "<td>2</td></tr>\n",
              "<tr><td>H2O cluster allowed cores:</td>\n",
              "<td>2</td></tr>\n",
              "<tr><td>H2O cluster status:</td>\n",
              "<td>accepting new members, healthy</td></tr>\n",
              "<tr><td>H2O connection url:</td>\n",
              "<td>http://127.0.0.1:54321</td></tr>\n",
              "<tr><td>H2O connection proxy:</td>\n",
              "<td>{'http': None, 'https': None}</td></tr>\n",
              "<tr><td>H2O internal security:</td>\n",
              "<td>False</td></tr>\n",
              "<tr><td>H2O API Extensions:</td>\n",
              "<td>Amazon S3, XGBoost, Algos, AutoML, Core V3, TargetEncoder, Core V4</td></tr>\n",
              "<tr><td>Python version:</td>\n",
              "<td>3.6.9 final</td></tr></table></div>"
            ],
            "text/plain": [
              "--------------------------  ------------------------------------------------------------------\n",
              "H2O cluster uptime:         02 secs\n",
              "H2O cluster timezone:       Etc/UTC\n",
              "H2O data parsing timezone:  UTC\n",
              "H2O cluster version:        3.28.0.3\n",
              "H2O cluster version age:    24 days\n",
              "H2O cluster name:           H2O_from_python_unknownUser_8rgi20\n",
              "H2O cluster total nodes:    1\n",
              "H2O cluster free memory:    8 Gb\n",
              "H2O cluster total cores:    2\n",
              "H2O cluster allowed cores:  2\n",
              "H2O cluster status:         accepting new members, healthy\n",
              "H2O connection url:         http://127.0.0.1:54321\n",
              "H2O connection proxy:       {'http': None, 'https': None}\n",
              "H2O internal security:      False\n",
              "H2O API Extensions:         Amazon S3, XGBoost, Algos, AutoML, Core V3, TargetEncoder, Core V4\n",
              "Python version:             3.6.9 final\n",
              "--------------------------  ------------------------------------------------------------------"
            ]
          },
          "metadata": {
            "tags": []
          }
        }
      ]
    },
    {
      "cell_type": "code",
      "metadata": {
        "id": "l-8IZT7BCf4Y",
        "colab_type": "code",
        "outputId": "6ddd43a2-9ffc-447d-f080-5c3e35d5652f",
        "colab": {
          "base_uri": "https://localhost:8080/",
          "height": 34
        }
      },
      "source": [
        "# today's date\n",
        "# 오늘의 날짜를 출력합니다\n",
        "from datetime import date, datetime, timedelta\n",
        "today_int = date.today()\n",
        "today_str = str(today_int)\n",
        "today_str"
      ],
      "execution_count": 0,
      "outputs": [
        {
          "output_type": "execute_result",
          "data": {
            "text/plain": [
              "'2020-03-01'"
            ]
          },
          "metadata": {
            "tags": []
          },
          "execution_count": 44
        }
      ]
    },
    {
      "cell_type": "code",
      "metadata": {
        "id": "V1PhmFtLC9T8",
        "colab_type": "code",
        "outputId": "377668b6-8624-432d-c899-d546036bf19d",
        "colab": {
          "base_uri": "https://localhost:8080/",
          "height": 34
        }
      },
      "source": [
        "# recent days for boosting below\n",
        "# 데이터에 가중치를 둘 최근의 날짜를 설정합니다.\n",
        "d = datetime.today() - timedelta(days=5)\n",
        "boosting_date = str(d.date())\n",
        "boosting_date"
      ],
      "execution_count": 0,
      "outputs": [
        {
          "output_type": "execute_result",
          "data": {
            "text/plain": [
              "'2020-02-25'"
            ]
          },
          "metadata": {
            "tags": []
          },
          "execution_count": 45
        }
      ]
    },
    {
      "cell_type": "code",
      "metadata": {
        "id": "RCRpcsPWEWvL",
        "colab_type": "code",
        "outputId": "3ae95268-932e-439d-f90d-a79378d9fb5a",
        "colab": {
          "base_uri": "https://localhost:8080/",
          "height": 34
        }
      },
      "source": [
        "# available datasets to train\n",
        "# 훈련을 시킬 데이터셋을 불러옵니다\n",
        "d2 = datetime.today() - timedelta(days=1)\n",
        "training_d = str(d2.date())\n",
        "training_d"
      ],
      "execution_count": 0,
      "outputs": [
        {
          "output_type": "execute_result",
          "data": {
            "text/plain": [
              "'2020-02-29'"
            ]
          },
          "metadata": {
            "tags": []
          },
          "execution_count": 46
        }
      ]
    },
    {
      "cell_type": "code",
      "metadata": {
        "id": "_xWD8LEzPeXp",
        "colab_type": "code",
        "outputId": "f13a6fd1-9afd-4ed7-ee04-9e624ee4797a",
        "colab": {
          "base_uri": "https://localhost:8080/",
          "height": 309
        }
      },
      "source": [
        "train.tail()"
      ],
      "execution_count": 0,
      "outputs": [
        {
          "output_type": "execute_result",
          "data": {
            "text/html": [
              "<div>\n",
              "<style scoped>\n",
              "    .dataframe tbody tr th:only-of-type {\n",
              "        vertical-align: middle;\n",
              "    }\n",
              "\n",
              "    .dataframe tbody tr th {\n",
              "        vertical-align: top;\n",
              "    }\n",
              "\n",
              "    .dataframe thead th {\n",
              "        text-align: right;\n",
              "    }\n",
              "</style>\n",
              "<table border=\"1\" class=\"dataframe\">\n",
              "  <thead>\n",
              "    <tr style=\"text-align: right;\">\n",
              "      <th></th>\n",
              "      <th>date</th>\n",
              "      <th>region</th>\n",
              "      <th>confirmed</th>\n",
              "      <th>1_day_change</th>\n",
              "      <th>3_day_change</th>\n",
              "      <th>7_day_change</th>\n",
              "      <th>1_day_change_rate</th>\n",
              "      <th>3_day_change_rate</th>\n",
              "      <th>7_day_change_rate</th>\n",
              "      <th>last_day</th>\n",
              "      <th>kalman_prediction</th>\n",
              "      <th>population</th>\n",
              "      <th>infected_rate</th>\n",
              "      <th>min</th>\n",
              "      <th>max</th>\n",
              "    </tr>\n",
              "  </thead>\n",
              "  <tbody>\n",
              "    <tr>\n",
              "      <th>5093</th>\n",
              "      <td>2020-02-26</td>\n",
              "      <td>Vietnam_nan</td>\n",
              "      <td>16</td>\n",
              "      <td>0</td>\n",
              "      <td>0</td>\n",
              "      <td>0</td>\n",
              "      <td>0.0</td>\n",
              "      <td>0.0</td>\n",
              "      <td>0.0</td>\n",
              "      <td>16</td>\n",
              "      <td>16.0</td>\n",
              "      <td>95540000</td>\n",
              "      <td>0.001675</td>\n",
              "      <td>19.0</td>\n",
              "      <td>27.0</td>\n",
              "    </tr>\n",
              "    <tr>\n",
              "      <th>5094</th>\n",
              "      <td>2020-02-27</td>\n",
              "      <td>Vietnam_nan</td>\n",
              "      <td>16</td>\n",
              "      <td>0</td>\n",
              "      <td>0</td>\n",
              "      <td>0</td>\n",
              "      <td>0.0</td>\n",
              "      <td>0.0</td>\n",
              "      <td>0.0</td>\n",
              "      <td>16</td>\n",
              "      <td>16.0</td>\n",
              "      <td>95540000</td>\n",
              "      <td>0.001675</td>\n",
              "      <td>NaN</td>\n",
              "      <td>NaN</td>\n",
              "    </tr>\n",
              "    <tr>\n",
              "      <th>5095</th>\n",
              "      <td>2020-02-28</td>\n",
              "      <td>Vietnam_nan</td>\n",
              "      <td>16</td>\n",
              "      <td>0</td>\n",
              "      <td>0</td>\n",
              "      <td>0</td>\n",
              "      <td>0.0</td>\n",
              "      <td>0.0</td>\n",
              "      <td>0.0</td>\n",
              "      <td>16</td>\n",
              "      <td>16.0</td>\n",
              "      <td>95540000</td>\n",
              "      <td>0.001675</td>\n",
              "      <td>NaN</td>\n",
              "      <td>NaN</td>\n",
              "    </tr>\n",
              "    <tr>\n",
              "      <th>5096</th>\n",
              "      <td>2020-02-29</td>\n",
              "      <td>Vietnam_nan</td>\n",
              "      <td>16</td>\n",
              "      <td>0</td>\n",
              "      <td>0</td>\n",
              "      <td>0</td>\n",
              "      <td>0.0</td>\n",
              "      <td>0.0</td>\n",
              "      <td>0.0</td>\n",
              "      <td>16</td>\n",
              "      <td>16.0</td>\n",
              "      <td>95540000</td>\n",
              "      <td>0.001675</td>\n",
              "      <td>NaN</td>\n",
              "      <td>NaN</td>\n",
              "    </tr>\n",
              "    <tr>\n",
              "      <th>5097</th>\n",
              "      <td>2020-03-01</td>\n",
              "      <td>Vietnam_nan</td>\n",
              "      <td>0</td>\n",
              "      <td>0</td>\n",
              "      <td>0</td>\n",
              "      <td>0</td>\n",
              "      <td>0.0</td>\n",
              "      <td>0.0</td>\n",
              "      <td>0.0</td>\n",
              "      <td>16</td>\n",
              "      <td>16.0</td>\n",
              "      <td>95540000</td>\n",
              "      <td>0.001675</td>\n",
              "      <td>NaN</td>\n",
              "      <td>NaN</td>\n",
              "    </tr>\n",
              "  </tbody>\n",
              "</table>\n",
              "</div>"
            ],
            "text/plain": [
              "           date       region  confirmed  ...  infected_rate   min   max\n",
              "5093 2020-02-26  Vietnam_nan         16  ...       0.001675  19.0  27.0\n",
              "5094 2020-02-27  Vietnam_nan         16  ...       0.001675   NaN   NaN\n",
              "5095 2020-02-28  Vietnam_nan         16  ...       0.001675   NaN   NaN\n",
              "5096 2020-02-29  Vietnam_nan         16  ...       0.001675   NaN   NaN\n",
              "5097 2020-03-01  Vietnam_nan          0  ...       0.001675   NaN   NaN\n",
              "\n",
              "[5 rows x 15 columns]"
            ]
          },
          "metadata": {
            "tags": []
          },
          "execution_count": 47
        }
      ]
    },
    {
      "cell_type": "code",
      "metadata": {
        "id": "Ze1_E-ICfQQk",
        "colab_type": "code",
        "outputId": "c34d3230-aa6f-486d-fe3d-00199ac7a687",
        "colab": {
          "base_uri": "https://localhost:8080/",
          "height": 69
        }
      },
      "source": [
        "train=train.fillna(0) \n",
        "train_df=train[train['date']<training_d]\n",
        "\n",
        "# some bootstrap to give more weight for recent days\n",
        "# 최근의 확진자 데이터에 가중을 둬서 훈련을 시킵니다.\n",
        "boots=train_df[train_df['date']>=boosting_date] \n",
        "train_df=train_df.append([boots[boots['date']>=boosting_date]]*1000,ignore_index=True)\n",
        "train_df_hubei=train_df[train_df['region']=='China_Hubei']\n",
        "test=train[train['date']>=training_d]\n",
        "test=test[test['date']<training_d]\n",
        "test"
      ],
      "execution_count": 0,
      "outputs": [
        {
          "output_type": "execute_result",
          "data": {
            "text/html": [
              "<div>\n",
              "<style scoped>\n",
              "    .dataframe tbody tr th:only-of-type {\n",
              "        vertical-align: middle;\n",
              "    }\n",
              "\n",
              "    .dataframe tbody tr th {\n",
              "        vertical-align: top;\n",
              "    }\n",
              "\n",
              "    .dataframe thead th {\n",
              "        text-align: right;\n",
              "    }\n",
              "</style>\n",
              "<table border=\"1\" class=\"dataframe\">\n",
              "  <thead>\n",
              "    <tr style=\"text-align: right;\">\n",
              "      <th></th>\n",
              "      <th>date</th>\n",
              "      <th>region</th>\n",
              "      <th>confirmed</th>\n",
              "      <th>1_day_change</th>\n",
              "      <th>3_day_change</th>\n",
              "      <th>7_day_change</th>\n",
              "      <th>1_day_change_rate</th>\n",
              "      <th>3_day_change_rate</th>\n",
              "      <th>7_day_change_rate</th>\n",
              "      <th>last_day</th>\n",
              "      <th>kalman_prediction</th>\n",
              "      <th>population</th>\n",
              "      <th>infected_rate</th>\n",
              "      <th>min</th>\n",
              "      <th>max</th>\n",
              "    </tr>\n",
              "  </thead>\n",
              "  <tbody>\n",
              "  </tbody>\n",
              "</table>\n",
              "</div>"
            ],
            "text/plain": [
              "Empty DataFrame\n",
              "Columns: [date, region, confirmed, 1_day_change, 3_day_change, 7_day_change, 1_day_change_rate, 3_day_change_rate, 7_day_change_rate, last_day, kalman_prediction, population, infected_rate, min, max]\n",
              "Index: []"
            ]
          },
          "metadata": {
            "tags": []
          },
          "execution_count": 48
        }
      ]
    },
    {
      "cell_type": "code",
      "metadata": {
        "id": "sAUTYoomzK-j",
        "colab_type": "code",
        "colab": {}
      },
      "source": [
        "x_col=[#'region',\n",
        "            '1_day_change', '3_day_change','7_day_change',\n",
        "            # '1_day_change_rate', \n",
        "            #'3_day_change_rate',\n",
        "             '7_day_change_rate', \n",
        "            'last_day', 'kalman_prediction','infected_rate', 'min', 'max'\n",
        "          ]"
      ],
      "execution_count": 0,
      "outputs": []
    },
    {
      "cell_type": "code",
      "metadata": {
        "id": "uHZuGtlZq9z2",
        "colab_type": "code",
        "outputId": "077f1052-8fd2-4541-eea1-ccf9e041866e",
        "colab": {
          "base_uri": "https://localhost:8080/",
          "height": 204
        }
      },
      "source": [
        "x=train_df[x_col]\n",
        "x.tail()"
      ],
      "execution_count": 0,
      "outputs": [
        {
          "output_type": "execute_result",
          "data": {
            "text/html": [
              "<div>\n",
              "<style scoped>\n",
              "    .dataframe tbody tr th:only-of-type {\n",
              "        vertical-align: middle;\n",
              "    }\n",
              "\n",
              "    .dataframe tbody tr th {\n",
              "        vertical-align: top;\n",
              "    }\n",
              "\n",
              "    .dataframe thead th {\n",
              "        text-align: right;\n",
              "    }\n",
              "</style>\n",
              "<table border=\"1\" class=\"dataframe\">\n",
              "  <thead>\n",
              "    <tr style=\"text-align: right;\">\n",
              "      <th></th>\n",
              "      <th>1_day_change</th>\n",
              "      <th>3_day_change</th>\n",
              "      <th>7_day_change</th>\n",
              "      <th>7_day_change_rate</th>\n",
              "      <th>last_day</th>\n",
              "      <th>kalman_prediction</th>\n",
              "      <th>infected_rate</th>\n",
              "      <th>min</th>\n",
              "      <th>max</th>\n",
              "    </tr>\n",
              "  </thead>\n",
              "  <tbody>\n",
              "    <tr>\n",
              "      <th>662855</th>\n",
              "      <td>0</td>\n",
              "      <td>0</td>\n",
              "      <td>0</td>\n",
              "      <td>0.0</td>\n",
              "      <td>16</td>\n",
              "      <td>16.0</td>\n",
              "      <td>0.001675</td>\n",
              "      <td>15.0</td>\n",
              "      <td>21.6</td>\n",
              "    </tr>\n",
              "    <tr>\n",
              "      <th>662856</th>\n",
              "      <td>0</td>\n",
              "      <td>0</td>\n",
              "      <td>0</td>\n",
              "      <td>0.0</td>\n",
              "      <td>16</td>\n",
              "      <td>16.0</td>\n",
              "      <td>0.001675</td>\n",
              "      <td>18.0</td>\n",
              "      <td>27.0</td>\n",
              "    </tr>\n",
              "    <tr>\n",
              "      <th>662857</th>\n",
              "      <td>0</td>\n",
              "      <td>0</td>\n",
              "      <td>0</td>\n",
              "      <td>0.0</td>\n",
              "      <td>16</td>\n",
              "      <td>16.0</td>\n",
              "      <td>0.001675</td>\n",
              "      <td>19.0</td>\n",
              "      <td>27.0</td>\n",
              "    </tr>\n",
              "    <tr>\n",
              "      <th>662858</th>\n",
              "      <td>0</td>\n",
              "      <td>0</td>\n",
              "      <td>0</td>\n",
              "      <td>0.0</td>\n",
              "      <td>16</td>\n",
              "      <td>16.0</td>\n",
              "      <td>0.001675</td>\n",
              "      <td>0.0</td>\n",
              "      <td>0.0</td>\n",
              "    </tr>\n",
              "    <tr>\n",
              "      <th>662859</th>\n",
              "      <td>0</td>\n",
              "      <td>0</td>\n",
              "      <td>0</td>\n",
              "      <td>0.0</td>\n",
              "      <td>16</td>\n",
              "      <td>16.0</td>\n",
              "      <td>0.001675</td>\n",
              "      <td>0.0</td>\n",
              "      <td>0.0</td>\n",
              "    </tr>\n",
              "  </tbody>\n",
              "</table>\n",
              "</div>"
            ],
            "text/plain": [
              "        1_day_change  3_day_change  7_day_change  ...  infected_rate   min   max\n",
              "662855             0             0             0  ...       0.001675  15.0  21.6\n",
              "662856             0             0             0  ...       0.001675  18.0  27.0\n",
              "662857             0             0             0  ...       0.001675  19.0  27.0\n",
              "662858             0             0             0  ...       0.001675   0.0   0.0\n",
              "662859             0             0             0  ...       0.001675   0.0   0.0\n",
              "\n",
              "[5 rows x 9 columns]"
            ]
          },
          "metadata": {
            "tags": []
          },
          "execution_count": 50
        }
      ]
    },
    {
      "cell_type": "code",
      "metadata": {
        "id": "USG76k46IXRb",
        "colab_type": "code",
        "outputId": "2a822feb-978b-4eed-d5b3-0ba085a47af4",
        "colab": {
          "base_uri": "https://localhost:8080/",
          "height": 119
        }
      },
      "source": [
        "y=train_df['confirmed']\n",
        "y.tail()"
      ],
      "execution_count": 0,
      "outputs": [
        {
          "output_type": "execute_result",
          "data": {
            "text/plain": [
              "662855    16\n",
              "662856    16\n",
              "662857    16\n",
              "662858    16\n",
              "662859    16\n",
              "Name: confirmed, dtype: int64"
            ]
          },
          "metadata": {
            "tags": []
          },
          "execution_count": 51
        }
      ]
    },
    {
      "cell_type": "code",
      "metadata": {
        "id": "0D5sTGH_Id1N",
        "colab_type": "code",
        "colab": {}
      },
      "source": [
        "reg = LinearRegression().fit(x,y)"
      ],
      "execution_count": 0,
      "outputs": []
    },
    {
      "cell_type": "code",
      "metadata": {
        "id": "hUVTOoKAFF5L",
        "colab_type": "code",
        "outputId": "21bde33d-d97b-4e0d-8d1c-6fd096c3b326",
        "colab": {
          "base_uri": "https://localhost:8080/",
          "height": 419
        }
      },
      "source": [
        "# pred2=reg.predict(test[x_col])\n",
        "pred2=reg.predict(x)\n",
        "pred2=pd.DataFrame(pred2)\n",
        "pred2=round(pred2)\n",
        "pred2"
      ],
      "execution_count": 0,
      "outputs": [
        {
          "output_type": "execute_result",
          "data": {
            "text/html": [
              "<div>\n",
              "<style scoped>\n",
              "    .dataframe tbody tr th:only-of-type {\n",
              "        vertical-align: middle;\n",
              "    }\n",
              "\n",
              "    .dataframe tbody tr th {\n",
              "        vertical-align: top;\n",
              "    }\n",
              "\n",
              "    .dataframe thead th {\n",
              "        text-align: right;\n",
              "    }\n",
              "</style>\n",
              "<table border=\"1\" class=\"dataframe\">\n",
              "  <thead>\n",
              "    <tr style=\"text-align: right;\">\n",
              "      <th></th>\n",
              "      <th>0</th>\n",
              "    </tr>\n",
              "  </thead>\n",
              "  <tbody>\n",
              "    <tr>\n",
              "      <th>0</th>\n",
              "      <td>1.0</td>\n",
              "    </tr>\n",
              "    <tr>\n",
              "      <th>1</th>\n",
              "      <td>1.0</td>\n",
              "    </tr>\n",
              "    <tr>\n",
              "      <th>2</th>\n",
              "      <td>1.0</td>\n",
              "    </tr>\n",
              "    <tr>\n",
              "      <th>3</th>\n",
              "      <td>1.0</td>\n",
              "    </tr>\n",
              "    <tr>\n",
              "      <th>4</th>\n",
              "      <td>1.0</td>\n",
              "    </tr>\n",
              "    <tr>\n",
              "      <th>...</th>\n",
              "      <td>...</td>\n",
              "    </tr>\n",
              "    <tr>\n",
              "      <th>662855</th>\n",
              "      <td>17.0</td>\n",
              "    </tr>\n",
              "    <tr>\n",
              "      <th>662856</th>\n",
              "      <td>17.0</td>\n",
              "    </tr>\n",
              "    <tr>\n",
              "      <th>662857</th>\n",
              "      <td>17.0</td>\n",
              "    </tr>\n",
              "    <tr>\n",
              "      <th>662858</th>\n",
              "      <td>17.0</td>\n",
              "    </tr>\n",
              "    <tr>\n",
              "      <th>662859</th>\n",
              "      <td>17.0</td>\n",
              "    </tr>\n",
              "  </tbody>\n",
              "</table>\n",
              "<p>662860 rows × 1 columns</p>\n",
              "</div>"
            ],
            "text/plain": [
              "           0\n",
              "0        1.0\n",
              "1        1.0\n",
              "2        1.0\n",
              "3        1.0\n",
              "4        1.0\n",
              "...      ...\n",
              "662855  17.0\n",
              "662856  17.0\n",
              "662857  17.0\n",
              "662858  17.0\n",
              "662859  17.0\n",
              "\n",
              "[662860 rows x 1 columns]"
            ]
          },
          "metadata": {
            "tags": []
          },
          "execution_count": 53
        }
      ]
    },
    {
      "cell_type": "code",
      "metadata": {
        "id": "pYR5bIY8FKTF",
        "colab_type": "code",
        "outputId": "8a87edf4-a0e7-47be-c60e-70d578869591",
        "colab": {
          "base_uri": "https://localhost:8080/",
          "height": 34
        }
      },
      "source": [
        "len(pred2[0])\n",
        "len(test['confirmed'].values)\n",
        "# pred2['date']=test['date'].values\n",
        "# pred2['region']=test['region'].values\n",
        "# #pred2.iloc[:55]"
      ],
      "execution_count": 0,
      "outputs": [
        {
          "output_type": "execute_result",
          "data": {
            "text/plain": [
              "0"
            ]
          },
          "metadata": {
            "tags": []
          },
          "execution_count": 54
        }
      ]
    },
    {
      "cell_type": "code",
      "metadata": {
        "colab_type": "code",
        "id": "iX5qZw4cxpKN",
        "outputId": "16e3e5a9-8fd4-4b4c-b565-c8752889523d",
        "colab": {
          "base_uri": "https://localhost:8080/",
          "height": 85
        }
      },
      "source": [
        "train_h20 = h2o.H2OFrame(train_df)\n",
        "train_h20_hubei = h2o.H2OFrame(train_df_hubei) # different model for Hubei\n",
        "training_columns = ['region','1_day_change', '3_day_change', '7_day_change', '1_day_change_rate', '3_day_change_rate',\n",
        "                    '7_day_change_rate', 'last_day', 'kalman_prediction','infected_rate', 'min', 'max'\n",
        "                   ]                 \n",
        "# Output parameter train against input parameters\n",
        "response_column = 'confirmed'\n",
        "\n",
        "# model = H2ORandomForestEstimator(ntrees=300, max_depth=12)\n",
        "# model.train(x=training_columns, y=response_column, training_frame=train_h20)\n",
        "model_hubei = H2ORandomForestEstimator(ntrees=300, max_depth=12)\n",
        "model_hubei.train(x=training_columns, y=response_column, training_frame=train_h20_hubei)\n",
        "\n",
        "test_h20 = h2o.H2OFrame(test)\n",
        "#test_h20_hubei = h2o.H2OFrame(test_hubei)"
      ],
      "execution_count": 0,
      "outputs": [
        {
          "output_type": "stream",
          "text": [
            "Parse progress: |█████████████████████████████████████████████████████████| 100%\n",
            "Parse progress: |█████████████████████████████████████████████████████████| 100%\n",
            "drf Model Build progress: |███████████████████████████████████████████████| 100%\n",
            "Parse progress: |█████████████████████████████████████████████████████████| 100%\n"
          ],
          "name": "stdout"
        }
      ]
    },
    {
      "cell_type": "code",
      "metadata": {
        "id": "7qx-dRyXyaSK",
        "colab_type": "code",
        "outputId": "c0221d1f-1c4c-44bc-e373-01dbcf79e9bc",
        "colab": {
          "base_uri": "https://localhost:8080/",
          "height": 390
        }
      },
      "source": [
        "model_hubei.varimp(True).iloc[:,:] # Feature importance for Hubei Model RF"
      ],
      "execution_count": 0,
      "outputs": [
        {
          "output_type": "execute_result",
          "data": {
            "text/html": [
              "<div>\n",
              "<style scoped>\n",
              "    .dataframe tbody tr th:only-of-type {\n",
              "        vertical-align: middle;\n",
              "    }\n",
              "\n",
              "    .dataframe tbody tr th {\n",
              "        vertical-align: top;\n",
              "    }\n",
              "\n",
              "    .dataframe thead th {\n",
              "        text-align: right;\n",
              "    }\n",
              "</style>\n",
              "<table border=\"1\" class=\"dataframe\">\n",
              "  <thead>\n",
              "    <tr style=\"text-align: right;\">\n",
              "      <th></th>\n",
              "      <th>variable</th>\n",
              "      <th>relative_importance</th>\n",
              "      <th>scaled_importance</th>\n",
              "      <th>percentage</th>\n",
              "    </tr>\n",
              "  </thead>\n",
              "  <tbody>\n",
              "    <tr>\n",
              "      <th>0</th>\n",
              "      <td>kalman_prediction</td>\n",
              "      <td>5.826823e+12</td>\n",
              "      <td>1.000000</td>\n",
              "      <td>0.326218</td>\n",
              "    </tr>\n",
              "    <tr>\n",
              "      <th>1</th>\n",
              "      <td>last_day</td>\n",
              "      <td>4.254977e+12</td>\n",
              "      <td>0.730240</td>\n",
              "      <td>0.238217</td>\n",
              "    </tr>\n",
              "    <tr>\n",
              "      <th>2</th>\n",
              "      <td>infected_rate</td>\n",
              "      <td>3.456780e+12</td>\n",
              "      <td>0.593253</td>\n",
              "      <td>0.193530</td>\n",
              "    </tr>\n",
              "    <tr>\n",
              "      <th>3</th>\n",
              "      <td>1_day_change_rate</td>\n",
              "      <td>1.766209e+12</td>\n",
              "      <td>0.303117</td>\n",
              "      <td>0.098882</td>\n",
              "    </tr>\n",
              "    <tr>\n",
              "      <th>4</th>\n",
              "      <td>3_day_change_rate</td>\n",
              "      <td>1.097823e+12</td>\n",
              "      <td>0.188408</td>\n",
              "      <td>0.061462</td>\n",
              "    </tr>\n",
              "    <tr>\n",
              "      <th>5</th>\n",
              "      <td>7_day_change</td>\n",
              "      <td>5.275800e+11</td>\n",
              "      <td>0.090543</td>\n",
              "      <td>0.029537</td>\n",
              "    </tr>\n",
              "    <tr>\n",
              "      <th>6</th>\n",
              "      <td>7_day_change_rate</td>\n",
              "      <td>4.531808e+11</td>\n",
              "      <td>0.077775</td>\n",
              "      <td>0.025372</td>\n",
              "    </tr>\n",
              "    <tr>\n",
              "      <th>7</th>\n",
              "      <td>3_day_change</td>\n",
              "      <td>2.834065e+11</td>\n",
              "      <td>0.048638</td>\n",
              "      <td>0.015867</td>\n",
              "    </tr>\n",
              "    <tr>\n",
              "      <th>8</th>\n",
              "      <td>1_day_change</td>\n",
              "      <td>1.148909e+11</td>\n",
              "      <td>0.019718</td>\n",
              "      <td>0.006432</td>\n",
              "    </tr>\n",
              "    <tr>\n",
              "      <th>9</th>\n",
              "      <td>min</td>\n",
              "      <td>4.194560e+10</td>\n",
              "      <td>0.007199</td>\n",
              "      <td>0.002348</td>\n",
              "    </tr>\n",
              "    <tr>\n",
              "      <th>10</th>\n",
              "      <td>max</td>\n",
              "      <td>3.814418e+10</td>\n",
              "      <td>0.006546</td>\n",
              "      <td>0.002136</td>\n",
              "    </tr>\n",
              "  </tbody>\n",
              "</table>\n",
              "</div>"
            ],
            "text/plain": [
              "             variable  relative_importance  scaled_importance  percentage\n",
              "0   kalman_prediction         5.826823e+12           1.000000    0.326218\n",
              "1            last_day         4.254977e+12           0.730240    0.238217\n",
              "2       infected_rate         3.456780e+12           0.593253    0.193530\n",
              "3   1_day_change_rate         1.766209e+12           0.303117    0.098882\n",
              "4   3_day_change_rate         1.097823e+12           0.188408    0.061462\n",
              "5        7_day_change         5.275800e+11           0.090543    0.029537\n",
              "6   7_day_change_rate         4.531808e+11           0.077775    0.025372\n",
              "7        3_day_change         2.834065e+11           0.048638    0.015867\n",
              "8        1_day_change         1.148909e+11           0.019718    0.006432\n",
              "9                 min         4.194560e+10           0.007199    0.002348\n",
              "10                max         3.814418e+10           0.006546    0.002136"
            ]
          },
          "metadata": {
            "tags": []
          },
          "execution_count": 56
        }
      ]
    },
    {
      "cell_type": "code",
      "metadata": {
        "id": "hNWxFRUrfxZN",
        "colab_type": "code",
        "colab": {}
      },
      "source": [
        "# # Model performance\n",
        "# performance = model_hubei.model_performance(test_data=test_h20_hubei)\n",
        "# # Model Create Predictions\n",
        "# pred=model_hubei.predict(test_h20_hubei);pred=pred.as_data_frame(); pred=round(pred)\n",
        "# #pred['daily_outcome']=test['daily_outcome'].values\n",
        "# pred['confirmed']=test_hubei['confirmed'].values\n",
        "# pred['date']=test_hubei['date'].values\n",
        "# pred['region']=test_hubei['region'].values\n",
        "\n",
        "# pred2=model.predict(test_h20);pred2=pred2.as_data_frame(); pred2=round(pred2)\n",
        "# pred2['confirmed']=test['confirmed'].values\n",
        "# pred2['date']=test['date'].values\n",
        "# pred2['region']=test['region'].values\n",
        "# pred=pred.append(pred2)"
      ],
      "execution_count": 0,
      "outputs": []
    },
    {
      "cell_type": "markdown",
      "metadata": {
        "id": "9lmtGPPCwHta",
        "colab_type": "text"
      },
      "source": [
        "## Correlation Matrix And Temperature"
      ]
    },
    {
      "cell_type": "code",
      "metadata": {
        "id": "KkeUCg9ZfxDH",
        "colab_type": "code",
        "outputId": "eb492e7f-c448-4a54-e78a-107c4de3c04b",
        "colab": {
          "base_uri": "https://localhost:8080/",
          "height": 654
        }
      },
      "source": [
        "from string import ascii_letters\n",
        "import seaborn as sns\n",
        "import matplotlib.pyplot as plt\n",
        "sns.set(style=\"white\")\n",
        "# Compute the correlation matrix\n",
        "corr = train.iloc[:,2:].corr()\n",
        "# Generate a mask for the upper triangle\n",
        "mask = np.triu(np.ones_like(corr, dtype=np.bool))\n",
        "# Set up the matplotlib figure\n",
        "f, ax = plt.subplots(figsize=(11, 9))\n",
        "# Generate a custom diverging colormap\n",
        "cmap = sns.diverging_palette(220, 10, as_cmap=True)\n",
        "# Draw the heatmap with the mask and correct aspect ratio\n",
        "sns.heatmap(corr, mask=mask, cmap=cmap, vmax=.9, center=0,\n",
        "            square=True, linewidths=.5, cbar_kws={\"shrink\": .5})\n",
        "print ('Correlation Matrix')"
      ],
      "execution_count": 0,
      "outputs": [
        {
          "output_type": "stream",
          "text": [
            "Correlation Matrix\n"
          ],
          "name": "stdout"
        },
        {
          "output_type": "display_data",
          "data": {
            "image/png": "[encoded data removed]",
            "text/plain": [
              "<Figure size 792x648 with 2 Axes>"
            ]
          },
          "metadata": {
            "tags": []
          }
        }
      ]
    },
    {
      "cell_type": "code",
      "metadata": {
        "id": "bA3aME-GUyWl",
        "colab_type": "code",
        "outputId": "d246c2b5-87a0-42be-af2e-df7d99bef331",
        "colab": {
          "base_uri": "https://localhost:8080/",
          "height": 272
        }
      },
      "source": [
        "print('Correlation To Confirmed') \n",
        "print (corr.confirmed)"
      ],
      "execution_count": 0,
      "outputs": [
        {
          "output_type": "stream",
          "text": [
            "Correlation To Confirmed\n",
            "confirmed            1.000000\n",
            "1_day_change         0.497626\n",
            "3_day_change         0.646740\n",
            "7_day_change         0.792051\n",
            "1_day_change_rate   -0.002134\n",
            "3_day_change_rate    0.001814\n",
            "7_day_change_rate    0.011890\n",
            "last_day             0.966554\n",
            "kalman_prediction    0.968590\n",
            "population           0.012703\n",
            "infected_rate       -0.004973\n",
            "min                  0.016528\n",
            "max                  0.030958\n",
            "Name: confirmed, dtype: float64\n"
          ],
          "name": "stdout"
        }
      ]
    },
    {
      "cell_type": "code",
      "metadata": {
        "id": "JD_ayu7fKS6f",
        "colab_type": "code",
        "outputId": "494819b3-6d3e-4b3f-f072-7371ee1551c1",
        "colab": {
          "base_uri": "https://localhost:8080/",
          "height": 358
        }
      },
      "source": [
        "import matplotlib.pyplot as plt\n",
        "p=train[['date','region','min','max']].set_index('date')\n",
        "p=p[p['region']=='China_Hubei']\n",
        "p.iloc[:,:].plot(marker='*',figsize=(12,4),color=['#19303f','#cccc00']).set_title('Daily Min/Max Temperature - Hubei',fontdict={'fontsize': 20})"
      ],
      "execution_count": 0,
      "outputs": [
        {
          "output_type": "execute_result",
          "data": {
            "text/plain": [
              "Text(0.5, 1.0, 'Daily Min/Max Temperature - Hubei')"
            ]
          },
          "metadata": {
            "tags": []
          },
          "execution_count": 60
        },
        {
          "output_type": "display_data",
          "data": {
            "image/png": "[encoded data removed]",
            "text/plain": [
              "<Figure size 864x288 with 1 Axes>"
            ]
          },
          "metadata": {
            "tags": []
          }
        }
      ]
    },
    {
      "cell_type": "code",
      "metadata": {
        "id": "UF117T2UF35z",
        "colab_type": "code",
        "colab": {}
      },
      "source": [
        "# avg_temp=train[['region','confirmed','min','max']]  # from 17-02-20\n",
        "# avg_temp=avg_temp.groupby(by='region').mean()\n",
        "# avg_temp=avg_temp.sort_values('confirmed',ascending=False)\n",
        "# print( 'Most infected Areas Avg Temperature')\n",
        "# print(avg_temp.iloc[:10,1:])"
      ],
      "execution_count": 0,
      "outputs": []
    },
    {
      "cell_type": "markdown",
      "metadata": {
        "id": "m3zZEoVO4Z27",
        "colab_type": "text"
      },
      "source": [
        "##Kalman X Days Ahead Prediction"
      ]
    },
    {
      "cell_type": "code",
      "metadata": {
        "id": "3rWaUmwc5JSS",
        "colab_type": "code",
        "colab": {}
      },
      "source": [
        "%%R\n",
        "install.packages('reshape')"
      ],
      "execution_count": 0,
      "outputs": []
    },
    {
      "cell_type": "code",
      "metadata": {
        "id": "5N_G_fHvteiv",
        "colab_type": "code",
        "colab": {}
      },
      "source": [
        "%%R\n",
        "require(pracma)\n",
        "require(Metrics)\n",
        "require(readr)\n",
        "library(reshape)\n",
        "all<- read_csv(\"/content/drive/My Drive/COVID19/COVID19/ts_r.csv\")\n",
        "all$X1<-NULL\n",
        "for (i in 1:30) { # Set i days prediction\n",
        "  if( i>1) {all<-all_new}\n",
        "  date<-all[,1]\n",
        "  date[nrow(date) + 1,1] <-all[nrow(all),1]+1\n",
        "  pred_all<-NULL\n",
        "  for (n in 2:ncol(all)-1) {\n",
        "    Y<-ts(data = all[n+1], start = 1, end =nrow(all)+1)  \n",
        "    sig_w<-0.01\n",
        "    w<-sig_w*randn(1,100) # acceleration which denotes the fluctuation (Q/R) rnorm(100, mean = 0, sd = 1)\n",
        "    sig_v<-0.01\n",
        "    v<-sig_v*randn(1,100)  \n",
        "    t<-0.45\n",
        "    phi<-matrix(c(1,0,t,1),2,2)\n",
        "    gama<-matrix(c(0.5*t^2,t),2,1)\n",
        "    H<-matrix(c(1,0),1,2)\n",
        "    #Kalman\n",
        "    x0_0<-p0_0<-matrix(c(0,0),2,1)\n",
        "    p0_0<-matrix(c(1,0,0,1),2,2)\n",
        "    Q<-0.01\n",
        "    R<-0.01\n",
        "    X<-NULL\n",
        "    X2<-NULL\n",
        "    pred<-NULL\n",
        "    for (i in 0:nrow(all)) {\n",
        "      namp <-paste(\"p\", i+1,\"_\",i, sep = \"\")\n",
        "      assign(namp, phi%*%(get(paste(\"p\", i,\"_\",i, sep = \"\")))%*%t(phi)+gama%*%Q%*%t(gama))\n",
        "      namk <- paste(\"k\", i+1, sep = \"\")\n",
        "      assign(namk,get(paste(\"p\", i+1,\"_\",i, sep = \"\"))%*%t(H)%*%(1/(H%*%get(paste(\"p\", i+1,\"_\",i, sep = \"\"))%*%t(H)+R)))\n",
        "      namx <- paste(\"x\", i+1,\"_\",i, sep = \"\")\n",
        "      assign(namx,phi%*%get(paste(\"x\", i,\"_\",i, sep = \"\")))\n",
        "      namE <- paste(\"E\", i+1, sep = \"\")\n",
        "      assign(namE,Y[i+1]-H%*%get(paste(\"x\", i+1,\"_\",i, sep = \"\")))\n",
        "      namx2 <- paste(\"x\", i+1,\"_\",i+1, sep = \"\")\n",
        "      assign(namx2,get(paste(\"x\", i+1,\"_\",i, sep = \"\"))+get(paste(\"k\", i+1, sep = \"\"))%*%get(paste(\"E\", i+1, sep = \"\")))\n",
        "      namp2 <- paste(\"p\", i+1,\"_\",i+1, sep = \"\")\n",
        "      assign(namp2,(p0_0-get(paste(\"k\", i+1, sep = \"\"))%*%H)%*%get(paste(\"p\", i+1,\"_\",i, sep = \"\")))\n",
        "      X<-rbind(X,get(paste(\"x\", i+1,\"_\",i,sep = \"\"))[1])\n",
        "      X2<-rbind(X2,get(paste(\"x\", i+1,\"_\",i,sep = \"\"))[2])\n",
        "      if(i>2){\n",
        "        remove(list=(paste(\"p\", i-1,\"_\",i-2, sep = \"\")))\n",
        "        remove(list=(paste(\"k\", i-1, sep = \"\")))\n",
        "        remove(list=(paste(\"E\", i-1, sep = \"\")))\n",
        "        remove(list=(paste(\"p\", i-2,\"_\",i-2, sep = \"\")))\n",
        "        remove(list=(paste(\"x\", i-1,\"_\",i-2, sep = \"\")))\n",
        "        remove(list=(paste(\"x\", i-2,\"_\",i-2, sep = \"\")))}\n",
        "    } \n",
        "    pred<-NULL\n",
        "    pred<-cbind(Y,X,round(X2,4))\n",
        "    pred<-as.data.frame(pred)\n",
        "    pred$region<-colnames(all[,n+1])\n",
        "    pred$date<-date$date\n",
        "    pred$actual<-rbind(0,(cbind(pred[2:nrow(pred),1])/pred[1:nrow(pred)-1,1]-1)*100)\n",
        "    pred$predict<-rbind(0,(cbind(pred[2:nrow(pred),2])/pred[1:nrow(pred)-1,2]-1)*100)\n",
        "    pred$pred_rate<-(pred$X/pred$Y-1)*100\n",
        "    pred$X2_change<-rbind(0,(cbind(pred[2:nrow(pred),3]-pred[1:nrow(pred)-1,3])))\n",
        "    pred_all<-rbind(pred_all,pred)\n",
        "  }\n",
        "  pred_all<-cbind(pred_all[,4:5],pred_all[,1:3])\n",
        "  names(pred_all)[5]<-\"X2\"\n",
        "  pred_all<-pred_all[,1:5]\n",
        "       \n",
        "pred_all_today=pred_all[with( pred_all, order(region, date)), ]\n",
        "all_new=all\n",
        "#all_new[nrow(all_new),1]<-all_new[nrow(all),1]+1\n",
        "temp<-with(pred_all_today, pred_all_today[date == all[nrow(all),1]+1, ])\n",
        "temp<-cbind(temp[,1:2],temp[,4])\n",
        "temp2<-reshape(temp, direction = \"wide\", idvar = \"date\", timevar = \"region\")\n",
        "rand_num<-runif(ncol(temp2)-1, 0.9, 1.05)\n",
        "temp2[,2:ncol(temp2)]<-temp2[,2:ncol(temp2)]*rand_num\n",
        "colnames(temp2)=colnames(all_new)\n",
        "all_new<-rbind(all_new,temp2)\n",
        "all_new[,2:ncol(all_new)]<-round(all_new[,2:ncol(all_new)])\n",
        "for (i in 2:ncol(all_new)) {\n",
        "  all_new[nrow(all_new),i]=max(all_new[nrow(all_new)-1,i],all_new[nrow(all_new),i])}\n",
        "}"
      ],
      "execution_count": 0,
      "outputs": []
    },
    {
      "cell_type": "code",
      "metadata": {
        "id": "fVMFrhJJsuJ8",
        "colab_type": "code",
        "colab": {}
      },
      "source": [
        "all_new=%R all_new"
      ],
      "execution_count": 0,
      "outputs": []
    },
    {
      "cell_type": "code",
      "metadata": {
        "id": "62OEK0Ew6xjw",
        "colab_type": "code",
        "colab": {}
      },
      "source": [
        "all_new['date']=pd.to_datetime(all_new['date'],unit='d')"
      ],
      "execution_count": 0,
      "outputs": []
    },
    {
      "cell_type": "code",
      "metadata": {
        "id": "psIsc_UT5lEg",
        "colab_type": "code",
        "outputId": "5c7161fc-c0ac-4fe4-92c9-7930ed3176f4",
        "colab": {
          "base_uri": "https://localhost:8080/",
          "height": 902
        }
      },
      "source": [
        "# 한국의 향후 30일 확진자 추이를 그래프로 표현합니다.\n",
        "region = ['date', \"South Korea_nan\"]\n",
        "p_kalman=all_new[region]\n",
        "#p=all_new\n",
        "#p.iloc[len(p)-1,2]=None\n",
        "p_kalman=p_kalman.set_index(['date'])\n",
        "p_kalman.iloc[:,:].plot(marker='o',figsize=(24,14)).set_title('Kalman Prediction {}'.format(region[1]), fontdict={'fontsize': 22})"
      ],
      "execution_count": 0,
      "outputs": [
        {
          "output_type": "execute_result",
          "data": {
            "text/plain": [
              "Text(0.5, 1.0, 'Kalman Prediction South Korea_nan')"
            ]
          },
          "metadata": {
            "tags": []
          },
          "execution_count": 66
        },
        {
          "output_type": "display_data",
          "data": {
            "image/png": "[encoded data removed]",
            "text/plain": [
              "<Figure size 1728x1008 with 1 Axes>"
            ]
          },
          "metadata": {
            "tags": []
          }
        }
      ]
    },
    {
      "cell_type": "code",
      "metadata": {
        "id": "SratIQPCMKyY",
        "colab_type": "code",
        "outputId": "791db336-2d32-4d0e-ddbb-34e1aaa6ee42",
        "colab": {
          "base_uri": "https://localhost:8080/",
          "height": 545
        }
      },
      "source": [
        "prediction_one_month = p_kalman.tail(30)\n",
        "prediction_two_weeks = prediction_one_month.head(15)\n",
        "prediction_two_weeks"
      ],
      "execution_count": 0,
      "outputs": [
        {
          "output_type": "execute_result",
          "data": {
            "text/html": [
              "<div>\n",
              "<style scoped>\n",
              "    .dataframe tbody tr th:only-of-type {\n",
              "        vertical-align: middle;\n",
              "    }\n",
              "\n",
              "    .dataframe tbody tr th {\n",
              "        vertical-align: top;\n",
              "    }\n",
              "\n",
              "    .dataframe thead th {\n",
              "        text-align: right;\n",
              "    }\n",
              "</style>\n",
              "<table border=\"1\" class=\"dataframe\">\n",
              "  <thead>\n",
              "    <tr style=\"text-align: right;\">\n",
              "      <th></th>\n",
              "      <th>South Korea_nan</th>\n",
              "    </tr>\n",
              "    <tr>\n",
              "      <th>date</th>\n",
              "      <th></th>\n",
              "    </tr>\n",
              "  </thead>\n",
              "  <tbody>\n",
              "    <tr>\n",
              "      <th>2020-03-01</th>\n",
              "      <td>3166.0</td>\n",
              "    </tr>\n",
              "    <tr>\n",
              "      <th>2020-03-02</th>\n",
              "      <td>3783.0</td>\n",
              "    </tr>\n",
              "    <tr>\n",
              "      <th>2020-03-03</th>\n",
              "      <td>4005.0</td>\n",
              "    </tr>\n",
              "    <tr>\n",
              "      <th>2020-03-04</th>\n",
              "      <td>4199.0</td>\n",
              "    </tr>\n",
              "    <tr>\n",
              "      <th>2020-03-05</th>\n",
              "      <td>4630.0</td>\n",
              "    </tr>\n",
              "    <tr>\n",
              "      <th>2020-03-06</th>\n",
              "      <td>4927.0</td>\n",
              "    </tr>\n",
              "    <tr>\n",
              "      <th>2020-03-07</th>\n",
              "      <td>5402.0</td>\n",
              "    </tr>\n",
              "    <tr>\n",
              "      <th>2020-03-08</th>\n",
              "      <td>5864.0</td>\n",
              "    </tr>\n",
              "    <tr>\n",
              "      <th>2020-03-09</th>\n",
              "      <td>5864.0</td>\n",
              "    </tr>\n",
              "    <tr>\n",
              "      <th>2020-03-10</th>\n",
              "      <td>6494.0</td>\n",
              "    </tr>\n",
              "    <tr>\n",
              "      <th>2020-03-11</th>\n",
              "      <td>6494.0</td>\n",
              "    </tr>\n",
              "    <tr>\n",
              "      <th>2020-03-12</th>\n",
              "      <td>7154.0</td>\n",
              "    </tr>\n",
              "    <tr>\n",
              "      <th>2020-03-13</th>\n",
              "      <td>7215.0</td>\n",
              "    </tr>\n",
              "    <tr>\n",
              "      <th>2020-03-14</th>\n",
              "      <td>7215.0</td>\n",
              "    </tr>\n",
              "    <tr>\n",
              "      <th>2020-03-15</th>\n",
              "      <td>7215.0</td>\n",
              "    </tr>\n",
              "  </tbody>\n",
              "</table>\n",
              "</div>"
            ],
            "text/plain": [
              "            South Korea_nan\n",
              "date                       \n",
              "2020-03-01           3166.0\n",
              "2020-03-02           3783.0\n",
              "2020-03-03           4005.0\n",
              "2020-03-04           4199.0\n",
              "2020-03-05           4630.0\n",
              "2020-03-06           4927.0\n",
              "2020-03-07           5402.0\n",
              "2020-03-08           5864.0\n",
              "2020-03-09           5864.0\n",
              "2020-03-10           6494.0\n",
              "2020-03-11           6494.0\n",
              "2020-03-12           7154.0\n",
              "2020-03-13           7215.0\n",
              "2020-03-14           7215.0\n",
              "2020-03-15           7215.0"
            ]
          },
          "metadata": {
            "tags": []
          },
          "execution_count": 67
        }
      ]
    },
    {
      "cell_type": "code",
      "metadata": {
        "id": "c6MLADZ6KqGk",
        "colab_type": "code",
        "outputId": "4738b127-28a5-486c-bfc4-3f734f38d857",
        "colab": {
          "base_uri": "https://localhost:8080/",
          "height": 570
        }
      },
      "source": [
        "p_kalman2=all_new[['date','China_Hubei']]\n",
        "p_kalman2=p_kalman2.set_index(['date'])\n",
        "p_kalman2.iloc[:,:].plot(marker='o',figsize=(16,8)).set_title('Kalman Prediction - Select Region to Change - {}'.format(p_kalman2.columns[0]))"
      ],
      "execution_count": 0,
      "outputs": [
        {
          "output_type": "execute_result",
          "data": {
            "text/plain": [
              "Text(0.5, 1.0, 'Kalman Prediction - Select Region to Change - China_Hubei')"
            ]
          },
          "metadata": {
            "tags": []
          },
          "execution_count": 68
        },
        {
          "output_type": "display_data",
          "data": {
            "image/png": "[encoded data removed]",
            "text/plain": [
              "<Figure size 1152x576 with 1 Axes>"
            ]
          },
          "metadata": {
            "tags": []
          }
        }
      ]
    },
    {
      "cell_type": "code",
      "metadata": {
        "id": "9bwnqSN8WFMp",
        "colab_type": "code",
        "colab": {}
      },
      "source": [
        "# t.to_csv(r't.csv')"
      ],
      "execution_count": 0,
      "outputs": []
    },
    {
      "cell_type": "markdown",
      "metadata": {
        "id": "s1qTRyApWuh9",
        "colab_type": "text"
      },
      "source": [
        "## Iterative Regression"
      ]
    },
    {
      "cell_type": "code",
      "metadata": {
        "id": "7fAG9-jQWv0B",
        "colab_type": "code",
        "colab": {}
      },
      "source": [
        "t_iter=all_new.set_index(['date'])\n",
        "t_iter=t_iter.stack().reset_index(name='confirmed')\n",
        "t_iter.columns=['date', 'region','confirmed']\n",
        "t_iter['date']=pd.to_datetime(t_iter['date'] ,errors ='coerce')\n",
        "t_iter=t_iter.sort_values(['region', 'date'])\n",
        "\n",
        "t_iter=t_iter.reset_index(drop=True)\n",
        "for i in range(1,len(t_iter)+1):\n",
        "  if(t_iter.iloc[i,1] is not t_iter.iloc[i-1,1]):\n",
        "    t_iter.loc[len(t_iter)+1] = [t_iter.iloc[i-1,0]+ pd.DateOffset(1),t_iter.iloc[i-1,1], 0] \n",
        "t_iter=t_iter.sort_values(['region', 'date'])\n",
        "t_iter=t_iter.reset_index(drop=True)\n",
        "\n",
        "t_iter['1_day_change']=t_iter['3_day_change']=t_iter['7_day_change']=t_iter['1_day_change_rate']=t_iter['3_day_change_rate']=t_iter['7_day_change_rate']=t_iter['last_day']=0\n",
        "for i in range(1,len(t_iter)):\n",
        "  if(t_iter.iloc[i,1] is t_iter.iloc[i-2,1]):\n",
        "    t_iter.iloc[i,3]=t_iter.iloc[i-1,2]-t_iter.iloc[i-2,2]\n",
        "    t_iter.iloc[i,6]=(t_iter.iloc[i-1,2]/t_iter.iloc[i-2,2]-1)*100\n",
        "    t_iter.iloc[i,9]=t_iter.iloc[i-1,2]\n",
        "  if(t_iter.iloc[i,1] is t_iter.iloc[i-4,1]):\n",
        "    t_iter.iloc[i,4]=t_iter.iloc[i-1,2]-t_iter.iloc[i-4,2]\n",
        "    t_iter.iloc[i,7]=(t_iter.iloc[i-1,2]/t_iter.iloc[i-4,2]-1)*100\n",
        "  if(t_iter.iloc[i,1] is t_iter.iloc[i-8,1]):\n",
        "    t_iter.iloc[i,5]=t_iter.iloc[i-1,2]-t_iter.iloc[i-8,2]\n",
        "    t_iter.iloc[i,8]=(t_iter.iloc[i-1,2]/t_iter.iloc[i-8,2]-1)*100\n",
        "t_iter=t_iter.fillna(0)  \n",
        "\n",
        "# t_iter=t_iter.merge(temp[['date','region', 'X']],how='left',on=['date','region'])\n",
        "# t_iter=t_iter.rename(columns = {'X':'kalman_prediction'}) \n",
        "t_iter=t_iter.replace([np.inf, -np.inf], 0)\n",
        "t_iter['kalman_prediction']=round(t_iter['confirmed'])\n",
        "test_iter=t_iter.merge(confirmed[['region',' Population ']],how='left',on='region')\n",
        "test_iter=test_iter.rename(columns = {' Population ':'population'})\n",
        "test_iter['population']=test_iter['population'].str.replace(r\" \", '')\n",
        "test_iter['population']=test_iter['population'].str.replace(r\",\", '')\n",
        "test_iter['population']=test_iter['population'].fillna(1)\n",
        "test_iter['population']=test_iter['population'].astype('int32')\n",
        "test_iter['infected_rate'] =test_iter['last_day']/test_iter['population']*10000\n",
        "test_iter=test_iter.merge(w,how='left',on=['date','region'])\n",
        "#test_iter=test_iter.sort_values(['region', 'date'])\n",
        "test_iter_temp=test_iter[np.isnan(test_iter['min'])]\n",
        "test_iter_temp=test_iter_temp.drop(columns=['min', 'max'])\n",
        "test_iter_temp=test_iter_temp.merge(w_forecast,how='left',on=['date','region'])\n",
        "test_iter=test_iter.dropna()\n",
        "test_iter=test_iter.append(test_iter_temp)\n",
        "test_iter=test_iter.sort_values(['region', 'date'])\n",
        "### fill missing weather \n",
        "for i in range(0,len(test_iter)):\n",
        "  if(np.isnan(test_iter.iloc[i,13])):\n",
        "    if(test_iter.iloc[i,1] is test_iter.iloc[i-1,1]):\n",
        "      test_iter.iloc[i,13]=test_iter.iloc[i-1,13]+abs(test_iter.iloc[i-1,13]*.01)\n",
        "      test_iter.iloc[i,14]=test_iter.iloc[i-1,14]+abs(test_iter.iloc[i-1,14]*.01)\n"
      ],
      "execution_count": 0,
      "outputs": []
    },
    {
      "cell_type": "code",
      "metadata": {
        "id": "SAlBmhP449d9",
        "colab_type": "code",
        "colab": {}
      },
      "source": [
        "test_iter=test_iter.fillna(0) \n",
        "# test_iter[test_iter.isnull().any(axis=1)]"
      ],
      "execution_count": 0,
      "outputs": []
    },
    {
      "cell_type": "code",
      "metadata": {
        "id": "0nEsgisgpf_Z",
        "colab_type": "code",
        "outputId": "77dacd7e-ca09-444b-c21f-3f74f1767861",
        "colab": {
          "base_uri": "https://localhost:8080/",
          "height": 341
        }
      },
      "source": [
        "pred=reg.predict(test_iter[x_col]); pred=pd.DataFrame(pred); pred.columns = ['prediction'];pred=round(pred)\n",
        "pred['confirmed']=test_iter['confirmed'].values; pred['date']=test_iter['date'].values; pred['region']=test_iter['region'].values\n",
        "for i in range(1,len(pred)):\n",
        "    if(pred.iloc[i,3] is pred.iloc[i-1,3]):\n",
        "      if(pred.iloc[i,0]<pred.iloc[i-1,1]):\n",
        "        pred.iloc[i,0]=pred.iloc[i-1,1]\n",
        "pred=pred.pivot(index='date',columns='region',values='prediction') # pivot pred df"
      ],
      "execution_count": 0,
      "outputs": [
        {
          "output_type": "error",
          "ename": "ValueError",
          "evalue": "ignored",
          "traceback": [
            "\u001b[0;31m---------------------------------------------------------------------------\u001b[0m",
            "\u001b[0;31mValueError\u001b[0m                                Traceback (most recent call last)",
            "\u001b[0;32m<ipython-input-72-dfc5744b1f15>\u001b[0m in \u001b[0;36m<module>\u001b[0;34m()\u001b[0m\n\u001b[1;32m      5\u001b[0m       \u001b[0;32mif\u001b[0m\u001b[0;34m(\u001b[0m\u001b[0mpred\u001b[0m\u001b[0;34m.\u001b[0m\u001b[0miloc\u001b[0m\u001b[0;34m[\u001b[0m\u001b[0mi\u001b[0m\u001b[0;34m,\u001b[0m\u001b[0;36m0\u001b[0m\u001b[0;34m]\u001b[0m\u001b[0;34m<\u001b[0m\u001b[0mpred\u001b[0m\u001b[0;34m.\u001b[0m\u001b[0miloc\u001b[0m\u001b[0;34m[\u001b[0m\u001b[0mi\u001b[0m\u001b[0;34m-\u001b[0m\u001b[0;36m1\u001b[0m\u001b[0;34m,\u001b[0m\u001b[0;36m1\u001b[0m\u001b[0;34m]\u001b[0m\u001b[0;34m)\u001b[0m\u001b[0;34m:\u001b[0m\u001b[0;34m\u001b[0m\u001b[0;34m\u001b[0m\u001b[0m\n\u001b[1;32m      6\u001b[0m         \u001b[0mpred\u001b[0m\u001b[0;34m.\u001b[0m\u001b[0miloc\u001b[0m\u001b[0;34m[\u001b[0m\u001b[0mi\u001b[0m\u001b[0;34m,\u001b[0m\u001b[0;36m0\u001b[0m\u001b[0;34m]\u001b[0m\u001b[0;34m=\u001b[0m\u001b[0mpred\u001b[0m\u001b[0;34m.\u001b[0m\u001b[0miloc\u001b[0m\u001b[0;34m[\u001b[0m\u001b[0mi\u001b[0m\u001b[0;34m-\u001b[0m\u001b[0;36m1\u001b[0m\u001b[0;34m,\u001b[0m\u001b[0;36m1\u001b[0m\u001b[0;34m]\u001b[0m\u001b[0;34m\u001b[0m\u001b[0;34m\u001b[0m\u001b[0m\n\u001b[0;32m----> 7\u001b[0;31m \u001b[0mpred\u001b[0m\u001b[0;34m=\u001b[0m\u001b[0mpred\u001b[0m\u001b[0;34m.\u001b[0m\u001b[0mpivot\u001b[0m\u001b[0;34m(\u001b[0m\u001b[0mindex\u001b[0m\u001b[0;34m=\u001b[0m\u001b[0;34m'date'\u001b[0m\u001b[0;34m,\u001b[0m\u001b[0mcolumns\u001b[0m\u001b[0;34m=\u001b[0m\u001b[0;34m'region'\u001b[0m\u001b[0;34m,\u001b[0m\u001b[0mvalues\u001b[0m\u001b[0;34m=\u001b[0m\u001b[0;34m'prediction'\u001b[0m\u001b[0;34m)\u001b[0m \u001b[0;31m# pivot pred df\u001b[0m\u001b[0;34m\u001b[0m\u001b[0;34m\u001b[0m\u001b[0m\n\u001b[0m",
            "\u001b[0;32m/usr/local/lib/python3.6/dist-packages/pandas/core/frame.py\u001b[0m in \u001b[0;36mpivot\u001b[0;34m(self, index, columns, values)\u001b[0m\n\u001b[1;32m   5932\u001b[0m         \u001b[0;32mfrom\u001b[0m \u001b[0mpandas\u001b[0m\u001b[0;34m.\u001b[0m\u001b[0mcore\u001b[0m\u001b[0;34m.\u001b[0m\u001b[0mreshape\u001b[0m\u001b[0;34m.\u001b[0m\u001b[0mpivot\u001b[0m \u001b[0;32mimport\u001b[0m \u001b[0mpivot\u001b[0m\u001b[0;34m\u001b[0m\u001b[0;34m\u001b[0m\u001b[0m\n\u001b[1;32m   5933\u001b[0m \u001b[0;34m\u001b[0m\u001b[0m\n\u001b[0;32m-> 5934\u001b[0;31m         \u001b[0;32mreturn\u001b[0m \u001b[0mpivot\u001b[0m\u001b[0;34m(\u001b[0m\u001b[0mself\u001b[0m\u001b[0;34m,\u001b[0m \u001b[0mindex\u001b[0m\u001b[0;34m=\u001b[0m\u001b[0mindex\u001b[0m\u001b[0;34m,\u001b[0m \u001b[0mcolumns\u001b[0m\u001b[0;34m=\u001b[0m\u001b[0mcolumns\u001b[0m\u001b[0;34m,\u001b[0m \u001b[0mvalues\u001b[0m\u001b[0;34m=\u001b[0m\u001b[0mvalues\u001b[0m\u001b[0;34m)\u001b[0m\u001b[0;34m\u001b[0m\u001b[0;34m\u001b[0m\u001b[0m\n\u001b[0m\u001b[1;32m   5935\u001b[0m \u001b[0;34m\u001b[0m\u001b[0m\n\u001b[1;32m   5936\u001b[0m     _shared_docs[\n",
            "\u001b[0;32m/usr/local/lib/python3.6/dist-packages/pandas/core/reshape/pivot.py\u001b[0m in \u001b[0;36mpivot\u001b[0;34m(data, index, columns, values)\u001b[0m\n\u001b[1;32m    428\u001b[0m         \u001b[0;32melse\u001b[0m\u001b[0;34m:\u001b[0m\u001b[0;34m\u001b[0m\u001b[0;34m\u001b[0m\u001b[0m\n\u001b[1;32m    429\u001b[0m             \u001b[0mindexed\u001b[0m \u001b[0;34m=\u001b[0m \u001b[0mdata\u001b[0m\u001b[0;34m.\u001b[0m\u001b[0m_constructor_sliced\u001b[0m\u001b[0;34m(\u001b[0m\u001b[0mdata\u001b[0m\u001b[0;34m[\u001b[0m\u001b[0mvalues\u001b[0m\u001b[0;34m]\u001b[0m\u001b[0;34m.\u001b[0m\u001b[0mvalues\u001b[0m\u001b[0;34m,\u001b[0m \u001b[0mindex\u001b[0m\u001b[0;34m=\u001b[0m\u001b[0mindex\u001b[0m\u001b[0;34m)\u001b[0m\u001b[0;34m\u001b[0m\u001b[0;34m\u001b[0m\u001b[0m\n\u001b[0;32m--> 430\u001b[0;31m     \u001b[0;32mreturn\u001b[0m \u001b[0mindexed\u001b[0m\u001b[0;34m.\u001b[0m\u001b[0munstack\u001b[0m\u001b[0;34m(\u001b[0m\u001b[0mcolumns\u001b[0m\u001b[0;34m)\u001b[0m\u001b[0;34m\u001b[0m\u001b[0;34m\u001b[0m\u001b[0m\n\u001b[0m\u001b[1;32m    431\u001b[0m \u001b[0;34m\u001b[0m\u001b[0m\n\u001b[1;32m    432\u001b[0m \u001b[0;34m\u001b[0m\u001b[0m\n",
            "\u001b[0;32m/usr/local/lib/python3.6/dist-packages/pandas/core/series.py\u001b[0m in \u001b[0;36munstack\u001b[0;34m(self, level, fill_value)\u001b[0m\n\u001b[1;32m   3746\u001b[0m         \u001b[0;32mfrom\u001b[0m \u001b[0mpandas\u001b[0m\u001b[0;34m.\u001b[0m\u001b[0mcore\u001b[0m\u001b[0;34m.\u001b[0m\u001b[0mreshape\u001b[0m\u001b[0;34m.\u001b[0m\u001b[0mreshape\u001b[0m \u001b[0;32mimport\u001b[0m \u001b[0munstack\u001b[0m\u001b[0;34m\u001b[0m\u001b[0;34m\u001b[0m\u001b[0m\n\u001b[1;32m   3747\u001b[0m \u001b[0;34m\u001b[0m\u001b[0m\n\u001b[0;32m-> 3748\u001b[0;31m         \u001b[0;32mreturn\u001b[0m \u001b[0munstack\u001b[0m\u001b[0;34m(\u001b[0m\u001b[0mself\u001b[0m\u001b[0;34m,\u001b[0m \u001b[0mlevel\u001b[0m\u001b[0;34m,\u001b[0m \u001b[0mfill_value\u001b[0m\u001b[0;34m)\u001b[0m\u001b[0;34m\u001b[0m\u001b[0;34m\u001b[0m\u001b[0m\n\u001b[0m\u001b[1;32m   3749\u001b[0m \u001b[0;34m\u001b[0m\u001b[0m\n\u001b[1;32m   3750\u001b[0m     \u001b[0;31m# ----------------------------------------------------------------------\u001b[0m\u001b[0;34m\u001b[0m\u001b[0;34m\u001b[0m\u001b[0;34m\u001b[0m\u001b[0m\n",
            "\u001b[0;32m/usr/local/lib/python3.6/dist-packages/pandas/core/reshape/reshape.py\u001b[0m in \u001b[0;36munstack\u001b[0;34m(obj, level, fill_value)\u001b[0m\n\u001b[1;32m    421\u001b[0m             \u001b[0mlevel\u001b[0m\u001b[0;34m=\u001b[0m\u001b[0mlevel\u001b[0m\u001b[0;34m,\u001b[0m\u001b[0;34m\u001b[0m\u001b[0;34m\u001b[0m\u001b[0m\n\u001b[1;32m    422\u001b[0m             \u001b[0mfill_value\u001b[0m\u001b[0;34m=\u001b[0m\u001b[0mfill_value\u001b[0m\u001b[0;34m,\u001b[0m\u001b[0;34m\u001b[0m\u001b[0;34m\u001b[0m\u001b[0m\n\u001b[0;32m--> 423\u001b[0;31m             \u001b[0mconstructor\u001b[0m\u001b[0;34m=\u001b[0m\u001b[0mobj\u001b[0m\u001b[0;34m.\u001b[0m\u001b[0m_constructor_expanddim\u001b[0m\u001b[0;34m,\u001b[0m\u001b[0;34m\u001b[0m\u001b[0;34m\u001b[0m\u001b[0m\n\u001b[0m\u001b[1;32m    424\u001b[0m         )\n\u001b[1;32m    425\u001b[0m         \u001b[0;32mreturn\u001b[0m \u001b[0munstacker\u001b[0m\u001b[0;34m.\u001b[0m\u001b[0mget_result\u001b[0m\u001b[0;34m(\u001b[0m\u001b[0;34m)\u001b[0m\u001b[0;34m\u001b[0m\u001b[0;34m\u001b[0m\u001b[0m\n",
            "\u001b[0;32m/usr/local/lib/python3.6/dist-packages/pandas/core/reshape/reshape.py\u001b[0m in \u001b[0;36m__init__\u001b[0;34m(self, values, index, level, value_columns, fill_value, constructor)\u001b[0m\n\u001b[1;32m    140\u001b[0m \u001b[0;34m\u001b[0m\u001b[0m\n\u001b[1;32m    141\u001b[0m         \u001b[0mself\u001b[0m\u001b[0;34m.\u001b[0m\u001b[0m_make_sorted_values_labels\u001b[0m\u001b[0;34m(\u001b[0m\u001b[0;34m)\u001b[0m\u001b[0;34m\u001b[0m\u001b[0;34m\u001b[0m\u001b[0m\n\u001b[0;32m--> 142\u001b[0;31m         \u001b[0mself\u001b[0m\u001b[0;34m.\u001b[0m\u001b[0m_make_selectors\u001b[0m\u001b[0;34m(\u001b[0m\u001b[0;34m)\u001b[0m\u001b[0;34m\u001b[0m\u001b[0;34m\u001b[0m\u001b[0m\n\u001b[0m\u001b[1;32m    143\u001b[0m \u001b[0;34m\u001b[0m\u001b[0m\n\u001b[1;32m    144\u001b[0m     \u001b[0;32mdef\u001b[0m \u001b[0m_make_sorted_values_labels\u001b[0m\u001b[0;34m(\u001b[0m\u001b[0mself\u001b[0m\u001b[0;34m)\u001b[0m\u001b[0;34m:\u001b[0m\u001b[0;34m\u001b[0m\u001b[0;34m\u001b[0m\u001b[0m\n",
            "\u001b[0;32m/usr/local/lib/python3.6/dist-packages/pandas/core/reshape/reshape.py\u001b[0m in \u001b[0;36m_make_selectors\u001b[0;34m(self)\u001b[0m\n\u001b[1;32m    178\u001b[0m \u001b[0;34m\u001b[0m\u001b[0m\n\u001b[1;32m    179\u001b[0m         \u001b[0;32mif\u001b[0m \u001b[0mmask\u001b[0m\u001b[0;34m.\u001b[0m\u001b[0msum\u001b[0m\u001b[0;34m(\u001b[0m\u001b[0;34m)\u001b[0m \u001b[0;34m<\u001b[0m \u001b[0mlen\u001b[0m\u001b[0;34m(\u001b[0m\u001b[0mself\u001b[0m\u001b[0;34m.\u001b[0m\u001b[0mindex\u001b[0m\u001b[0;34m)\u001b[0m\u001b[0;34m:\u001b[0m\u001b[0;34m\u001b[0m\u001b[0;34m\u001b[0m\u001b[0m\n\u001b[0;32m--> 180\u001b[0;31m             \u001b[0;32mraise\u001b[0m \u001b[0mValueError\u001b[0m\u001b[0;34m(\u001b[0m\u001b[0;34m\"Index contains duplicate entries, \"\u001b[0m \u001b[0;34m\"cannot reshape\"\u001b[0m\u001b[0;34m)\u001b[0m\u001b[0;34m\u001b[0m\u001b[0;34m\u001b[0m\u001b[0m\n\u001b[0m\u001b[1;32m    181\u001b[0m \u001b[0;34m\u001b[0m\u001b[0m\n\u001b[1;32m    182\u001b[0m         \u001b[0mself\u001b[0m\u001b[0;34m.\u001b[0m\u001b[0mgroup_index\u001b[0m \u001b[0;34m=\u001b[0m \u001b[0mcomp_index\u001b[0m\u001b[0;34m\u001b[0m\u001b[0;34m\u001b[0m\u001b[0m\n",
            "\u001b[0;31mValueError\u001b[0m: Index contains duplicate entries, cannot reshape"
          ]
        }
      ]
    },
    {
      "cell_type": "code",
      "metadata": {
        "id": "n-xXJMS-Yg4s",
        "colab_type": "code",
        "colab": {}
      },
      "source": [
        "region = ['date', \"South Korea_nan\", \"Japan_nan\", \"Italy_nan\"]\n",
        "        \n",
        "p=pred[region]\n",
        "p.plot(marker='*',figsize=(24,14),title ='Major Areas Prediction')"
      ],
      "execution_count": 0,
      "outputs": []
    },
    {
      "cell_type": "code",
      "metadata": {
        "id": "nHUSFsd0WwC3",
        "colab_type": "code",
        "colab": {}
      },
      "source": [
        "p2=pred['China_Hubei']\n",
        "p2.plot(marker='o',figsize=(16,8),title ='Hubei Prediction')"
      ],
      "execution_count": 0,
      "outputs": []
    },
    {
      "cell_type": "code",
      "metadata": {
        "id": "R4eyB80DsKZA",
        "colab_type": "code",
        "colab": {}
      },
      "source": [
        "p=pd.DataFrame(p)"
      ],
      "execution_count": 0,
      "outputs": []
    },
    {
      "cell_type": "markdown",
      "metadata": {
        "id": "CrGaYE3LumzO",
        "colab_type": "text"
      },
      "source": [
        "\n",
        "## Prediction Heatmap"
      ]
    },
    {
      "cell_type": "code",
      "metadata": {
        "id": "BnNP9aEluW9S",
        "colab_type": "code",
        "colab": {}
      },
      "source": [
        "pip install gmplot"
      ],
      "execution_count": 0,
      "outputs": []
    },
    {
      "cell_type": "code",
      "metadata": {
        "id": "9DzoizKcuwDL",
        "colab_type": "code",
        "colab": {}
      },
      "source": [
        "# Import the necessary libraries\n",
        "import pandas as pd\n",
        "import gmplot\n",
        "# For improved table display in the notebook\n",
        "#from IPython.display import display\n",
        "import random "
      ],
      "execution_count": 0,
      "outputs": []
    },
    {
      "cell_type": "code",
      "metadata": {
        "id": "ErJO4Di4u_Gm",
        "colab_type": "code",
        "colab": {}
      },
      "source": [
        "heatmap=confirmed[['region','Lat','Long']]\n",
        "p_m=pred.T\n",
        "p_m=p_m.reset_index()\n",
        "heatmap_m=heatmap.merge(p_m,how='left',on='region')"
      ],
      "execution_count": 0,
      "outputs": []
    },
    {
      "cell_type": "code",
      "metadata": {
        "id": "BQ3XljtzC6g-",
        "colab_type": "code",
        "colab": {}
      },
      "source": [
        "heatmap_m.columns.values[61] #9/30/61"
      ],
      "execution_count": 0,
      "outputs": []
    },
    {
      "cell_type": "code",
      "metadata": {
        "id": "QCAkCPpmASho",
        "colab_type": "code",
        "colab": {}
      },
      "source": [
        "heatmap=pd.DataFrame()\n",
        "for i in range(0,len(heatmap_m)):\n",
        "  if heatmap_m.iloc[i,61].astype(int)==0: # heatmap_m.iloc[i,9] columns is the date we want to check\n",
        "    continue\n",
        "  #heatmap=heatmap.append(pd.concat([heatmap_m.iloc[i:(i+1),:]]*abs(heatmap_m.iloc[i,30].astype(int)), ignore_index=True,sort=False))\n",
        "  heatmap=heatmap.append(pd.concat([heatmap_m.iloc[i:(i+1),1:3]]*abs(heatmap_m.iloc[i,30].astype(int)), ignore_index=True,sort=False))\n"
      ],
      "execution_count": 0,
      "outputs": []
    },
    {
      "cell_type": "code",
      "metadata": {
        "id": "MBcMfsGuuvyB",
        "colab_type": "code",
        "colab": {}
      },
      "source": [
        "latitudes = heatmap['Lat']\n",
        "longitudes = heatmap['Long']\n",
        "# Creating the location we would like to initialize the focus on. \n",
        "# Parameters: Lattitude, Longitude, Zoom\n",
        "gmap = gmplot.GoogleMapPlotter(30.97564, 112.2707, 5)\n",
        "gmap.heatmap(latitudes, longitudes)\n",
        "# Generate the heatmap into an HTML file\n",
        "gmap.draw(\"Heatmap4-2020-02-18.html\")"
      ],
      "execution_count": 0,
      "outputs": []
    },
    {
      "cell_type": "code",
      "metadata": {
        "id": "zkXKuu1CJ7jc",
        "colab_type": "code",
        "colab": {}
      },
      "source": [
        ""
      ],
      "execution_count": 0,
      "outputs": []
    },
    {
      "cell_type": "code",
      "metadata": {
        "id": "15zSGQ9xZ2Qy",
        "colab_type": "code",
        "colab": {}
      },
      "source": [
        ""
      ],
      "execution_count": 0,
      "outputs": []
    }
  ]
}